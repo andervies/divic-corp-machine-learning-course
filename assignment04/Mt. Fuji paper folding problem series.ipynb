{
 "cells": [
  {
   "cell_type": "markdown",
   "id": "a855374c",
   "metadata": {},
   "source": [
    "# Problem 1"
   ]
  },
  {
   "cell_type": "code",
   "execution_count": 60,
   "id": "904381f1",
   "metadata": {},
   "outputs": [
    {
     "name": "stdout",
     "output_type": "stream",
     "text": [
      "The folded thickness would exceed Mt. Fuji on the 27th fold\n"
     ]
    }
   ],
   "source": [
    "MT_FUJI_HEIGHT = 3776\n",
    "THICKNESS = 0.00008\n",
    "fold = 1\n",
    "current_thickness = 0\n",
    "\n",
    "\n",
    "while current_thickness < MT_FUJI_HEIGHT:\n",
    "    current_thickness = THICKNESS * (2**fold)\n",
    "    fold += 1\n",
    "    \n",
    "print(f\"The folded thickness would exceed Mt. Fuji on the {fold}th fold\")"
   ]
  },
  {
   "cell_type": "markdown",
   "id": "b7c9eba9",
   "metadata": {},
   "source": [
    "# Problem 2"
   ]
  },
  {
   "cell_type": "code",
   "execution_count": 61,
   "id": "e7bc5428",
   "metadata": {},
   "outputs": [
    {
     "name": "stdout",
     "output_type": "stream",
     "text": [
      "It would take 70 folds to reach the closest non-sun star\n"
     ]
    }
   ],
   "source": [
    "# distance of the closest non-sun star to earth in meters\n",
    "NON_SUN_STAR = 4.0175 * (10**16)\n",
    "\n",
    "\n",
    "def compute_folds_from_height(height, initial_thickness = THICKNESS):\n",
    "    fold = 1\n",
    "    current_thickness = 0\n",
    "\n",
    "\n",
    "    while current_thickness < height:\n",
    "        current_thickness = initial_thickness * (2**fold)\n",
    "        fold += 1\n",
    " \n",
    "    return fold\n",
    "\n",
    "\n",
    "print(f\"It would take {compute_folds_from_height(NON_SUN_STAR)} folds to reach the closest non-sun star\")"
   ]
  },
  {
   "cell_type": "markdown",
   "id": "3c696754",
   "metadata": {},
   "source": [
    "# Problem 3"
   ]
  },
  {
   "cell_type": "code",
   "execution_count": 62,
   "id": "17d783a0",
   "metadata": {},
   "outputs": [
    {
     "name": "stdout",
     "output_type": "stream",
     "text": [
      "The length of paper that can be folded to reach the moon is 4.126466797618639e+21m\n",
      "The length of paper that can be folded to reach the Mt. Fuji is 240191985495.13556m\n",
      "The length of paper that can be folded to reach the closest star to the sun is 1.8583954332108855e+37m\n"
     ]
    }
   ],
   "source": [
    "# importing the math library for its pi value\n",
    "import math\n",
    "\n",
    "# Distance to moon in meters\n",
    "DISTANCE_TO_MOON = 384400 * 1000\n",
    "\n",
    "\n",
    "\n",
    "def calc_paper_length(folds):\n",
    "    length = (math.pi*THICKNESS/6) *(2**folds + 4)*(2**folds -1)\n",
    "    return length\n",
    "\n",
    "\n",
    "print(f\"The length of paper that can be folded to reach the moon is {calc_paper_length(compute_folds_from_height(DISTANCE_TO_MOON))}m\")\n",
    "print(f\"The length of paper that can be folded to reach the Mt. Fuji is {calc_paper_length(compute_folds_from_height(MT_FUJI_HEIGHT))}m\")\n",
    "print(f\"The length of paper that can be folded to reach the closest star to the sun is {calc_paper_length(compute_folds_from_height(NON_SUN_STAR))}m\")"
   ]
  },
  {
   "cell_type": "code",
   "execution_count": null,
   "id": "908182cb",
   "metadata": {},
   "outputs": [],
   "source": []
  },
  {
   "cell_type": "code",
   "execution_count": null,
   "id": "a86dc6f3",
   "metadata": {},
   "outputs": [],
   "source": []
  },
  {
   "cell_type": "code",
   "execution_count": null,
   "id": "e30b75f6",
   "metadata": {},
   "outputs": [],
   "source": []
  }
 ],
 "metadata": {
  "kernelspec": {
   "display_name": "Python 3 (ipykernel)",
   "language": "python",
   "name": "python3"
  },
  "language_info": {
   "codemirror_mode": {
    "name": "ipython",
    "version": 3
   },
   "file_extension": ".py",
   "mimetype": "text/x-python",
   "name": "python",
   "nbconvert_exporter": "python",
   "pygments_lexer": "ipython3",
   "version": "3.9.13"
  }
 },
 "nbformat": 4,
 "nbformat_minor": 5
}
