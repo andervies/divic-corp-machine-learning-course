{
 "cells": [
  {
   "cell_type": "markdown",
   "id": "55934204",
   "metadata": {},
   "source": [
    "# Problem 1"
   ]
  },
  {
   "cell_type": "code",
   "execution_count": 1,
   "id": "6d31ed61",
   "metadata": {},
   "outputs": [
    {
     "name": "stdout",
     "output_type": "stream",
     "text": [
      "Thickness:  703,687,441.78 meters\n"
     ]
    }
   ],
   "source": [
    "# This Code to calculates the thickness of paper when it is folded 43 times using the exponentiation operator\n",
    "\n",
    "THICKNESS = 0.00008\n",
    "\n",
    "folded_thickness = THICKNESS * (2 ** 43)\n",
    "\n",
    "print(\"Thickness: {: ,.2f} meters\".format(folded_thickness))"
   ]
  },
  {
   "cell_type": "markdown",
   "id": "e85f4630",
   "metadata": {},
   "source": [
    "# Problem 2"
   ]
  },
  {
   "cell_type": "code",
   "execution_count": 2,
   "id": "11aa61d2",
   "metadata": {},
   "outputs": [
    {
     "name": "stdout",
     "output_type": "stream",
     "text": [
      "Thickness:  703,687.44 kilometers\n"
     ]
    }
   ],
   "source": [
    "# converting the folded thickness in problem one from meters to kilometers\n",
    "\n",
    "print(\"Thickness: {: ,.2f} kilometers\".format(folded_thickness / 1000))"
   ]
  },
  {
   "cell_type": "markdown",
   "id": "714a0fb9",
   "metadata": {},
   "source": [
    "# Problem 3"
   ]
  },
  {
   "cell_type": "code",
   "execution_count": 3,
   "id": "655b4f0a",
   "metadata": {},
   "outputs": [
    {
     "name": "stdout",
     "output_type": "stream",
     "text": [
      "Thickness:  703,687.44 kilometers\n"
     ]
    }
   ],
   "source": [
    "# Using a for loop instead of the exponentiation operator this time\n",
    "\n",
    "folded_thickness = THICKNESS\n",
    "\n",
    "\n",
    "for _ in range (0, 43):\n",
    "    folded_thickness *= 2\n",
    "    \n",
    "print(\"Thickness: {: ,.2f} kilometers\".format(folded_thickness / 1000))"
   ]
  },
  {
   "cell_type": "markdown",
   "id": "b9cb728b",
   "metadata": {},
   "source": [
    "# Problem 4"
   ]
  },
  {
   "cell_type": "code",
   "execution_count": 4,
   "id": "ec3bee47",
   "metadata": {},
   "outputs": [
    {
     "name": "stdout",
     "output_type": "stream",
     "text": [
      "time : 5.0067901611328125e-05[s]\n"
     ]
    }
   ],
   "source": [
    "# checking the execution time of the code block when calculating the folded thickness using exponentiation\n",
    "# note that the nth value was increased from 43 to 100 for clearer differences\n",
    "\n",
    "import time\n",
    "\n",
    "start = time.time()\n",
    "\n",
    "folded_thickness = THICKNESS * (2 ** 100)\n",
    "\n",
    "elapsed_time = time.time() - start\n",
    "print(\"time : {}[s]\".format(elapsed_time))\n"
   ]
  },
  {
   "cell_type": "code",
   "execution_count": 5,
   "id": "6a8c523a",
   "metadata": {},
   "outputs": [
    {
     "name": "stdout",
     "output_type": "stream",
     "text": [
      "time : 8.082389831542969e-05[s]\n"
     ]
    }
   ],
   "source": [
    "# checking the execution time of the code block when calculating the folded thickness using the for statement\n",
    "# note that the nth value was increased from 43 to 100 for clearer differences\n",
    "\n",
    "start = time.time()\n",
    "\n",
    "for _ in range (0, 100):\n",
    "    folded_thickness *= 2\n",
    "\n",
    "elapsed_time = time.time() - start\n",
    "print(\"time : {}[s]\".format(elapsed_time))"
   ]
  },
  {
   "cell_type": "markdown",
   "id": "eec7ab65",
   "metadata": {},
   "source": [
    "### Comparing execution times using the %%timeit command"
   ]
  },
  {
   "cell_type": "code",
   "execution_count": 6,
   "id": "3915add0",
   "metadata": {},
   "outputs": [
    {
     "name": "stdout",
     "output_type": "stream",
     "text": [
      "346 ns ± 5.55 ns per loop (mean ± std. dev. of 7 runs, 1000000 loops each)\n"
     ]
    }
   ],
   "source": [
    "%%timeit THICKNESS = 0.00008\n",
    "\n",
    "folded_thickness = THICKNESS * (2 ** 100)"
   ]
  },
  {
   "cell_type": "code",
   "execution_count": 14,
   "id": "8bf5d35b",
   "metadata": {},
   "outputs": [
    {
     "name": "stdout",
     "output_type": "stream",
     "text": [
      "3.97 µs ± 89.4 ns per loop (mean ± std. dev. of 7 runs, 100000 loops each)\n"
     ]
    }
   ],
   "source": [
    "%%timeit folded_thickness = 0.00008\n",
    "\n",
    "for _ in range (0, 100): folded_thickness *= 2"
   ]
  },
  {
   "cell_type": "markdown",
   "id": "74326c01",
   "metadata": {},
   "source": [
    "# Problem 5"
   ]
  },
  {
   "cell_type": "code",
   "execution_count": 8,
   "id": "2064dd3f",
   "metadata": {},
   "outputs": [
    {
     "name": "stdout",
     "output_type": "stream",
     "text": [
      "44\n",
      "[8e-05, 0.00016, 0.00032, 0.00064, 0.00128, 0.00256, 0.00512, 0.01024, 0.02048, 0.04096, 0.08192, 0.16384, 0.32768, 0.65536, 1.31072, 2.62144, 5.24288, 10.48576, 20.97152, 41.94304, 83.88608, 167.77216, 335.54432, 671.08864, 1342.17728, 2684.35456, 5368.70912, 10737.41824, 21474.83648, 42949.67296, 85899.34592, 171798.69184, 343597.38368, 687194.76736, 1374389.53472, 2748779.06944, 5497558.13888, 10995116.27776, 21990232.55552, 43980465.11104, 87960930.22208, 175921860.44416, 351843720.88832, 703687441.77664]\n"
     ]
    }
   ],
   "source": [
    "# Saving the thickness at each nth value to a list and checking that the length of the list equals 44\n",
    "\n",
    "thickness_values = []\n",
    "current_thickness = THICKNESS\n",
    "thickness_values.append(current_thickness)\n",
    "\n",
    "\n",
    "for num in range (0, 43):\n",
    "    current_thickness *= 2\n",
    "    thickness_values.append(current_thickness)\n",
    "    \n",
    "print(len(thickness_values))\n",
    "print(thickness_values)"
   ]
  },
  {
   "cell_type": "markdown",
   "id": "08c52726",
   "metadata": {},
   "source": [
    "# Problem 6"
   ]
  },
  {
   "cell_type": "code",
   "execution_count": 9,
   "id": "2b426cfa",
   "metadata": {},
   "outputs": [
    {
     "data": {
      "image/png": "[encoded data removed]",
      "text/plain": [
       "<Figure size 640x480 with 1 Axes>"
      ]
     },
     "metadata": {},
     "output_type": "display_data"
    }
   ],
   "source": [
    "# Displaying the values in problem 5 on a line graph\n",
    "\n",
    "import matplotlib.pyplot as plt\n",
    "%matplotlib inline\n",
    "\n",
    "plt.title(\"Thickness of Folded Paper\")\n",
    "plt.xlabel(\"Number of Folds\")\n",
    "plt.ylabel(\"Thickness [m]\")\n",
    "plt.plot(thickness_values)\n",
    "plt.show()"
   ]
  },
  {
   "cell_type": "markdown",
   "id": "71c7d4d0",
   "metadata": {},
   "source": [
    "The thickness of the paper increases slowly at first, then more quickly as the number of folds increase. This behavior is best described by an exponential model."
   ]
  },
  {
   "cell_type": "markdown",
   "id": "49205c4d",
   "metadata": {},
   "source": [
    "# Problem 7"
   ]
  },
  {
   "cell_type": "code",
   "execution_count": 10,
   "id": "827d7b9c",
   "metadata": {},
   "outputs": [
    {
     "data": {
      "image/png": "[encoded data removed]",
      "text/plain": [
       "<Figure size 800x600 with 1 Axes>"
      ]
     },
     "metadata": {},
     "output_type": "display_data"
    }
   ],
   "source": [
    "# customizing the graph from problem 6\n",
    "\n",
    "plt.figure(figsize=(8,6))\n",
    "plt.title(\"Thickness of Folded Paper\")\n",
    "plt.xlabel(\"Number of Folds\", fontsize=12)\n",
    "plt.ylabel(\"Thickness [m]\", fontsize=12)\n",
    "plt.plot(thickness_values, color='purple', ls=(0, (1, 10)), linewidth=3)\n",
    "plt.tick_params(labelsize=10)\n",
    "plt.show()"
   ]
  }
 ],
 "metadata": {
  "kernelspec": {
   "display_name": "Python 3 (ipykernel)",
   "language": "python",
   "name": "python3"
  },
  "language_info": {
   "codemirror_mode": {
    "name": "ipython",
    "version": 3
   },
   "file_extension": ".py",
   "mimetype": "text/x-python",
   "name": "python",
   "nbconvert_exporter": "python",
   "pygments_lexer": "ipython3",
   "version": "3.9.13"
  }
 },
 "nbformat": 4,
 "nbformat_minor": 5
}
