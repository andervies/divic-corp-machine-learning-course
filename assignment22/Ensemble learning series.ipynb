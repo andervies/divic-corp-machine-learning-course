{
 "cells": [
  {
   "cell_type": "code",
   "execution_count": 46,
   "id": "daf729c9-15d6-4a2c-9b95-bf6146640ff4",
   "metadata": {},
   "outputs": [],
   "source": [
    "# Standard library imports\n",
    "import numpy as np\n",
    "import pandas as pd\n",
    "\n",
    "\n",
    "# Third-party imports\n",
    "import matplotlib.pyplot as plt\n",
    "from sklearn.datasets import make_moons\n",
    "from sklearn.model_selection import train_test_split, cross_val_score\n",
    "from sklearn.linear_model import LinearRegression, SGDClassifier\n",
    "from sklearn.tree import DecisionTreeClassifier, DecisionTreeRegressor\n",
    "from sklearn.svm import SVR\n",
    "from sklearn.preprocessing import StandardScaler\n",
    "from sklearn.ensemble import VotingClassifier\n",
    "from sklearn.neighbors import KNeighborsClassifier\n",
    "from sklearn.metrics import mean_squared_error, r2_score, mean_absolute_error\n",
    "from sklearn.ensemble import VotingRegressor, RandomForestRegressor\n",
    "from sklearn.linear_model import Lasso, Ridge"
   ]
  },
  {
   "cell_type": "markdown",
   "id": "89d80a47-d794-4cfb-8be4-9eaf9cedf2bc",
   "metadata": {},
   "source": [
    "## Problem One: Blending scratch mounting"
   ]
  },
  {
   "cell_type": "markdown",
   "id": "a0486aa7-f1c0-4379-9673-3f17e75c84ca",
   "metadata": {},
   "source": [
    "Training the individual models to be compared with the blended models"
   ]
  },
  {
   "cell_type": "code",
   "execution_count": 47,
   "id": "411cdf76-903a-452d-8768-16ed476e55af",
   "metadata": {},
   "outputs": [
    {
     "name": "stdout",
     "output_type": "stream",
     "text": [
      "Linear Regression Model Score (R^2): 0.6466337010342488\n",
      "Linear Regression Mean Squared Error (MSE) on Test Set: 2495554898.6683207\n"
     ]
    }
   ],
   "source": [
    "# Load the dataset\n",
    "data = pd.read_csv(\"train.csv\")\n",
    "\n",
    "# Select the columns for explanatory variables and the target variable\n",
    "features = data[['GrLivArea', 'YearBuilt']]\n",
    "target = data['SalePrice']\n",
    "\n",
    "# Split the dataset into training and validation sets (80% training, 20% validation)\n",
    "X_train, X_test, y_train, y_test = train_test_split(features, target, test_size=0.2, random_state=42)\n",
    "\n",
    "# Initialize and fit the linear regression model\n",
    "linear_regression_model = LinearRegression()\n",
    "linear_regression_model.fit(X_train, y_train)\n",
    "\n",
    "# Evaluate the linear regression model\n",
    "train_score = linear_regression_model.score(X_train, y_train)\n",
    "y_pred_lr = linear_regression_model.predict(X_test)\n",
    "mse_lr = mean_squared_error(y_test, y_pred_lr)\n",
    "\n",
    "print(\"Linear Regression Model Score (R^2):\", train_score)\n",
    "print(\"Linear Regression Mean Squared Error (MSE) on Test Set:\", mse_lr)"
   ]
  },
  {
   "cell_type": "code",
   "execution_count": 48,
   "id": "4aeb435a-a5d8-4bb8-a46a-8a73b459a884",
   "metadata": {},
   "outputs": [
    {
     "name": "stdout",
     "output_type": "stream",
     "text": [
      "SVR Model Score (R^2): -0.02265677064868643\n",
      "SVR Mean Squared Error (MSE): 7844111028.863974\n",
      "SVR Mean Absolute Error (MAE): 59452.55819034524\n",
      "SVR Root Mean Squared Error (RMSE): 88566.98611143982\n"
     ]
    }
   ],
   "source": [
    "# Initialize and fit the SVR model\n",
    "svr_model = SVR()\n",
    "svr_model.fit(X_train, y_train)\n",
    "\n",
    "# Make predictions using the SVR model\n",
    "y_pred_svr = svr_model.predict(X_test)\n",
    "\n",
    "# Evaluate the SVR model\n",
    "svr_score = svr_model.score(X_test, y_test)\n",
    "mse_svr = mean_squared_error(y_test, y_pred_svr)\n",
    "mae_svr = mean_absolute_error(y_test, y_pred_svr)\n",
    "rmse_svr = mean_squared_error(y_test, y_pred_svr, squared=False)\n",
    "\n",
    "print(\"SVR Model Score (R^2):\", svr_score)\n",
    "print(\"SVR Mean Squared Error (MSE):\", mse_svr)\n",
    "print(\"SVR Mean Absolute Error (MAE):\", mae_svr)\n",
    "print(\"SVR Root Mean Squared Error (RMSE):\", rmse_svr)"
   ]
  },
  {
   "cell_type": "code",
   "execution_count": 49,
   "id": "3bef524f-270f-4e9e-b7f2-877f78a0155a",
   "metadata": {},
   "outputs": [
    {
     "name": "stdout",
     "output_type": "stream",
     "text": [
      "Decision Tree Regressor Mean Absolute Error (MAE): 32199.97317351598\n",
      "Decision Tree Regressor Mean Squared Error (MSE): 2157809574.624524\n",
      "Decision Tree Regressor Root Mean Squared Error (RMSE): 46452.228952166806\n",
      "Decision Tree Regressor R-squared (R2) Score: 0.7186808596741755\n"
     ]
    }
   ],
   "source": [
    "# Initialize and fit the Decision Tree Regressor model\n",
    "decision_tree_regressor = DecisionTreeRegressor()\n",
    "decision_tree_regressor.fit(X_train, y_train)\n",
    "\n",
    "# Make predictions using the Decision Tree Regressor model\n",
    "y_pred_tree = decision_tree_regressor.predict(X_test)\n",
    "\n",
    "# Calculate evaluation metrics for the Decision Tree Regressor model\n",
    "mae_tree = mean_absolute_error(y_test, y_pred_tree)\n",
    "mse_tree = mean_squared_error(y_test, y_pred_tree)\n",
    "rmse_tree = mean_squared_error(y_test, y_pred_tree, squared=False)\n",
    "r2_tree = r2_score(y_test, y_pred_tree)\n",
    "\n",
    "print(\"Decision Tree Regressor Mean Absolute Error (MAE):\", mae_tree)\n",
    "print(\"Decision Tree Regressor Mean Squared Error (MSE):\", mse_tree)\n",
    "print(\"Decision Tree Regressor Root Mean Squared Error (RMSE):\", rmse_tree)\n",
    "print(\"Decision Tree Regressor R-squared (R2) Score:\", r2_tree)"
   ]
  },
  {
   "cell_type": "markdown",
   "id": "5bdde621-b172-4729-a080-508e681a3cc8",
   "metadata": {},
   "source": [
    "Now we train the blended models so we can compare their performances in contrast to the individual models"
   ]
  },
  {
   "cell_type": "code",
   "execution_count": 50,
   "id": "63e0e37b-b12b-4c98-9056-d232f6eb22f0",
   "metadata": {},
   "outputs": [
    {
     "name": "stdout",
     "output_type": "stream",
     "text": [
      "Blended Model Mean Absolute Error (MAE): 28474.657591678533\n",
      "Blended Model Mean Squared Error (MSE): 1692940084.552014\n",
      "Blended Model Root Mean Squared Error (RMSE): 41145.35313437004\n",
      "Blended Model R-squared (R2) Score: 0.7792870813022629\n"
     ]
    }
   ],
   "source": [
    "# Train diverse models\n",
    "linear_regression_model = LinearRegression()\n",
    "decision_tree_model = DecisionTreeRegressor()\n",
    "random_forest_model = RandomForestRegressor()\n",
    "\n",
    "linear_regression_model.fit(X_train, y_train)\n",
    "decision_tree_model.fit(X_train, y_train)\n",
    "random_forest_model.fit(X_train, y_train)\n",
    "\n",
    "# Generate predictions for the validation data\n",
    "pred_lr = linear_regression_model.predict(X_test)\n",
    "pred_dt = decision_tree_model.predict(X_test)\n",
    "pred_rf = random_forest_model.predict(X_test)\n",
    "\n",
    "# Combine predictions using blending (average)\n",
    "blended_pred = (pred_lr + pred_dt + pred_rf) / 3\n",
    "\n",
    "# Evaluate blended predictions\n",
    "mse_blended = mean_squared_error(y_test, blended_pred)\n",
    "mae_blended = mean_absolute_error(y_test, blended_pred)\n",
    "rmse_blended = mean_squared_error(y_test, blended_pred, squared=False)\n",
    "r2_blended = r2_score(y_test, blended_pred)\n",
    "\n",
    "print(\"Blended Model Mean Absolute Error (MAE):\", mae_blended)\n",
    "print(\"Blended Model Mean Squared Error (MSE):\", mse_blended)\n",
    "print(\"Blended Model Root Mean Squared Error (RMSE):\", rmse_blended)\n",
    "print(\"Blended Model R-squared (R2) Score:\", r2_blended)"
   ]
  },
  {
   "cell_type": "code",
   "execution_count": 51,
   "id": "9d41d51c-cfa1-44da-bec1-876a02f10a48",
   "metadata": {},
   "outputs": [
    {
     "name": "stdout",
     "output_type": "stream",
     "text": [
      "Blended Model Mean Absolute Error (MAE): 34596.97911401083\n",
      "Blended Model Mean Squared Error (MSE): 3330704630.293318\n",
      "Blended Model Root Mean Squared Error (RMSE): 57712.25719284698\n",
      "Blended Model R-squared (R2) Score: 0.5657675383906835\n"
     ]
    }
   ],
   "source": [
    "# Train diverse models using SVR, Ridge, and Lasso\n",
    "svr_model = SVR()\n",
    "ridge_model = Ridge()\n",
    "lasso_model = Lasso()\n",
    "\n",
    "# Fit the models\n",
    "svr_model.fit(X_train, y_train)\n",
    "ridge_model.fit(X_train, y_train)\n",
    "lasso_model.fit(X_train, y_train)\n",
    "\n",
    "# Generate predictions for the test data\n",
    "pred_svr = svr_model.predict(X_test)\n",
    "pred_ridge = ridge_model.predict(X_test)\n",
    "pred_lasso = lasso_model.predict(X_test)\n",
    "\n",
    "# Combine predictions using blending (average)\n",
    "blended_predictions = (pred_svr + pred_ridge + pred_lasso) / 3\n",
    "\n",
    "# Evaluate blended predictions\n",
    "mse_blended = mean_squared_error(y_test, blended_predictions)\n",
    "mae_blended = mean_absolute_error(y_test, blended_predictions)\n",
    "rmse_blended = mean_squared_error(y_test, blended_predictions, squared=False)\n",
    "r2_blended = r2_score(y_test, blended_predictions)\n",
    "\n",
    "print(\"Blended Model Mean Absolute Error (MAE):\", mae_blended)\n",
    "print(\"Blended Model Mean Squared Error (MSE):\", mse_blended)\n",
    "print(\"Blended Model Root Mean Squared Error (RMSE):\", rmse_blended)\n",
    "print(\"Blended Model R-squared (R2) Score:\", r2_blended)"
   ]
  },
  {
   "cell_type": "code",
   "execution_count": 52,
   "id": "cad340b0-9a55-45d2-9f3b-d60f9e7ab0e0",
   "metadata": {},
   "outputs": [],
   "source": [
    "#voting classifier for regression"
   ]
  },
  {
   "cell_type": "code",
   "execution_count": 53,
   "id": "729a212b-4278-435a-a6f2-abce92e8ba2d",
   "metadata": {},
   "outputs": [
    {
     "name": "stdout",
     "output_type": "stream",
     "text": [
      "Voting Regressor Mean Squared Error (MSE): 1737699385.943962\n",
      "Voting Regressor Mean Absolute Error (MAE): 28676.5185846732\n",
      "Voting Regressor Root Mean Squared Error (RMSE): 41685.721607571606\n",
      "Voting Regressor R-squared (R2) Score: 0.7734516969674992\n"
     ]
    }
   ],
   "source": [
    "# Initialize individual regressors\n",
    "linear_regression_model = LinearRegression()\n",
    "decision_tree_model = DecisionTreeRegressor()\n",
    "random_forest_model = RandomForestRegressor()\n",
    "\n",
    "# Create a list of tuples, where each tuple contains a name and the regressor\n",
    "estimators = [\n",
    "    ('linear', linear_regression_model),\n",
    "    ('decision_tree', decision_tree_model),\n",
    "    ('random_forest', random_forest_model)\n",
    "]\n",
    "\n",
    "# Initialize the voting regressor\n",
    "voting_regressor = VotingRegressor(estimators)\n",
    "\n",
    "# Fit the voting regressor on the training data\n",
    "voting_regressor.fit(X_train, y_train)\n",
    "\n",
    "# Generate predictions for the test data\n",
    "y_pred_voting = voting_regressor.predict(X_test)\n",
    "\n",
    "# Evaluate the performance of the voting regressor\n",
    "mse_voting = mean_squared_error(y_test, y_pred_voting)\n",
    "mae_voting = mean_absolute_error(y_test, y_pred_voting)\n",
    "rmse_voting = mean_squared_error(y_test, y_pred_voting, squared=False)\n",
    "r2_voting = r2_score(y_test, y_pred_voting)\n",
    "\n",
    "print(\"Voting Regressor Mean Squared Error (MSE):\", mse_voting)\n",
    "print(\"Voting Regressor Mean Absolute Error (MAE):\", mae_voting)\n",
    "print(\"Voting Regressor Root Mean Squared Error (RMSE):\", rmse_voting)\n",
    "print(\"Voting Regressor R-squared (R2) Score:\", r2_voting)"
   ]
  },
  {
   "cell_type": "markdown",
   "id": "6e512ce2-9a76-4dad-862f-acecf4d2eb04",
   "metadata": {},
   "source": [
    "## Problem Two: Scratch mounting of bagging"
   ]
  },
  {
   "cell_type": "code",
   "execution_count": 54,
   "id": "bb497bd5-f596-4bf4-8cea-5b56e8306b21",
   "metadata": {
    "scrolled": true
   },
   "outputs": [
    {
     "name": "stdout",
     "output_type": "stream",
     "text": [
      "Bagging Mean Absolute Error (MAE): 28550.185803979126\n",
      "Bagging Mean Squared Error (MSE): 1611641783.6645823\n",
      "Bagging Root Mean Squared Error (RMSE): 40145.2585452452\n",
      "Bagging R-squared (R2) Score: 0.7898861482378067\n"
     ]
    }
   ],
   "source": [
    "# Define the number of base models (trees) to train\n",
    "n_estimators = 10\n",
    "\n",
    "# Initialize a list to store the base models\n",
    "base_models = []\n",
    "\n",
    "# Initialize a list to store the predictions of each base model\n",
    "predictions = []\n",
    "\n",
    "# Train multiple instances of the base model on different subsets of the training data\n",
    "for i in range(n_estimators):\n",
    "    # Sample with replacement from the training data to create a bootstrap sample\n",
    "    bootstrap_indices = np.random.choice(len(X_train), size=len(X_train), replace=True)\n",
    "    X_bootstrap = X_train.iloc[bootstrap_indices]\n",
    "    y_bootstrap = y_train.iloc[bootstrap_indices]\n",
    "    \n",
    "    # Initialize and train the base model (Decision Tree Regressor)\n",
    "    base_model = DecisionTreeRegressor()\n",
    "    base_model.fit(X_bootstrap, y_bootstrap)\n",
    "    \n",
    "    # Make predictions on the test data\n",
    "    y_pred_base = base_model.predict(X_test)\n",
    "    \n",
    "    # Store the base model and its predictions\n",
    "    base_models.append(base_model)\n",
    "    predictions.append(y_pred_base)\n",
    "\n",
    "# Combine the predictions of all base models by averaging\n",
    "bagged_predictions = np.mean(predictions, axis=0)\n",
    "\n",
    "# Evaluate the performance of bagging\n",
    "mse_bagging = mean_squared_error(y_test, bagged_predictions)\n",
    "mae_bagging = mean_absolute_error(y_test, bagged_predictions)\n",
    "rmse_bagging = mean_squared_error(y_test, bagged_predictions, squared=False)\n",
    "r2_bagging = r2_score(y_test, bagged_predictions)\n",
    "\n",
    "print(\"Bagging Mean Absolute Error (MAE):\", mae_bagging)\n",
    "print(\"Bagging Mean Squared Error (MSE):\", mse_bagging)\n",
    "print(\"Bagging Root Mean Squared Error (RMSE):\", rmse_bagging)\n",
    "print(\"Bagging R-squared (R2) Score:\", r2_bagging)"
   ]
  },
  {
   "cell_type": "markdown",
   "id": "c1218eb1-6bc0-4992-a137-5ac8e2d13a6e",
   "metadata": {},
   "source": [
    "There are notable differences across the various metrics of the individual models in contrast to the ensembled models. The ensembled models seem to perform better on the test data, we can confirm this by their lower error numbers across the evaluation metrics."
   ]
  },
  {
   "cell_type": "markdown",
   "id": "565c4e1f-69b1-4b60-afe7-b2d2c30f40dd",
   "metadata": {},
   "source": [
    "## problem Three: Stacking scratch mounting"
   ]
  },
  {
   "cell_type": "code",
   "execution_count": 55,
   "id": "488b00b2-27ab-415e-8566-38cd2f7db597",
   "metadata": {},
   "outputs": [
    {
     "name": "stdout",
     "output_type": "stream",
     "text": [
      "Stacking Mean Absolute Error (MAE): 33381.17483049444\n",
      "Stacking Mean Squared Error (MSE): 2487751697.93969\n",
      "Stacking Root Mean Squared Error (RMSE): 49877.36658986408\n",
      "Stacking R-squared (R2) Score: 0.6151261228127817\n"
     ]
    }
   ],
   "source": [
    "# Define the number of base models to train\n",
    "n_estimators = 3\n",
    "\n",
    "# Initialize lists to store base models and their predictions\n",
    "base_models = []\n",
    "base_predictions = []\n",
    "\n",
    "# Split the data into training and validation sets for base models\n",
    "X_train_base, X_valid_base, y_train_base, y_valid_base = train_test_split(X_train, y_train, test_size=0.2, random_state=42)\n",
    "\n",
    "# Train multiple base models\n",
    "for i in range(n_estimators):\n",
    "    # Initialize a base model (Decision Tree Regressor)\n",
    "    base_model = DecisionTreeRegressor()\n",
    "    \n",
    "    # Fit the base model to the training data\n",
    "    base_model.fit(X_train_base, y_train_base)\n",
    "    \n",
    "    # Make predictions on the validation data\n",
    "    base_pred = base_model.predict(X_valid_base)\n",
    "    \n",
    "    # Store the base model and its predictions\n",
    "    base_models.append(base_model)\n",
    "    base_predictions.append(base_pred)\n",
    "\n",
    "# Stack the predictions of base models along with the original features\n",
    "X_stacked = np.column_stack(base_predictions)\n",
    "\n",
    "# Train a meta-model (Linear Regression) on the stacked predictions\n",
    "meta_model = LinearRegression()\n",
    "meta_model.fit(X_stacked, y_valid_base)\n",
    "\n",
    "# Generate predictions for the validation data using the meta-model\n",
    "meta_predictions = meta_model.predict(X_stacked)\n",
    "\n",
    "# Evaluate the performance of stacking\n",
    "mse_stacking = mean_squared_error(y_valid_base, meta_predictions)\n",
    "mae_stacking = mean_absolute_error(y_valid_base, meta_predictions)\n",
    "rmse_stacking = mean_squared_error(y_valid_base, meta_predictions, squared=False)\n",
    "r2_stacking = r2_score(y_valid_base, meta_predictions)\n",
    "\n",
    "print(\"Stacking Mean Absolute Error (MAE):\", mae_stacking)\n",
    "print(\"Stacking Mean Squared Error (MSE):\", mse_stacking)\n",
    "print(\"Stacking Root Mean Squared Error (RMSE):\", rmse_stacking)\n",
    "print(\"Stacking R-squared (R2) Score:\", r2_stacking)"
   ]
  },
  {
   "cell_type": "code",
   "execution_count": null,
   "id": "50862a6b-9f39-413e-b51a-a3f4069a2cbe",
   "metadata": {},
   "outputs": [],
   "source": []
  },
  {
   "cell_type": "code",
   "execution_count": null,
   "id": "ac8f69a6-0307-4686-96ab-f26ea9e1abef",
   "metadata": {},
   "outputs": [],
   "source": []
  },
  {
   "cell_type": "code",
   "execution_count": null,
   "id": "b140f454-508c-48ad-8f3a-75a9ed3a49d1",
   "metadata": {},
   "outputs": [],
   "source": []
  }
 ],
 "metadata": {
  "kernelspec": {
   "display_name": "Python 3 (ipykernel)",
   "language": "python",
   "name": "python3"
  },
  "language_info": {
   "codemirror_mode": {
    "name": "ipython",
    "version": 3
   },
   "file_extension": ".py",
   "mimetype": "text/x-python",
   "name": "python",
   "nbconvert_exporter": "python",
   "pygments_lexer": "ipython3",
   "version": "3.11.7"
  }
 },
 "nbformat": 4,
 "nbformat_minor": 5
}
