{
 "cells": [
  {
   "cell_type": "code",
   "execution_count": 68,
   "metadata": {
    "id": "MJHch2IvnS4-"
   },
   "outputs": [],
   "source": [
    "import numpy as np\n",
    "from keras.datasets import mnist\n",
    "from sklearn.preprocessing import OneHotEncoder\n",
    "from sklearn.metrics import accuracy_score, precision_score, recall_score, f1_score, confusion_matrix\n",
    "import matplotlib.pyplot as plt\n",
    "from sklearn.model_selection import train_test_split"
   ]
  },
  {
   "cell_type": "code",
   "execution_count": 69,
   "metadata": {
    "colab": {
     "base_uri": "https://localhost:8080/"
    },
    "id": "8b9JjncAnnEz",
    "outputId": "ec855475-3e14-42cc-d24d-f7bc7921ee89"
   },
   "outputs": [
    {
     "name": "stdout",
     "output_type": "stream",
     "text": [
      "y_train shape: (30000,)\n",
      "y_train_one_hot shape: (30000, 10)\n",
      "y_train_one_hot dtype: float64\n"
     ]
    }
   ],
   "source": [
    "# Load MNIST data\n",
    "(X_train, y_train), (X_test, y_test) = mnist.load_data()\n",
    "\n",
    "# Limit the dataset to the first 30000 samples for both training and testing\n",
    "num_samples = 30000\n",
    "X_train, y_train = X_train[:num_samples], y_train[:num_samples]\n",
    "X_test, y_test = X_test[:num_samples], y_test[:num_samples]\n",
    "\n",
    "# Reshape and normalize the data\n",
    "X_train = X_train.reshape(-1, 784).astype(np.float32) / 255\n",
    "X_test = X_test.reshape(-1, 784).astype(np.float32) / 255\n",
    "\n",
    "# One-hot encode the labels\n",
    "encoder = OneHotEncoder(handle_unknown='ignore', sparse_output=False)\n",
    "y_train_one_hot = encoder.fit_transform(y_train[:, np.newaxis])\n",
    "y_test_one_hot = encoder.transform(y_test[:, np.newaxis])\n",
    "\n",
    "# Print shapes and types for verification\n",
    "print(\"y_train shape:\", y_train.shape)\n",
    "print(\"y_train_one_hot shape:\", y_train_one_hot.shape)\n",
    "print(\"y_train_one_hot dtype:\", y_train_one_hot.dtype)"
   ]
  },
  {
   "cell_type": "code",
   "execution_count": 70,
   "metadata": {
    "colab": {
     "base_uri": "https://localhost:8080/"
    },
    "id": "DuapwKNcnzzQ",
    "outputId": "c2183f75-4676-4c92-fa81-2a265d0f3bdd"
   },
   "outputs": [
    {
     "name": "stdout",
     "output_type": "stream",
     "text": [
      "X_train_split shape: (24000, 784)\n",
      "X_val shape: (6000, 784)\n",
      "y_train_split shape: (24000, 10)\n",
      "y_val shape: (6000, 10)\n"
     ]
    }
   ],
   "source": [
    "# Split the training data into training and validation sets\n",
    "X_train_split, X_val, y_train_split, y_val = train_test_split(X_train, y_train_one_hot, test_size=0.2, random_state=42)\n",
    "\n",
    "# Print shapes for verification\n",
    "print(\"X_train_split shape:\", X_train_split.shape)\n",
    "print(\"X_val shape:\", X_val.shape)\n",
    "print(\"y_train_split shape:\", y_train_split.shape)\n",
    "print(\"y_val shape:\", y_val.shape)"
   ]
  },
  {
   "cell_type": "code",
   "execution_count": 71,
   "metadata": {
    "id": "63qBDZILn-B2"
   },
   "outputs": [],
   "source": [
    "class GetMiniBatch:\n",
    "\n",
    "    def __init__(self, X, y, batch_size = 20, seed=0):\n",
    "        self.batch_size = batch_size\n",
    "        np.random.seed(seed)\n",
    "        shuffle_index = np.random.permutation(np.arange(X.shape[0]))\n",
    "        self._X = X[shuffle_index]\n",
    "        self._y = y[shuffle_index]\n",
    "        self._stop = np.ceil(X.shape[0]/self.batch_size).astype(int)\n",
    "\n",
    "    def __len__(self):\n",
    "        return self._stop\n",
    "\n",
    "    def __getitem__(self,item):\n",
    "        p0 = item*self.batch_size\n",
    "        p1 = item*self.batch_size + self.batch_size\n",
    "        return self._X[p0:p1], self._y[p0:p1]\n",
    "\n",
    "    def __iter__(self):\n",
    "        self._counter = 0\n",
    "        return self\n",
    "\n",
    "    def __next__(self):\n",
    "        if self._counter >= self._stop:\n",
    "            raise StopIteration()\n",
    "        p0 = self._counter*self.batch_size\n",
    "        p1 = self._counter*self.batch_size + self.batch_size\n",
    "        self._counter += 1\n",
    "        return self._X[p0:p1], self._y[p0:p1]\n",
    "\n",
    "get_mini_batch = GetMiniBatch(X_train, y_train_one_hot, batch_size=20)\n",
    "for mini_X_train, mini_y_train in get_mini_batch:\n",
    "    mini_X_train, mini_y_train\n",
    "mini_X_train = mini_X_train.reshape(20, 1, 28, 28)"
   ]
  },
  {
   "cell_type": "code",
   "execution_count": 72,
   "metadata": {
    "id": "G-ItDfjaoEjr"
   },
   "outputs": [],
   "source": [
    "class SimpleInitializer:\n",
    "\n",
    "    def __init__(self, sigma=0.01):\n",
    "        self.sigma = sigma\n",
    "\n",
    "    def W(self,f_num, Chanel, f_size_h, f_size_w):\n",
    "        np.random.seed(0)\n",
    "        self.W = self.sigma * np.random.randn(f_num, Chanel, f_size_h, f_size_w)\n",
    "        return self.W\n",
    "\n",
    "    def B(self, f_num):\n",
    "        np.random.seed(0)\n",
    "        self.B = self.sigma * np.random.randn(f_num,1)\n",
    "        return self.B\n",
    "\n",
    "class XavierInitializer:\n",
    "\n",
    "    def __init__(self, sigma = 0.01):\n",
    "        self.sigma = sigma\n",
    "\n",
    "    def W(self,f_num, Chanel, f_size_h, f_size_w):\n",
    "        self.sigma = (1 / np.sqrt(f_num))\n",
    "        np.random.seed(0)\n",
    "        self.W = self.sigma * np.random.randn(f_num, Chanel, f_size_h, f_size_w)\n",
    "        return self.W\n",
    "\n",
    "    def B(self,f_num):\n",
    "        np.random.seed(0)\n",
    "        self.sigma = (1 / np.sqrt(f_num))\n",
    "        self.B = self.sigma * np.random.randn(f_num,1)\n",
    "        return self.B\n",
    "\n",
    "class He:\n",
    "\n",
    "    def __init__(self, sigma = 0.01):\n",
    "        self.sigma = sigma\n",
    "\n",
    "    def W(self, f_num, Chanel, f_size_h, f_size_w):\n",
    "        sigma = np.sqrt(2 / 1)\n",
    "        np.random.seed(0)\n",
    "        self.W = sigma * np.random.randn(f_num, Chanel, f_size_h, f_size_w)\n",
    "        return self.W\n",
    "\n",
    "    def B(self,f_num):\n",
    "        sigma = np.sqrt(2 / 1)\n",
    "        np.random.seed(0)\n",
    "        self.B = sigma * np.random.randn(f_num,1)\n",
    "        return self.B\n",
    "\n",
    "class SGD:\n",
    "\n",
    "    def __init__(self, lr=0.001):\n",
    "        self.lr = lr\n",
    "\n",
    "    def update(self,layer):\n",
    "\n",
    "        layer.W -= (self.lr * layer.dW)\n",
    "        layer.B -= (self.lr * layer.dB)\n",
    "        return layer.W, layer.B"
   ]
  },
  {
   "cell_type": "code",
   "execution_count": 73,
   "metadata": {
    "id": "_i9lRH3BoKQX"
   },
   "outputs": [],
   "source": [
    "def output_height_calculation(X_h,pad_n,F_h,stride):\n",
    "    output_h = (X_h + 2*pad_n - F_h)//stride + 1\n",
    "    return output_h"
   ]
  },
  {
   "cell_type": "code",
   "execution_count": 74,
   "metadata": {
    "id": "cf_7yrNWoONs"
   },
   "outputs": [],
   "source": [
    "def output_width_calculation(X_w,pad_n,F_w,stride):\n",
    "    output_w = (X_w + 2*pad_n - F_w)//stride + 1\n",
    "    return output_w"
   ]
  },
  {
   "cell_type": "code",
   "execution_count": 75,
   "metadata": {
    "id": "RiaLeIw-oO1u"
   },
   "outputs": [],
   "source": [
    "def im2col(input_data, filter_h, filter_w, stride=1, pad=0):\n",
    "    N, C, H, W = input_data.shape\n",
    "    out_h = output_height_calculation(X_h=H,pad_n=pad, F_h=filter_h, stride=stride)\n",
    "    out_w = output_width_calculation(X_w=W,pad_n=pad, F_w=filter_w, stride=stride)\n",
    "    img = np.pad(input_data, [(0,0), (0,0), (pad, pad), (pad, pad)], 'constant')\n",
    "    col = np.zeros((N, C, filter_h, filter_w, out_h, out_w))\n",
    "\n",
    "    for y in range(filter_h):\n",
    "        y_max = y + stride*out_h\n",
    "        for x in range(filter_w):\n",
    "            x_max = x + stride*out_w\n",
    "            col[:, :, y, x, :, :] = img[:, :, y:y_max:stride, x:x_max:stride]\n",
    "\n",
    "    col = col.transpose(0, 4, 5, 1, 2, 3).reshape(N*out_h*out_w, -1)\n",
    "    return col"
   ]
  },
  {
   "cell_type": "code",
   "execution_count": 76,
   "metadata": {
    "id": "wP4jhjeBoRga"
   },
   "outputs": [],
   "source": [
    "def col2im(col, X, filter_h, filter_w, stride=1, pad=0):\n",
    "    N, C, H, W = X.shape\n",
    "    out_h = output_height_calculation(X_h=H,pad_n=pad, F_h=filter_h, stride=stride)\n",
    "    out_w = output_width_calculation(X_w=W,pad_n=pad, F_w=filter_w, stride=stride)\n",
    "    col = col.reshape(N, out_h, out_w, C, filter_h, filter_w).transpose(0, 3, 4, 5, 1, 2)\n",
    "\n",
    "    img = np.zeros((N, C, H + 2*pad + stride - 1, W + 2*pad + stride - 1))\n",
    "    for y in range(filter_h):\n",
    "        y_max = y + stride*out_h\n",
    "        for x in range(filter_w):\n",
    "            x_max = x + stride*out_w\n",
    "            img[:, :, y:y_max:stride, x:x_max:stride] += col[:, :, y, x, :, :]\n",
    "\n",
    "    return img[:, :, pad:H + pad, pad:W + pad]"
   ]
  },
  {
   "cell_type": "markdown",
   "metadata": {
    "id": "889vyj5yn87l"
   },
   "source": [
    "## Problem One: Creating a 2-D convolutional layer"
   ]
  },
  {
   "cell_type": "code",
   "execution_count": 77,
   "metadata": {
    "id": "DNOJBf0KoZ-S"
   },
   "outputs": [],
   "source": [
    "class SimpleConv2d:\n",
    "\n",
    "    def __init__(self, f_num=1, f_size_h=2, f_size_w=2, stride=1, pad = 1, initializer=XavierInitializer(), optimizer=SGD(lr=0.05)):\n",
    "\n",
    "        self.f_num = f_num\n",
    "        self.f_size_h = f_size_h\n",
    "        self.f_size_w = f_size_w\n",
    "        self.pad = pad\n",
    "        self.stride = stride\n",
    "        self.kernel  = None\n",
    "        self.initializer = initializer\n",
    "        self.optimizer = optimizer\n",
    "        self.W = None\n",
    "        self.B = None\n",
    "\n",
    "    def im2col(self, input_data):\n",
    "        N, C, H, W = input_data.shape\n",
    "        out_h = output_height_calculation(X_h=H,pad_n=self.pad, F_h= self.f_size_h, stride=self.stride)\n",
    "        out_w = output_width_calculation(X_w=W,pad_n=self.pad, F_w=self.f_size_w, stride=self.stride)\n",
    "        img = np.pad(input_data, [(0,0), (0,0), (self.pad, self.pad), (self.pad, self.pad)], 'constant')\n",
    "        col = np.zeros((N, C, self.f_size_h, self.f_size_w, out_h, out_w))\n",
    "\n",
    "        for y in range(self.f_size_h):\n",
    "            y_max = y + self.stride*out_h\n",
    "            for x in range(self.f_size_w):\n",
    "                x_max = x + self.stride*out_w\n",
    "                col[:, :, y, x, :, :] = img[:, :, y:y_max:self.stride, x:x_max:self.stride]\n",
    "\n",
    "        col = col.transpose(0, 4, 5, 1, 2, 3).reshape(N*out_h*out_w, -1)\n",
    "        return col\n",
    "\n",
    "    def col2im(self, col, X):\n",
    "        N, C, H, W = X.shape\n",
    "        out_h = output_height_calculation(X_h=H,pad_n=self.pad, F_h=self.f_size_h, stride=self.stride)\n",
    "        out_w = output_width_calculation(X_w=W,pad_n=self.pad, F_w=self.f_size_w, stride=self.stride)\n",
    "        col = col.reshape(N, out_h, out_w, C, self.f_size_h, self.f_size_w).transpose(0, 3, 4, 5, 1, 2)\n",
    "        img = np.zeros((N, C, H + 2*self.pad + self.stride - 1, W + 2*self.pad + self.stride - 1))\n",
    "\n",
    "        for y in range(self.f_size_h):\n",
    "            y_max = y + self.stride*out_h\n",
    "            for x in range(self.f_size_w):\n",
    "                x_max = x + self.stride*out_w\n",
    "                img[:, :, y:y_max:self.stride, x:x_max:self.stride] += col[:, :, y, x, :, :]\n",
    "        return img[:, :, self.pad:H + self.pad, self.pad:W + self.pad]\n",
    "\n",
    "    def forward(self,X):\n",
    "        if self.W is None:\n",
    "            self.W = self.initializer.W(self.f_num, X.shape[1], self.f_size_h , self.f_size_w)\n",
    "        if self.B is None:\n",
    "            self.B = self.initializer.B(self.f_num)\n",
    "        FN, C, FH, FW = self.W.shape\n",
    "        N, C, H, W = X.shape\n",
    "        out_h = output_height_calculation(X_h=H,pad_n=self.pad, F_h=self.f_size_h, stride=self.stride)\n",
    "        out_w = output_width_calculation(X_w=W,pad_n=self.pad, F_w=self.f_size_w, stride=self.stride)\n",
    "\n",
    "        self.col = self.im2col(X)\n",
    "        self.col_W = self.W.reshape(FN, -1).T\n",
    "        out = np.dot(self.col, self.col_W) + self.B.T\n",
    "        out = out.reshape(N, out_h, out_w, -1).transpose(0,3,1,2)\n",
    "        self.X = X\n",
    "        return out\n",
    "\n",
    "    def backward(self,dout):\n",
    "        FN, C, FH, FW = self.W.shape\n",
    "        dout = dout.transpose(0,2,3,1).reshape(-1, FN)\n",
    "        self.dB = np.sum(dout, axis=0).reshape(self.f_num,1)\n",
    "        self.dW = np.dot(self.col.T, dout)\n",
    "        self.dW = self.dW.transpose(1, 0).reshape(FN, C, FH, FW)\n",
    "\n",
    "        dcol = np.dot(dout, self.col_W.T)\n",
    "        self.dx = self.col2im(dcol,self.X)\n",
    "\n",
    "        return self.dx\n",
    "        self = self.optimizer.update(self)"
   ]
  },
  {
   "cell_type": "code",
   "execution_count": 78,
   "metadata": {
    "id": "eUcIp_87ofAe"
   },
   "outputs": [],
   "source": [
    "model_test = SimpleConv2d(f_num=3, f_size_h=3,  f_size_w=3, stride=1, pad=1, initializer=SimpleInitializer())"
   ]
  },
  {
   "cell_type": "markdown",
   "metadata": {
    "id": "u_-f-jpIpPgP"
   },
   "source": [
    "## Problem Two:Experiment of 2D convolvolation layer in small array"
   ]
  },
  {
   "cell_type": "code",
   "execution_count": 79,
   "metadata": {
    "id": "DgIl9FGWpIIs"
   },
   "outputs": [],
   "source": [
    "conv_output = model_test.forward(mini_X_train)"
   ]
  },
  {
   "cell_type": "code",
   "execution_count": 80,
   "metadata": {
    "colab": {
     "base_uri": "https://localhost:8080/"
    },
    "id": "ihr2_xBbogog",
    "outputId": "e681007c-608e-41ff-c21e-6ccfc0178bd9"
   },
   "outputs": [
    {
     "data": {
      "text/plain": [
       "array([[[[1.25967230e-03, 1.01337586e-03, 1.01337586e-03, ...,\n",
       "          1.01337586e-03, 1.01337586e-03, 1.65385372e-04],\n",
       "         [1.55351675e-03, 1.28528097e-03, 1.28528097e-03, ...,\n",
       "          1.28528097e-03, 1.28528097e-03, 3.41881849e-05],\n",
       "         [1.55351675e-03, 1.28528097e-03, 1.28528097e-03, ...,\n",
       "          1.28528097e-03, 1.28528097e-03, 3.41881849e-05],\n",
       "         ...,\n",
       "         [1.55351675e-03, 1.28528097e-03, 1.28528097e-03, ...,\n",
       "          1.28528097e-03, 1.28528097e-03, 3.41881849e-05],\n",
       "         [1.55351675e-03, 1.28528097e-03, 1.28528097e-03, ...,\n",
       "          1.28528097e-03, 1.28528097e-03, 3.41881849e-05],\n",
       "         [1.20249692e-03, 9.53283644e-04, 9.53283644e-04, ...,\n",
       "          9.53283644e-04, 9.53283644e-04, 6.04504498e-05]]],\n",
       "\n",
       "\n",
       "       [[[1.25967230e-03, 1.01337586e-03, 1.01337586e-03, ...,\n",
       "          1.01337586e-03, 1.01337586e-03, 1.65385372e-04],\n",
       "         [1.55351675e-03, 1.28528097e-03, 1.28528097e-03, ...,\n",
       "          1.28528097e-03, 1.28528097e-03, 3.41881849e-05],\n",
       "         [1.55351675e-03, 1.28528097e-03, 1.28528097e-03, ...,\n",
       "          1.28528097e-03, 1.28528097e-03, 3.41881849e-05],\n",
       "         ...,\n",
       "         [1.55351675e-03, 1.28528097e-03, 1.28528097e-03, ...,\n",
       "          1.28528097e-03, 1.28528097e-03, 3.41881849e-05],\n",
       "         [1.55351675e-03, 1.28528097e-03, 1.28528097e-03, ...,\n",
       "          1.28528097e-03, 1.28528097e-03, 3.41881849e-05],\n",
       "         [1.20249692e-03, 9.53283644e-04, 9.53283644e-04, ...,\n",
       "          9.53283644e-04, 9.53283644e-04, 6.04504498e-05]]],\n",
       "\n",
       "\n",
       "       [[[1.25967230e-03, 1.01337586e-03, 1.01337586e-03, ...,\n",
       "          1.01337586e-03, 1.01337586e-03, 1.65385372e-04],\n",
       "         [1.55351675e-03, 1.28528097e-03, 1.28528097e-03, ...,\n",
       "          1.28528097e-03, 1.28528097e-03, 3.41881849e-05],\n",
       "         [1.55351675e-03, 1.28528097e-03, 1.28528097e-03, ...,\n",
       "          1.28528097e-03, 1.28528097e-03, 3.41881849e-05],\n",
       "         ...,\n",
       "         [1.55351675e-03, 1.28528097e-03, 1.28528097e-03, ...,\n",
       "          1.28528097e-03, 1.28528097e-03, 3.41881849e-05],\n",
       "         [1.55351675e-03, 1.28528097e-03, 1.28528097e-03, ...,\n",
       "          1.28528097e-03, 1.28528097e-03, 3.41881849e-05],\n",
       "         [1.20249692e-03, 9.53283644e-04, 9.53283644e-04, ...,\n",
       "          9.53283644e-04, 9.53283644e-04, 6.04504498e-05]]],\n",
       "\n",
       "\n",
       "       ...,\n",
       "\n",
       "\n",
       "       [[[1.25967230e-03, 1.01337586e-03, 1.01337586e-03, ...,\n",
       "          1.01337586e-03, 1.01337586e-03, 1.65385372e-04],\n",
       "         [1.55351675e-03, 1.28528097e-03, 1.28528097e-03, ...,\n",
       "          1.28528097e-03, 1.28528097e-03, 3.41881849e-05],\n",
       "         [1.55351675e-03, 1.28528097e-03, 1.28528097e-03, ...,\n",
       "          1.28528097e-03, 1.28528097e-03, 3.41881849e-05],\n",
       "         ...,\n",
       "         [1.55351675e-03, 1.28528097e-03, 1.28528097e-03, ...,\n",
       "          1.28528097e-03, 1.28528097e-03, 3.41881849e-05],\n",
       "         [1.55351675e-03, 1.28528097e-03, 1.28528097e-03, ...,\n",
       "          1.28528097e-03, 1.28528097e-03, 3.41881849e-05],\n",
       "         [1.20249692e-03, 9.53283644e-04, 9.53283644e-04, ...,\n",
       "          9.53283644e-04, 9.53283644e-04, 6.04504498e-05]]],\n",
       "\n",
       "\n",
       "       [[[1.25967230e-03, 1.01337586e-03, 1.01337586e-03, ...,\n",
       "          1.01337586e-03, 1.01337586e-03, 1.65385372e-04],\n",
       "         [1.55351675e-03, 1.28528097e-03, 1.28528097e-03, ...,\n",
       "          1.28528097e-03, 1.28528097e-03, 3.41881849e-05],\n",
       "         [1.55351675e-03, 1.28528097e-03, 1.28528097e-03, ...,\n",
       "          1.28528097e-03, 1.28528097e-03, 3.41881849e-05],\n",
       "         ...,\n",
       "         [1.55351675e-03, 1.28528097e-03, 1.28528097e-03, ...,\n",
       "          1.28528097e-03, 1.28528097e-03, 3.41881849e-05],\n",
       "         [1.55351675e-03, 1.28528097e-03, 1.28528097e-03, ...,\n",
       "          1.28528097e-03, 1.28528097e-03, 3.41881849e-05],\n",
       "         [1.20249692e-03, 9.53283644e-04, 9.53283644e-04, ...,\n",
       "          9.53283644e-04, 9.53283644e-04, 6.04504498e-05]]],\n",
       "\n",
       "\n",
       "       [[[1.25967230e-03, 1.01337586e-03, 1.01337586e-03, ...,\n",
       "          1.01337586e-03, 1.01337586e-03, 1.65385372e-04],\n",
       "         [1.55351675e-03, 1.28528097e-03, 1.28528097e-03, ...,\n",
       "          1.28528097e-03, 1.28528097e-03, 3.41881849e-05],\n",
       "         [1.55351675e-03, 1.28528097e-03, 1.28528097e-03, ...,\n",
       "          1.28528097e-03, 1.28528097e-03, 3.41881849e-05],\n",
       "         ...,\n",
       "         [1.55351675e-03, 1.28528097e-03, 1.28528097e-03, ...,\n",
       "          1.28528097e-03, 1.28528097e-03, 3.41881849e-05],\n",
       "         [1.55351675e-03, 1.28528097e-03, 1.28528097e-03, ...,\n",
       "          1.28528097e-03, 1.28528097e-03, 3.41881849e-05],\n",
       "         [1.20249692e-03, 9.53283644e-04, 9.53283644e-04, ...,\n",
       "          9.53283644e-04, 9.53283644e-04, 6.04504498e-05]]]])"
      ]
     },
     "execution_count": 80,
     "metadata": {},
     "output_type": "execute_result"
    }
   ],
   "source": [
    "model_test.backward(conv_output)"
   ]
  },
  {
   "cell_type": "markdown",
   "metadata": {
    "id": "kcXMa0r-p02e"
   },
   "source": [
    "## Problem Three: Output size after 2-dimensional convolution"
   ]
  },
  {
   "cell_type": "code",
   "execution_count": 81,
   "metadata": {
    "colab": {
     "base_uri": "https://localhost:8080/"
    },
    "id": "m2Lvj638oufu",
    "outputId": "0922110a-d22d-4785-e9dd-6eb6c72bad8e"
   },
   "outputs": [
    {
     "data": {
      "text/plain": [
       "(20, 1, 28, 28)"
      ]
     },
     "execution_count": 81,
     "metadata": {},
     "output_type": "execute_result"
    }
   ],
   "source": [
    "model_test.backward(conv_output).shape"
   ]
  },
  {
   "cell_type": "markdown",
   "metadata": {
    "id": "f1ys_JNopZTa"
   },
   "source": [
    "## Problem Four: Creation of maximum pooling layer"
   ]
  },
  {
   "cell_type": "code",
   "execution_count": 82,
   "metadata": {
    "id": "7MOKXZeApX8z"
   },
   "outputs": [],
   "source": [
    "class MaxPool2D:\n",
    "\n",
    "    def __init__(self, P_h, P_w, stride=1, pad=0):\n",
    "        self.P_h = P_h\n",
    "        self.P_w = P_w\n",
    "        self.stride = stride\n",
    "        self.pad = pad\n",
    "        self.x = None\n",
    "        self.arg_max = None\n",
    "\n",
    "    def im2col(self, input_data):\n",
    "        N, C, H, W = input_data.shape\n",
    "        out_h = output_height_calculation(X_h=H,pad_n=self.pad, F_h= self.P_h, stride=self.stride)\n",
    "        out_w = output_width_calculation(X_w=W,pad_n=self.pad, F_w=self.P_w, stride=self.stride)\n",
    "        img = np.pad(input_data, [(0,0), (0,0), (self.pad, self.pad), (self.pad, self.pad)], 'constant')\n",
    "        col = np.zeros((N, C, self.P_h, self.P_w, out_h, out_w))\n",
    "\n",
    "        for y in range(self.P_h):\n",
    "            y_max = y + self.stride*out_h\n",
    "            for x in range(self.P_w):\n",
    "                x_max = x + self.stride*out_w\n",
    "                col[:, :, y, x, :, :] = img[:, :, y:y_max:self.stride, x:x_max:self.stride]\n",
    "\n",
    "        col = col.transpose(0, 4, 5, 1, 2, 3).reshape(N*out_h*out_w, -1)\n",
    "        return col\n",
    "\n",
    "    def col2im(self, col, X):\n",
    "        N, C, H, W = X.shape\n",
    "        out_h = output_height_calculation(X_h=H,pad_n=self.pad, F_h=self.P_h, stride=self.stride)\n",
    "        out_w = output_width_calculation(X_w=W,pad_n=self.pad, F_w=self.P_w, stride=self.stride)\n",
    "        col = col.reshape(N, out_h, out_w, C, self.P_h, self.P_w).transpose(0, 3, 4, 5, 1, 2)\n",
    "        img = np.zeros((N, C, H + 2*self.pad + self.stride - 1, W + 2*self.pad + self.stride - 1))\n",
    "\n",
    "        for y in range(self.P_h):\n",
    "            y_max = y + self.stride*out_h\n",
    "            for x in range(self.P_w):\n",
    "                x_max = x + self.stride*out_w\n",
    "                img[:, :, y:y_max:self.stride, x:x_max:self.stride] += col[:, :, y, x, :, :]\n",
    "        return img[:, :, self.pad:H + self.pad, self.pad:W + self.pad]\n",
    "\n",
    "    def forward(self, x):\n",
    "        N, C, H, W = x.shape\n",
    "        out_h = output_height_calculation(X_h=H,pad_n=self.pad, F_h=self.P_h, stride=self.stride)\n",
    "        out_w = output_width_calculation(X_w=W,pad_n=self.pad, F_w=self.P_w, stride=self.stride)\n",
    "        col = self.im2col(x)\n",
    "        col = col.reshape(-1, self.P_h*self.P_w)\n",
    "        arg_max = np.argmax(col, axis=1)\n",
    "        out = np.max(col, axis=1)\n",
    "        out = out.reshape(N, out_h, out_w, C).transpose(0, 3, 1, 2)\n",
    "        self.x = x\n",
    "        self.arg_max = arg_max\n",
    "        return out\n",
    "\n",
    "    def backward(self, dout):\n",
    "        dout = dout.transpose(0, 2, 3, 1)\n",
    "        p_size = self.P_h * self.P_w\n",
    "        dmax = np.zeros((dout.size, p_size))\n",
    "        dmax[np.arange(self.arg_max.size), self.arg_max.flatten()] = dout.flatten()\n",
    "        dmax = dmax.reshape(dout.shape + (p_size,))\n",
    "        dcol = dmax.reshape(dmax.shape[0] * dmax.shape[1] * dmax.shape[2], -1)\n",
    "        dx = self.col2im(dcol, self.x)\n",
    "        return dx\n",
    "        self = self.optimizer.update(self)"
   ]
  },
  {
   "cell_type": "code",
   "execution_count": 83,
   "metadata": {
    "id": "JeYUcbviqBB-"
   },
   "outputs": [],
   "source": [
    "max_pool = MaxPool2D( P_h=2, P_w=2, stride=2, pad=0)\n",
    "pool_output = max_pool.forward(conv_output)\n",
    "pool_backward_output = max_pool.backward(pool_output)"
   ]
  },
  {
   "cell_type": "code",
   "execution_count": 84,
   "metadata": {
    "colab": {
     "base_uri": "https://localhost:8080/"
    },
    "id": "UcOcgqOwqDYJ",
    "outputId": "307ec2af-0d39-4666-b861-c3ec4f6631d8"
   },
   "outputs": [
    {
     "data": {
      "text/plain": [
       "(20, 3, 14, 14)"
      ]
     },
     "execution_count": 84,
     "metadata": {},
     "output_type": "execute_result"
    }
   ],
   "source": [
    "pool_output.shape"
   ]
  },
  {
   "cell_type": "code",
   "execution_count": 85,
   "metadata": {
    "colab": {
     "base_uri": "https://localhost:8080/"
    },
    "id": "8NTNMfFpqE6C",
    "outputId": "ebe90eef-ba4b-4eee-bf6e-5bcb71700fc4"
   },
   "outputs": [
    {
     "data": {
      "text/plain": [
       "(20, 3, 28, 28)"
      ]
     },
     "execution_count": 85,
     "metadata": {},
     "output_type": "execute_result"
    }
   ],
   "source": [
    "pool_backward_output.shape"
   ]
  },
  {
   "cell_type": "markdown",
   "metadata": {
    "id": "Rv965_AoqcgJ"
   },
   "source": [
    "## Problem Five: (Advance task) Creating average pooling"
   ]
  },
  {
   "cell_type": "code",
   "execution_count": 86,
   "metadata": {},
   "outputs": [
    {
     "name": "stdout",
     "output_type": "stream",
     "text": [
      "Average Pool Forward output shape: (2, 3, 4, 4)\n",
      "Average Pool Backward output shape: (2, 3, 8, 8)\n"
     ]
    }
   ],
   "source": [
    "class AveragePool2D:\n",
    "    def __init__(self, P_h, P_w, stride=1, pad=0):\n",
    "        self.P_h = P_h\n",
    "        self.P_w = P_w\n",
    "        self.stride = stride\n",
    "        self.pad = pad\n",
    "        self.x = None\n",
    "\n",
    "    def im2col(self, input_data):\n",
    "        N, C, H, W = input_data.shape\n",
    "        out_h = output_height_calculation(X_h=H, pad_n=self.pad, F_h=self.P_h, stride=self.stride)\n",
    "        out_w = output_width_calculation(X_w=W, pad_n=self.pad, F_w=self.P_w, stride=self.stride)\n",
    "        img = np.pad(input_data, [(0, 0), (0, 0), (self.pad, self.pad), (self.pad, self.pad)], 'constant')\n",
    "        col = np.zeros((N, C, self.P_h, self.P_w, out_h, out_w))\n",
    "\n",
    "        for y in range(self.P_h):\n",
    "            y_max = y + self.stride * out_h\n",
    "            for x in range(self.P_w):\n",
    "                x_max = x + self.stride * out_w\n",
    "                col[:, :, y, x, :, :] = img[:, :, y:y_max:self.stride, x:x_max:self.stride]\n",
    "\n",
    "        col = col.transpose(0, 4, 5, 1, 2, 3).reshape(N * out_h * out_w, -1)\n",
    "        return col\n",
    "\n",
    "    def col2im(self, col, X):\n",
    "        N, C, H, W = X.shape\n",
    "        out_h = output_height_calculation(X_h=H, pad_n=self.pad, F_h=self.P_h, stride=self.stride)\n",
    "        out_w = output_width_calculation(X_w=W, pad_n=self.pad, F_w=self.P_w, stride=self.stride)\n",
    "        col = col.reshape(N, out_h, out_w, C, self.P_h, self.P_w).transpose(0, 3, 4, 5, 1, 2)\n",
    "        img = np.zeros((N, C, H + 2 * self.pad + self.stride - 1, W + 2 * self.pad + self.stride - 1))\n",
    "\n",
    "        for y in range(self.P_h):\n",
    "            y_max = y + self.stride * out_h\n",
    "            for x in range(self.P_w):\n",
    "                x_max = x + self.stride * out_w\n",
    "                img[:, :, y:y_max:self.stride, x:x_max:self.stride] += col[:, :, y, x, :, :]\n",
    "        return img[:, :, self.pad:H + self.pad, self.pad:W + self.pad]\n",
    "\n",
    "    def forward(self, x):\n",
    "        N, C, H, W = x.shape\n",
    "        out_h = output_height_calculation(X_h=H, pad_n=self.pad, F_h=self.P_h, stride=self.stride)\n",
    "        out_w = output_width_calculation(X_w=W, pad_n=self.pad, F_w=self.P_w, stride=self.stride)\n",
    "        col = self.im2col(x)\n",
    "        col = col.reshape(-1, self.P_h * self.P_w)\n",
    "        out = np.mean(col, axis=1)\n",
    "        out = out.reshape(N, out_h, out_w, C).transpose(0, 3, 1, 2)\n",
    "        self.x = x\n",
    "        return out\n",
    "\n",
    "    def backward(self, dout):\n",
    "        dout = dout.transpose(0, 2, 3, 1)\n",
    "        pool_size = self.P_h * self.P_w\n",
    "        dcol = np.ones((dout.size, pool_size)) / pool_size\n",
    "        dcol = dcol.reshape(dout.shape + (pool_size,))\n",
    "        dcol = dcol.reshape(dcol.shape[0] * dcol.shape[1] * dcol.shape[2], -1)\n",
    "        dx = self.col2im(dcol, self.x)\n",
    "        return dx\n",
    "\n",
    "def output_height_calculation(X_h, pad_n, F_h, stride):\n",
    "    return (X_h + 2 * pad_n - F_h) // stride + 1\n",
    "\n",
    "def output_width_calculation(X_w, pad_n, F_w, stride):\n",
    "    return (X_w + 2 * pad_n - F_w) // stride + 1\n",
    "\n",
    "\n",
    "# Example input for testing\n",
    "np.random.seed(0)\n",
    "mini_X_train = np.random.randn(2, 3, 8, 8)  # (N, C, H, W)\n",
    "\n",
    "# Initialize and test AveragePool2D\n",
    "average_pool = AveragePool2D(P_h=2, P_w=2, stride=2, pad=0)\n",
    "\n",
    "# Forward pass\n",
    "pool_output = average_pool.forward(mini_X_train)\n",
    "print(\"Average Pool Forward output shape:\", pool_output.shape)\n",
    "\n",
    "# Backward pass (for testing gradients)\n",
    "dout = np.random.randn(*pool_output.shape)  # Random gradient for testing\n",
    "pool_backward_output = average_pool.backward(dout)\n",
    "print(\"Average Pool Backward output shape:\", pool_backward_output.shape)"
   ]
  },
  {
   "cell_type": "markdown",
   "metadata": {
    "id": "LcrpDWORqoas"
   },
   "source": [
    "## Problem Six: Smoothing"
   ]
  },
  {
   "cell_type": "code",
   "execution_count": 87,
   "metadata": {
    "id": "EOXe8_7sqZKi"
   },
   "outputs": [],
   "source": [
    "class Flatten:\n",
    "\n",
    "    def forward(self, x):\n",
    "        N, C, H, W = x.shape\n",
    "        out = x.reshape(N, -1)\n",
    "        self.x = x\n",
    "        return out\n",
    "\n",
    "    def backward(self, dout):\n",
    "        dx = dout.reshape(self.x.shape)\n",
    "        return dx"
   ]
  },
  {
   "cell_type": "code",
   "execution_count": 88,
   "metadata": {
    "colab": {
     "base_uri": "https://localhost:8080/"
    },
    "id": "L7FBG5pxqjAD",
    "outputId": "c015a206-c511-4678-edcb-7a8c67728fb7"
   },
   "outputs": [
    {
     "name": "stdout",
     "output_type": "stream",
     "text": [
      "Initial Convolution Output Shape: (20, 3, 28, 28)\n",
      "Flattened Output Shape: (20, 2352)\n",
      "Gradient from Backward Pass Shape: (20, 3, 28, 28)\n"
     ]
    }
   ],
   "source": [
    "# Initialize the Flatten layer\n",
    "flatten_layer = Flatten()\n",
    "\n",
    "# Forward pass through the Flatten layer\n",
    "flattened_output = flatten_layer.forward(conv_output)\n",
    "\n",
    "# Backward pass through the Flatten layer\n",
    "gradient_from_flatten = flatten_layer.backward(flattened_output)\n",
    "\n",
    "# Print shapes to verify the results\n",
    "print(f'Initial Convolution Output Shape: {conv_output.shape}')\n",
    "print(f'Flattened Output Shape: {flattened_output.shape}')\n",
    "print(f'Gradient from Backward Pass Shape: {gradient_from_flatten.shape}')"
   ]
  },
  {
   "cell_type": "code",
   "execution_count": 89,
   "metadata": {
    "id": "3J_GevWlqmG_"
   },
   "outputs": [],
   "source": [
    "class FC:\n",
    "\n",
    "    def __init__(self, n_nodes1, n_nodes2, initializer, optimizer):\n",
    "        self.n_nodes1 = n_nodes1\n",
    "        self.n_nodes2 = n_nodes2\n",
    "        self.W = initializer.W(self.n_nodes1, self.n_nodes2)\n",
    "        self.B = initializer.B(self.n_nodes2)\n",
    "        self.optimizer = optimizer\n",
    "        self.HW = 0\n",
    "        self.HB = 0\n",
    "\n",
    "    def forward(self, X):\n",
    "        self.Z = X\n",
    "        self.A = X @ self.W + self.B\n",
    "        return self.A\n",
    "\n",
    "    def backward(self, dA):\n",
    "        self.dB = np.sum(dA, axis=0)\n",
    "        self.dW = self.Z.T @ dA\n",
    "        self.dZ = dA @ self.W.T\n",
    "        self = self.optimizer.update(self)\n",
    "        return self.dZ\n",
    "\n",
    "class SoftmaxWithLoss:\n",
    "\n",
    "    def forward(self, A):\n",
    "        Z = np.exp(A) / np.sum(np.exp(A), axis=1).reshape(-1, 1)\n",
    "        return Z\n",
    "\n",
    "    def backward(self, Z, y):\n",
    "        dA = Z - y\n",
    "        loss = - np.sum(y * np.log(Z)) / len(y)\n",
    "        return dA, loss\n",
    "\n",
    "class AdaGrad:\n",
    "\n",
    "    def __init__(self, lr):\n",
    "        self.lr = lr\n",
    "\n",
    "    def update(self, layer):\n",
    "        layer.HW += layer.dW * layer.dW\n",
    "        layer.HB += layer.dB * layer.dB\n",
    "        delta = 1e-7\n",
    "        layer.W -= self.lr * layer.dW / (np.sqrt(layer.HW) + delta) / len(layer.Z)\n",
    "        layer.B -= self.lr * layer.dB / (np.sqrt(layer.HB) + delta) / len(layer.Z)\n",
    "        return layer\n",
    "\n",
    "class HeInitializer:\n",
    "\n",
    "    def __init__(self, sigma):\n",
    "        _ = sigma\n",
    "\n",
    "    def W(self, n_nodes1, n_nodes2):\n",
    "        self.sigma = np.sqrt(2 / n_nodes1)\n",
    "        W = self.sigma * np.random.randn(n_nodes1, n_nodes2)\n",
    "        return W\n",
    "\n",
    "    def B(self, n_nodes2):\n",
    "        B = self.sigma * np.random.randn(1, n_nodes2)\n",
    "        return B\n",
    "\n",
    "class Relu:\n",
    "\n",
    "    def forward(self, A):\n",
    "        self.A = A\n",
    "        Z = np.maximum(0, A)\n",
    "        return Z\n",
    "\n",
    "    def backward(self, dZ):\n",
    "        dA = dZ * np.where(self.A > 0, 1, 0)\n",
    "        return dA"
   ]
  },
  {
   "cell_type": "code",
   "execution_count": 90,
   "metadata": {
    "id": "aLA06vN7qr74"
   },
   "outputs": [],
   "source": [
    "class GetMiniBatch:\n",
    "\n",
    "    def __init__(self, X, y, batch_size = 20, seed=0):\n",
    "        self.batch_size = batch_size\n",
    "        np.random.seed(seed)\n",
    "        shuffle_index = np.random.permutation(np.arange(X.shape[0]))\n",
    "        self._X = X[shuffle_index]\n",
    "        self._y = y[shuffle_index]\n",
    "        self._stop = np.ceil(X.shape[0]/self.batch_size).astype(int)\n",
    "    def __len__(self):\n",
    "        return self._stop\n",
    "\n",
    "    def __getitem__(self,item):\n",
    "        p0 = item*self.batch_size\n",
    "        p1 = item*self.batch_size + self.batch_size\n",
    "        return self._X[p0:p1], self._y[p0:p1]\n",
    "\n",
    "    def __iter__(self):\n",
    "        self._counter = 0\n",
    "        return self\n",
    "\n",
    "    def __next__(self):\n",
    "        if self._counter >= self._stop:\n",
    "            raise StopIteration()\n",
    "        p0 = self._counter*self.batch_size\n",
    "        p1 = self._counter*self.batch_size + self.batch_size\n",
    "        self._counter += 1\n",
    "        return self._X[p0:p1], self._y[p0:p1]"
   ]
  },
  {
   "cell_type": "code",
   "execution_count": 91,
   "metadata": {
    "id": "HD0xg2Ioqv_I"
   },
   "outputs": [],
   "source": [
    "def col2im(col, input_shape, filter_h, filter_w, stride=1, pad=0):\n",
    "    N, C, H, W = input_shape\n",
    "    out_h = (H + 2*pad - filter_h)//stride + 1\n",
    "    out_w = (W + 2*pad - filter_w)//stride + 1\n",
    "    col = col.reshape(N, out_h, out_w, C, filter_h, filter_w).transpose(0, 3, 4, 5, 1, 2)\n",
    "\n",
    "    img = np.zeros((N, C, H + 2*pad + stride - 1, W + 2*pad + stride - 1))\n",
    "    for y in range(filter_h):\n",
    "        y_max = y + stride*out_h\n",
    "        for x in range(filter_w):\n",
    "            x_max = x + stride*out_w\n",
    "            img[:, :, y:y_max:stride, x:x_max:stride] += col[:, :, y, x, :, :]\n",
    "\n",
    "    return img[:, :, pad:H + pad, pad:W + pad]"
   ]
  },
  {
   "cell_type": "code",
   "execution_count": 92,
   "metadata": {
    "id": "L1PftEFyqy4m"
   },
   "outputs": [],
   "source": [
    "class MaxPool2D2:\n",
    "\n",
    "    def __init__(self, P_h, P_w, pad=0):\n",
    "        self.P_h = P_h\n",
    "        self.P_w = P_w\n",
    "        self.stride = P_h\n",
    "        self.pad = pad\n",
    "\n",
    "        self.x = None\n",
    "        self.arg_max = None\n",
    "\n",
    "    def forward(self, x):\n",
    "        N, C, H, W = x.shape\n",
    "        out_h = int(1 + (H - self.P_h) / self.stride)\n",
    "        out_w = int(1 + (W - self.P_w) / self.stride)\n",
    "        col = im2col(x, self.P_h, self.P_w, self.stride, self.pad)\n",
    "        col = col.reshape(-1, self.P_h*self.P_w)\n",
    "        arg_max = np.argmax(col, axis=1)\n",
    "        out = np.max(col, axis=1)\n",
    "        out = out.reshape(N, out_h, out_w, C).transpose(0, 3, 1, 2)\n",
    "        self.x = x\n",
    "        self.arg_max = arg_max\n",
    "        return out\n",
    "\n",
    "    def backward(self, dout):\n",
    "        dout = dout.transpose(0, 2, 3, 1)\n",
    "        pool_size = self.P_h * self.P_w\n",
    "        dmax = np.zeros((dout.size, pool_size))\n",
    "        dmax[np.arange(self.arg_max.size), self.arg_max.flatten()] = dout.flatten()\n",
    "        dmax = dmax.reshape(dout.shape + (pool_size,))\n",
    "        dcol = dmax.reshape(dmax.shape[0] * dmax.shape[1] * dmax.shape[2], -1)\n",
    "        dx = col2im(dcol, self.x.shape, self.P_h, self.P_w, self.stride, self.pad)\n",
    "        return dx"
   ]
  },
  {
   "cell_type": "code",
   "execution_count": 93,
   "metadata": {
    "id": "R6LPOgZ3q1-_"
   },
   "outputs": [],
   "source": [
    "class Scratch2dCNNClassifier:\n",
    "\n",
    "    def __init__(self, FN=20, FH=7, FW=7, stride=1, pad=0, epoch=1, optimizer=AdaGrad, initializer=HeInitializer, activater=Relu, verbose=False,):\n",
    "        self.verbose = verbose\n",
    "        self.batch_size = 60\n",
    "        self.n_output = 10\n",
    "        self.sigma = 0.02\n",
    "        self.lr = 0.05\n",
    "        self.epoch = epoch\n",
    "        self.optimizer = optimizer\n",
    "        self.initializer = initializer\n",
    "        self.activater = activater\n",
    "        self.FN = FN\n",
    "        self.C = 1\n",
    "        self.FH = FH\n",
    "        self.FW = FW\n",
    "        self.pool_h = 2\n",
    "        self.pool_w = 2\n",
    "        self.pad = pad\n",
    "        self.stride = stride\n",
    "\n",
    "    def fit(self, X, y, X_val=None, y_val=None):\n",
    "        self.loss_train = []\n",
    "        self.loss_val = []\n",
    "        out_h, out_w = self.out_size(28, 28, self.pad, self.FH, self.FW, self.stride)\n",
    "        out_h, out_w = self.out_size(out_h, out_w, 0, self.pool_h, self.pool_w, self.pool_h)\n",
    "        fc_nodes = self.FN * out_h * out_w\n",
    "        optimizer = self.optimizer(self.lr)\n",
    "        w = self.sigma * np.random.randn(self.FN, self.C, self.FH, self.FW)\n",
    "        b = self.sigma * np.random.randn(self.FN,)\n",
    "        self.cv= SimpleConv2d(self.FN, self.FH, self.FW, self.stride, self.pad, initializer=SimpleInitializer())\n",
    "        self.activation_cv = self.activater()\n",
    "        self.pl = MaxPool2D2(self.pool_h, self.pool_w)\n",
    "        self.fl = Flatten()\n",
    "        self.FC = FC(fc_nodes, self.n_output, self.initializer(self.sigma), optimizer)\n",
    "        self.activation_fc = SoftmaxWithLoss()\n",
    "\n",
    "        for i in range(self.epoch):\n",
    "            get_mini_batch = GetMiniBatch(X, y, batch_size=self.batch_size, seed=i)\n",
    "            for mini_X, mini_y in get_mini_batch:\n",
    "\n",
    "                A1 = self.cv.forward(mini_X)\n",
    "                Z1 = self.activation_cv.forward(A1)\n",
    "                P1 = self.pl.forward(Z1)\n",
    "                F1 = self.fl.forward(P1)\n",
    "                A2 = self.FC.forward(F1)\n",
    "                Z2 = self.activation_fc.forward(A2)\n",
    "\n",
    "                dA2, loss = self.activation_fc.backward(Z2, mini_y)\n",
    "                dZ2 = self.FC.backward(dA2)\n",
    "                dF1 = self.fl.backward(dZ2)\n",
    "                dP1 = self.pl.backward(dF1)\n",
    "                dA1 = self.activation_cv.backward(dP1)\n",
    "                dZ1 = self.cv.backward(dA1)\n",
    "\n",
    "            if self.verbose:\n",
    "                A1 = self.cv.forward(X)\n",
    "                Z1 = self.activation_cv.forward(A1)\n",
    "                P1 = self.pl.forward(Z1)\n",
    "                F1 = self.fl.forward(P1)\n",
    "                A2 = self.FC.forward(F1)\n",
    "                Z2 = self.activation_fc.forward(A2)\n",
    "                self.loss_train.append(self.activation_fc.backward(Z2, y)[1])\n",
    "\n",
    "                if X_val is not None:\n",
    "                    A1 = self.cv.forward(X_val)\n",
    "                    Z1 = self.activation_cv.forward(A1)\n",
    "                    P1 = self.pl.forward(Z1)\n",
    "                    F1 = self.fl.forward(P1)\n",
    "                    A2 = self.FC.forward(F1)\n",
    "                    Z2 = self.activation_fc.forward(A2)\n",
    "                    self.loss_val.append(self.activation_fc.backward(Z2, y_val)[1])\n",
    "\n",
    "    def out_size(self, H, W, P, FH, FW, S):\n",
    "        out_h = (H + 2 * P - FH) // S + 1\n",
    "        out_w = (W + 2 * P - FW) // S + 1\n",
    "        return out_h, out_w\n",
    "\n",
    "    def predict(self, X):\n",
    "        A1 = self.cv.forward(X)\n",
    "        Z1 = self.activation_cv.forward(A1)\n",
    "        P1 = self.pl.forward(Z1)\n",
    "        F1 = self.fl.forward(P1)\n",
    "        A2 = self.FC.forward(F1)\n",
    "        Z2 = self.activation_fc.forward(A2)\n",
    "        return np.argmax(Z2, axis=1)"
   ]
  },
  {
   "cell_type": "code",
   "execution_count": 94,
   "metadata": {
    "colab": {
     "base_uri": "https://localhost:8080/"
    },
    "id": "9xIMmUmLq4p2",
    "outputId": "541c5283-8a81-4d0b-97ff-f13bfaeffe12"
   },
   "outputs": [],
   "source": [
    "(X_train2, y_train2), (X_test2, y_test2) = mnist.load_data()\n",
    "\n",
    "X_train2 = X_train2[0:100,:]\n",
    "y_train2 = y_train2[0:100]\n",
    "X_test2 = X_test2[0:100,:]\n",
    "y_test2 = y_test2[0:100]\n",
    "\n",
    "X_train2 = X_train2.astype(float)\n",
    "X_test2 = X_test2.astype(float)\n",
    "X_train2 /= 255\n",
    "X_test2 /= 255\n",
    "\n",
    "X_train2 = X_train2[:, np.newaxis, :, :]\n",
    "X_test2 = X_test2[:, np.newaxis, :, :]\n",
    "\n",
    "X_train2, X_val2, y_train2, y_val2 = train_test_split(X_train2, y_train2, test_size=0.2)\n",
    "\n",
    "enc = OneHotEncoder(handle_unknown='ignore', sparse_output=False)\n",
    "y_train_one_hot2 = enc.fit_transform(y_train2[:, np.newaxis])\n",
    "y_test_one_hot2 = enc.transform(y_val2[:, np.newaxis])"
   ]
  },
  {
   "cell_type": "markdown",
   "metadata": {
    "id": "E0v2aOXduqrk"
   },
   "source": [
    "## Problem Seven: Learning and Estimation"
   ]
  },
  {
   "cell_type": "code",
   "execution_count": 95,
   "metadata": {
    "id": "-33Ev6iQrE5Y"
   },
   "outputs": [],
   "source": [
    "S2dCNN = Scratch2dCNNClassifier(FN=5, FH=7, FW=7, stride=1, pad=3, epoch =10, verbose=True)\n",
    "S2dCNN.fit(X_train2, y_train_one_hot2, X_val2, y_test_one_hot2)"
   ]
  },
  {
   "cell_type": "code",
   "execution_count": 96,
   "metadata": {
    "colab": {
     "base_uri": "https://localhost:8080/"
    },
    "id": "heL81NRUrHG5",
    "outputId": "8ac7a6ff-9c51-4035-b18b-d5fa34918da8"
   },
   "outputs": [
    {
     "data": {
      "text/plain": [
       "0.1"
      ]
     },
     "execution_count": 96,
     "metadata": {},
     "output_type": "execute_result"
    }
   ],
   "source": [
    "pred = S2dCNN.predict(X_val2)\n",
    "accuracy_score(y_val2, pred)"
   ]
  },
  {
   "cell_type": "code",
   "execution_count": 97,
   "metadata": {
    "colab": {
     "base_uri": "https://localhost:8080/",
     "height": 489
    },
    "id": "rf-jKZU_ubfl",
    "outputId": "3b3513bb-edad-44b3-b056-4e2afc91fc0b"
   },
   "outputs": [
    {
     "data": {
      "text/plain": [
       "<matplotlib.legend.Legend at 0x14d3a9590>"
      ]
     },
     "execution_count": 97,
     "metadata": {},
     "output_type": "execute_result"
    },
    {
     "data": {
      "image/png": "[encoded data removed]",
      "text/plain": [
       "<Figure size 640x480 with 1 Axes>"
      ]
     },
     "metadata": {},
     "output_type": "display_data"
    }
   ],
   "source": [
    "plt.title('Learning Curve')\n",
    "plt.xlabel('Epoch Number')\n",
    "plt.ylabel('Loss')\n",
    "plt.plot(list(range(1, S2dCNN.epoch+1)), S2dCNN.loss_train, label='train')\n",
    "plt.legend()"
   ]
  },
  {
   "cell_type": "code",
   "execution_count": 98,
   "metadata": {
    "colab": {
     "base_uri": "https://localhost:8080/",
     "height": 489
    },
    "id": "lbX3R6QHucU5",
    "outputId": "47357048-8abc-4c8b-fea3-8576889670e3",
    "scrolled": true
   },
   "outputs": [
    {
     "data": {
      "text/plain": [
       "<matplotlib.legend.Legend at 0x14e2d14d0>"
      ]
     },
     "execution_count": 98,
     "metadata": {},
     "output_type": "execute_result"
    },
    {
     "data": {
      "image/png": "[encoded data removed]",
      "text/plain": [
       "<Figure size 640x480 with 1 Axes>"
      ]
     },
     "metadata": {},
     "output_type": "display_data"
    }
   ],
   "source": [
    "plt.title('Learning Curve')\n",
    "plt.xlabel('Epoch Number')\n",
    "plt.ylabel('Loss')\n",
    "plt.plot(list(range(1, S2dCNN.epoch+1)), S2dCNN.loss_val, label='test', color='crimson')\n",
    "plt.legend()"
   ]
  },
  {
   "cell_type": "markdown",
   "metadata": {},
   "source": [
    "## Problem Nine: (Advance assignment) Survey of famous image recognition models"
   ]
  },
  {
   "cell_type": "markdown",
   "metadata": {},
   "source": [
    "##### **AlexNet (2012)**\n",
    "AlexNet revolutionized image recognition by introducing deeper networks and leveraging GPU acceleration. Its architecture features a series of convolutional layers followed by fully connected layers, using ReLU activations to speed up training and dropout to combat overfitting. It was one of the first models to effectively handle large-scale image data and laid the groundwork for modern CNNs.\n",
    "\n",
    "##### **VGG16 (2014)**\n",
    "VGG16 is known for its simplicity and depth. It relies on small 3x3 convolutional filters stacked in a straightforward manner, along with max pooling layers. This design focuses on deepening the network with uniformity and has become a popular choice for feature extraction due to its well-defined hierarchical structure.\n",
    "\n",
    "##### **ResNet (2015)**\n",
    "ResNet introduced the idea of residual learning with shortcut connections, allowing networks to be extremely deep without suffering from vanishing gradients. By bypassing certain layers, it facilitates the training of very deep models and has greatly influenced how modern neural networks are designed.\n",
    "\n",
    "These models each contributed uniquely to the field of image recognition, influencing how we approach deep learning and design complex neural networks."
   ]
  },
  {
   "cell_type": "markdown",
   "metadata": {
    "id": "MEtXn0n7dQoI"
   },
   "source": [
    "## Problem Ten: Calculation of output size and number of parameters\n",
    "\n",
    "To calculate the output size and the number of parameters for each convolutional layer, we can follow these formulas:\n",
    "\n",
    "##### Output Size Calculation\n",
    "\n",
    "The output size of a convolutional layer is given by:\n",
    "\n",
    "$$\n",
    "\\text{Output Size} = \\frac{\\text{Input Size} - \\text{Filter Size} + 2 \\times \\text{Padding}}{\\text{Stride}} + 1\n",
    "$$\n",
    "\n",
    "For layers with no padding (`Padding = 0`), the formula simplifies to:\n",
    "\n",
    "$$\n",
    "\\text{Output Size} = \\frac{\\text{Input Size} - \\text{Filter Size}}{\\text{Stride}} + 1\n",
    "$$\n",
    "\n",
    "##### Number of Parameters Calculation\n",
    "\n",
    "The number of parameters for a convolutional layer includes:\n",
    "\n",
    "1. **Weights**: Each filter has a size of $(\\text{Filter Height} \\times \\text{Filter Width} \\times \\text{Number of Input Channels})$, and there are N filters.\n",
    "2. **Biases**: There is one bias per filter.\n",
    "\n",
    "So the total number of parameters is:\n",
    "\n",
    "$$\n",
    "\\text{Number of Parameters} = (\\text{Filter Height} \\times \\text{Filter Width} \\times \\text{Number of Input Channels} + 1) \\times \\text{Number of Filters}\n",
    "$$\n",
    "\n",
    "Let's compute these for each case:\n",
    "\n",
    "##### **1. Convolutional Layer**\n",
    "\n",
    "- **Input Size**: 144x144, 3 channels\n",
    "- **Filter Size**: 3x3, 6 channels\n",
    "- **Stride**: 1\n",
    "- **Padding**: None (0)\n",
    "\n",
    "**Output Size Calculation**:\n",
    "\n",
    "$$\n",
    "\\text{Output Size} = \\frac{144 - 3}{1} + 1 = 142\n",
    "$$\n",
    "\n",
    "So the output size is $142 \\times 142$.\n",
    "\n",
    "**Number of Parameters Calculation**:\n",
    "\n",
    "$$\n",
    "\\text{Number of Parameters} = (3 \\times 3 \\times 3 + 1) \\times 6 = (27 + 1) \\times 6 = 28 \\times 6 = 168\n",
    "$$\n",
    "\n",
    "##### **2. Convolutional Layer**\n",
    "\n",
    "- **Input Size**: 60x60, 24 channels\n",
    "- **Filter Size**: 3x3, 48 channels\n",
    "- **Stride**: 1\n",
    "- **Padding**: None (0)\n",
    "\n",
    "**Output Size Calculation**:\n",
    "\n",
    "$$\n",
    "\\text{Output Size} = \\frac{60 - 3}{1} + 1 = 58\n",
    "$$\n",
    "\n",
    "So the output size is $58 \\times 58$.\n",
    "\n",
    "**Number of Parameters Calculation**:\n",
    "\n",
    "$$\n",
    "\\text{Number of Parameters} = (3 \\times 3 \\times 24 + 1) \\times 48 = (216 + 1) \\times 48 = 217 \\times 48 = 10,416\n",
    "$$\n",
    "\n",
    "##### **3. Convolutional Layer**\n",
    "\n",
    "- **Input Size**: 20x20, 10 channels\n",
    "- **Filter Size**: 3x3, 20 channels\n",
    "- **Stride**: 2\n",
    "- **Padding**: None (0)\n",
    "\n",
    "**Output Size Calculation**:\n",
    "\n",
    "$$\n",
    "\\text{Output Size} = \\frac{20 - 3}{2} + 1 = \\frac{17}{2} + 1 = 8.5 + 1 = 9.5\n",
    "$$\n",
    "\n",
    "Since the output size must be an integer, the framework may use the floor function. Thus, the output size is approximately $9 \\times 9$.\n",
    "\n",
    "**Number of Parameters Calculation**:\n",
    "\n",
    "$$\n",
    "\\text{Number of Parameters} = (3 \\times 3 \\times 10 + 1) \\times 20 = (90 + 1) \\times 20 = 91 \\times 20 = 1,820\n",
    "$$\n",
    "\n",
    "##### Summary:\n",
    "\n",
    "1. **First Layer**:\n",
    "   - Output Size: $142 \\times 142$\n",
    "   - Number of Parameters: 168\n",
    "\n",
    "2. **Second Layer**:\n",
    "   - Output Size: $58 \\times 58$\n",
    "   - Number of Parameters: 10,416\n",
    "\n",
    "3. **Third Layer**:\n",
    "   - Output Size: $9 \\times 9$ (rounded from 9.5)\n",
    "   - Number of Parameters: 1,820\n"
   ]
  },
  {
   "cell_type": "markdown",
   "metadata": {},
   "source": [
    "## Problem Eleven: (Advance assignment) Survey on filter size"
   ]
  },
  {
   "cell_type": "markdown",
   "metadata": {},
   "source": [
    "### Why 3×3 Filters Are Commonly Used\n",
    "\n",
    "1. **Effective Receptive Field**: Using multiple 3×3 filters stacked together can cover a larger receptive field while maintaining computational efficiency. For instance, two 3×3 convolutional layers in sequence can cover the same receptive field as a single 5×5 filter, but with fewer parameters.\n",
    "\n",
    "2. **Reduced Number of Parameters**: A $3 \\times 3$ filter has fewer parameters compared to a larger filter like $7 \\times 7$. This reduces the computational burden and helps prevent overfitting. For example, a single $3 \\times 3$ filter has $3 \\times 3 = 9$ weights, whereas a $7 \\times 7$ filter has $7 \\times 7 = 49$ weights.\n",
    "\n",
    "3. **Non-Linearity and Hierarchical Feature Extraction**: Stacking multiple 3×3 layers allows the network to learn hierarchical features. Each 3×3 layer can learn different types of features, and deeper layers can combine these features to detect more complex patterns.\n",
    "\n",
    "4. **Computational Efficiency**: Smaller filters, like 3×3, lead to fewer computations compared to larger filters. This helps speed up training and inference, making the model more practical for real-world applications.\n",
    "\n",
    "5. **Empirical Success**: The effectiveness of 3×3 filters has been demonstrated in several successful architectures like VGG and ResNet. This empirical success reinforces their popularity and effectiveness.\n",
    "\n",
    "### Effect of a 1×1 Filter\n",
    "\n",
    "1. **Dimensionality Reduction**: A 1×1 filter is often used to reduce the number of channels (depth) of the input feature map. It performs a linear transformation on each pixel independently. For instance, if you have an input with 256 channels, applying a 1×1 filter with 64 filters will reduce the channel depth to 64 while retaining the spatial dimensions.\n",
    "\n",
    "2. **Computational Efficiency**: 1×1 convolutions are computationally less expensive than larger filters. They can be used to adjust the depth of feature maps efficiently without affecting the spatial dimensions.\n",
    "\n",
    "3. **Feature Combination**: A 1×1 convolution can be seen as a way to mix features across channels. It allows the network to learn new features by combining existing ones. This can be useful for capturing relationships between different channels and creating new feature representations.\n",
    "\n",
    "4. **Inception Modules**: In architectures like GoogLeNet (Inception modules), 1×1 convolutions are used to combine features from different convolutions (e.g., 3×3 and 5×5) in the same layer. This allows the network to capture a diverse set of features while controlling computational complexity.\n",
    "\n",
    "**Summary** 3×3 filters are commonly used due to their balance of computational efficiency and the ability to capture local features effectively. On the other hand, 1×1 filters are valuable for reducing dimensionality, feature combination, and computational efficiency."
   ]
  }
 ],
 "metadata": {
  "colab": {
   "provenance": []
  },
  "kernelspec": {
   "display_name": "Python 3 (ipykernel)",
   "language": "python",
   "name": "python3"
  },
  "language_info": {
   "codemirror_mode": {
    "name": "ipython",
    "version": 3
   },
   "file_extension": ".py",
   "mimetype": "text/x-python",
   "name": "python",
   "nbconvert_exporter": "python",
   "pygments_lexer": "ipython3",
   "version": "3.11.7"
  }
 },
 "nbformat": 4,
 "nbformat_minor": 4
}
