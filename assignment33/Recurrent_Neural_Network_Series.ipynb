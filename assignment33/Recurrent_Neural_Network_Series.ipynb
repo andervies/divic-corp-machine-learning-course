{
  "nbformat": 4,
  "nbformat_minor": 0,
  "metadata": {
    "colab": {
      "provenance": [],
      "include_colab_link": true
    },
    "kernelspec": {
      "name": "python3",
      "display_name": "Python 3"
    },
    "language_info": {
      "name": "python"
    }
  },
  "cells": [
    {
      "cell_type": "markdown",
      "metadata": {
        "id": "view-in-github",
        "colab_type": "text"
      },
      "source": [
        "<a href=\"https://colab.research.google.com/github/andervies/divic-corp-machine-learning-course/blob/main/assignment33/Recurrent_Neural_Network_Series.ipynb\" target=\"_parent\"><img src=\"https://colab.research.google.com/assets/colab-badge.svg\" alt=\"Open In Colab\"/></a>"
      ]
    },
    {
      "cell_type": "markdown",
      "source": [
        "## Problem One: Simple Forward propagation implementation of RNN"
      ],
      "metadata": {
        "id": "qISWU16uTcFB"
      }
    },
    {
      "cell_type": "code",
      "source": [
        "import numpy as np\n",
        "\n",
        "# Forward pass function\n",
        "def forward_pass(inputs, hidden_state):\n",
        "    for sequence in range(inputs.shape[1]):\n",
        "        hidden_state = np.tanh(inputs[:, sequence, :] @ weights_input + hidden_state @ weights_hidden + bias)\n",
        "    return hidden_state"
      ],
      "metadata": {
        "id": "BOYYtibfStDa"
      },
      "execution_count": 10,
      "outputs": []
    },
    {
      "cell_type": "markdown",
      "source": [
        "## Problem Two: Experiment of forward propagation with small sequence"
      ],
      "metadata": {
        "id": "UHsqGSMmTlC-"
      }
    },
    {
      "cell_type": "code",
      "source": [
        "# Input data\n",
        "inputs = np.array([[[1, 2], [2, 3], [3, 4]]]) / 100\n",
        "weights_input = np.array([[1, 3, 5, 7], [3, 5, 7, 8]]) / 100\n",
        "weights_hidden = np.array([[1, 3, 5, 7], [2, 4, 6, 8], [3, 5, 7, 8], [4, 6, 8, 10]]) / 100\n",
        "hidden_state = np.zeros((inputs.shape[0], weights_input.shape[1]))\n",
        "bias = np.array([1, 1, 1, 1])\n",
        "\n",
        "forward_pass(inputs, hidden_state)"
      ],
      "metadata": {
        "colab": {
          "base_uri": "https://localhost:8080/"
        },
        "id": "4fulUUWzS2Kr",
        "outputId": "8fe18bbc-070e-4451-c77f-5001bed0a681"
      },
      "execution_count": 11,
      "outputs": [
        {
          "output_type": "execute_result",
          "data": {
            "text/plain": [
              "array([[0.79494228, 0.81839002, 0.83939649, 0.85584174]])"
            ]
          },
          "metadata": {},
          "execution_count": 11
        }
      ]
    },
    {
      "cell_type": "markdown",
      "source": [
        "## Problem Three (Advance assignment) Implementation of backpropagation"
      ],
      "metadata": {
        "id": "cQtybq-uTocV"
      }
    },
    {
      "cell_type": "code",
      "source": [
        "# Initializer class\n",
        "class SimpleInitializer:\n",
        "    def __init__(self, sigma):\n",
        "        self.sigma = sigma\n",
        "\n",
        "    def initialize_weights(self, input_size, output_size):\n",
        "        return self.sigma * np.random.randn(input_size, output_size)\n",
        "\n",
        "    def initialize_bias(self, output_size):\n",
        "        return self.sigma * np.random.randn(1, output_size)\n"
      ],
      "metadata": {
        "id": "qi3pZLM9TDJA"
      },
      "execution_count": 12,
      "outputs": []
    },
    {
      "cell_type": "code",
      "source": [
        "# SGD optimizer class\n",
        "class SGD:\n",
        "    def __init__(self, learning_rate):\n",
        "        self.learning_rate = learning_rate\n",
        "\n",
        "    def update(self, layer):\n",
        "        layer.weights_input -= self.learning_rate * layer.grad_weights_input\n",
        "        layer.weights_hidden -= self.learning_rate * layer.grad_weights_hidden\n",
        "        layer.bias -= self.learning_rate * layer.grad_bias\n",
        "        return layer\n",
        "\n"
      ],
      "metadata": {
        "id": "gCI_0Jt7TRDc"
      },
      "execution_count": 13,
      "outputs": []
    },
    {
      "cell_type": "code",
      "source": [
        "# Tanh activation class\n",
        "class Tanh:\n",
        "    def forward(self, inputs):\n",
        "        self.inputs = inputs\n",
        "        return np.tanh(self.inputs)\n",
        "\n",
        "    def backward(self, grad_output):\n",
        "        return grad_output * (1 - np.tanh(self.inputs) ** 2)\n"
      ],
      "metadata": {
        "id": "5Atzwp5vTNu1"
      },
      "execution_count": 14,
      "outputs": []
    },
    {
      "cell_type": "code",
      "source": [
        "# Neural network classifier class\n",
        "class ScratchDeepNeuralNetworkClassifier:\n",
        "    def __init__(self):\n",
        "        self.weights_input = np.array([[1, 3, 5, 7], [3, 5, 7, 8]]) / 100\n",
        "        self.weights_hidden = np.array([[1, 3, 5, 7], [2, 4, 6, 8], [3, 5, 7, 8], [4, 6, 8, 10]]) / 100\n",
        "        self.bias = np.array([1, 1, 1, 1])\n",
        "        self.grad_bias = 0\n",
        "        self.grad_weights_hidden = 0\n",
        "        self.grad_weights_input = 0\n",
        "        self.activator = Tanh()\n",
        "        self.optimizer = SGD(learning_rate=0.001)\n",
        "        self.hidden_history = []\n",
        "\n",
        "    def forward(self, inputs):\n",
        "        self.inputs = inputs\n",
        "        batch_size = inputs.shape[0]\n",
        "        num_sequences = inputs.shape[1]\n",
        "        num_nodes = self.weights_input.shape[1]\n",
        "        hidden_state = np.zeros((batch_size, num_nodes))\n",
        "\n",
        "        for sequence in range(num_sequences):\n",
        "            activation = inputs[:, sequence, :] @ self.weights_input + hidden_state @ self.weights_hidden + self.bias\n",
        "            hidden_state = self.activator.forward(activation)\n",
        "            self.hidden_history.append(hidden_state)\n",
        "\n",
        "        return hidden_state\n",
        "\n",
        "    def backward(self, grad_output):\n",
        "        grad_activation = self.activator.backward(grad_output)\n",
        "\n",
        "        for sequence in reversed(range(self.inputs.shape[1])):\n",
        "            self.grad_bias += np.sum(grad_activation, axis=0)\n",
        "            self.grad_weights_input += self.inputs[:, sequence, :].T @ grad_activation\n",
        "            self.grad_weights_hidden += self.hidden_history[sequence].T @ grad_activation\n",
        "\n",
        "            grad_input = grad_activation @ self.weights_input.T\n",
        "            grad_output = grad_activation @ self.weights_hidden.T\n",
        "\n",
        "        return grad_input, grad_output\n",
        "\n"
      ],
      "metadata": {
        "id": "LIR3hc2CTLHc"
      },
      "execution_count": 15,
      "outputs": []
    },
    {
      "cell_type": "code",
      "source": [
        "# Testing the neural network classifier\n",
        "test_classifier = ScratchDeepNeuralNetworkClassifier()\n",
        "test_classifier.forward(inputs)\n"
      ],
      "metadata": {
        "colab": {
          "base_uri": "https://localhost:8080/"
        },
        "id": "KSf_1R5tTFTz",
        "outputId": "670bc704-235b-4ab8-b48a-7e8d17dc5cb0"
      },
      "execution_count": 16,
      "outputs": [
        {
          "output_type": "execute_result",
          "data": {
            "text/plain": [
              "array([[0.79494228, 0.81839002, 0.83939649, 0.85584174]])"
            ]
          },
          "metadata": {},
          "execution_count": 16
        }
      ]
    }
  ]
}