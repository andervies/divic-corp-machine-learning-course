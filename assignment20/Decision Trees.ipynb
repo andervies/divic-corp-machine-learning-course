{
 "cells": [
  {
   "cell_type": "code",
   "execution_count": 1,
   "id": "c41e77b6",
   "metadata": {},
   "outputs": [],
   "source": [
    "import numpy as np\n",
    "import pandas as pd\n"
   ]
  },
  {
   "cell_type": "code",
   "execution_count": 2,
   "id": "965bb120",
   "metadata": {},
   "outputs": [],
   "source": [
    "def calc_gini(self, y):\n",
    "    labels, counts = np.unique(y, return_counts=True)\n",
    "    _gini = 0\n",
    "    for label in labels:\n",
    "        _gini += (counts[labels==label]/np.sum(counts))**2\n",
    "        _gini = 1 - _gini\n",
    "        \n",
    "    return _gini"
   ]
  },
  {
   "cell_type": "code",
   "execution_count": 3,
   "id": "511023c6",
   "metadata": {},
   "outputs": [],
   "source": [
    "def gini_impurity(samples):\n",
    "    n = len(samples)\n",
    "    if n==0:\n",
    "        return 0\n",
    "    counts = [0, 0]\n",
    "    for label in samples:\n",
    "        counts[label] += 1\n",
    "        \n",
    "    impurity = 1\n",
    "    for count in counts:\n",
    "        p = count / n\n",
    "        impurity -= p**2\n",
    "    return impurity"
   ]
  },
  {
   "cell_type": "code",
   "execution_count": 4,
   "id": "b78f0437",
   "metadata": {},
   "outputs": [],
   "source": [
    "# Information Gain\n",
    "\n",
    "def _calc_ig(X, feature_index, y, threshold):\n",
    "    labels_l = y[X[:, feature_index] < threshold]\n",
    "    labels_r = y[X[:, feature_index] >= threshold]\n",
    "    \n",
    "    gain_l = (len(labels_l)/(len(labels_l)) + len(labels_r))"
   ]
  },
  {
   "cell_type": "code",
   "execution_count": 5,
   "id": "fbfe898d",
   "metadata": {},
   "outputs": [],
   "source": [
    "def fit(self, X, y):\n",
    "    self.gain = 0\n",
    "    for feature_index in range(X.shape()[1]):\n",
    "        self.thresholds = np.unique(X[:, feature_index])\n",
    "        for threshold in self.thresholds:\n",
    "            _gain = self._calc_ig(X, feature_index, y, threshold)\n",
    "            \n",
    "        if _gain > self.gain:\n",
    "            self.l_label = collections.Counter(y[X[:, feature_index] < threshold]).most_common()[0][0]\n",
    "            self.r_label = collections.Counter(y[X[:, feature_index] >= threshold]).most_common()[0][0]\n",
    "            \n",
    "            self.feature = feature_index\n",
    "            self.threshold = threshold\n",
    "            self.gain = _gain\n",
    "            \n",
    "            if self.verbose == True:\n",
    "                print(\"feature\", self.feature, \"threshold\", self.threshold, \"gain\", self.gain)\n",
    "            "
   ]
  },
  {
   "cell_type": "code",
   "execution_count": null,
   "id": "3cda49f5",
   "metadata": {},
   "outputs": [],
   "source": []
  }
 ],
 "metadata": {
  "kernelspec": {
   "display_name": "Python 3 (ipykernel)",
   "language": "python",
   "name": "python3"
  },
  "language_info": {
   "codemirror_mode": {
    "name": "ipython",
    "version": 3
   },
   "file_extension": ".py",
   "mimetype": "text/x-python",
   "name": "python",
   "nbconvert_exporter": "python",
   "pygments_lexer": "ipython3",
   "version": "3.9.13"
  }
 },
 "nbformat": 4,
 "nbformat_minor": 5
}
