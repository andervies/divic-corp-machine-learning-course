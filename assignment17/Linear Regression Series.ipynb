{
 "cells": [
  {
   "cell_type": "code",
   "execution_count": 1,
   "id": "4524f73d",
   "metadata": {},
   "outputs": [],
   "source": [
    "import numpy as np\n",
    "import pandas as pd"
   ]
  },
  {
   "cell_type": "code",
   "execution_count": 2,
   "id": "2bf21cd1",
   "metadata": {},
   "outputs": [],
   "source": [
    "class ScratchLinearRegression():\n",
    "    \"\"\"\n",
    "    Scratch implementation of linear regression\n",
    "    \n",
    "    Parameters\n",
    "    ----------\n",
    "    num_iter : int\n",
    "      Number of iterations\n",
    "    lr : float\n",
    "      Learning rate\n",
    "    no_bias : bool\n",
    "      True if no bias term is included\n",
    "    verbose : bool\n",
    "      True to output the learning process\n",
    "    \n",
    "    Attributes\n",
    "    ----------\n",
    "    self.coef_ : of the following form. ndarray, shape (n_features,)\n",
    "      Parameters\n",
    "    self.loss : of the following form. ndarray, shape (self.iter,)\n",
    "      Record losses on training data\n",
    "    self.val_loss : of the following form. ndarray, shape (self.iter,)\n",
    "      Record loss on validation data\n",
    "    \"\"\"\n",
    "    \n",
    "    def __init__(self, num_iter, lr, no_bias, verbose):\n",
    "        # Record hyperparameters as attributes\n",
    "        self.iter = num_iter\n",
    "        self.lr = lr\n",
    "        self.no_bias = no_bias\n",
    "        self.verbose = verbose\n",
    "        # Prepare an array to record the loss\n",
    "        self.loss = np.zeros(self.iter)\n",
    "        self.val_loss = np.zeros(self.iter)\n",
    "        \n",
    "    def _linear_hypothesis(self, X):\n",
    "        \"\"\"\n",
    "        Compute a linear hypothetical function\n",
    "\n",
    "        Parameters\n",
    "        ----------\n",
    "        X : of the following form. ndarray, shape (n_samples, n_features)\n",
    "          Training data\n",
    "\n",
    "        Returns\n",
    "        -------\n",
    "          of the following form. ndarray, shape (n_samples, 1)\n",
    "          Estimated result by linear hypothetical function\n",
    "\n",
    "        \"\"\"\n",
    "        return X @ self.theta\n",
    "        \n",
    "    def fit(self, X, y, X_val=None, y_val=None):\n",
    "        \"\"\"\n",
    "        Learn linear regression. If validation data is entered, the loss and accuracy for it are also calculated for each iteration.\n",
    "        Parameters\n",
    "        ----------\n",
    "        X : of the following form. ndarray, shape (n_samples, n_features)\n",
    "            Features of training data\n",
    "        y : of the following form. ndarray, shape (n_samples, )\n",
    "            Correct answer value of training data\n",
    "        X_val : of the following form. ndarray, shape (n_samples, n_features)\n",
    "            Features of verification data\n",
    "        y_val : of the following form. ndarray, shape (n_samples, )\n",
    "            Correct value of verification data\n",
    "        \"\"\"\n",
    "        if self.verbose:\n",
    "            #Output learning process when verbose is set to True\n",
    "            print()\n",
    "        pass\n",
    "        \n",
    "    def predict(self, X):\n",
    "        \"\"\"\n",
    "        Estimate using linear regression.\n",
    "        Parameters\n",
    "        ----------\n",
    "        X : of the following form. ndarray, shape (n_samples, n_features)\n",
    "            sample\n",
    "        Returns\n",
    "        -------\n",
    "            of the following form. ndarray, shape (n_samples, 1)\n",
    "            Estimated result by linear regression\n",
    "        \"\"\"\n",
    "        pass\n",
    "        return"
   ]
  },
  {
   "cell_type": "markdown",
   "id": "fd924fc7",
   "metadata": {},
   "source": [
    "## Problem One: Hypothetical function"
   ]
  },
  {
   "cell_type": "code",
   "execution_count": 5,
   "id": "f1122d58",
   "metadata": {},
   "outputs": [],
   "source": [
    "def _linear_hypothesis(self, X):\n",
    "    \"\"\"\n",
    "    Compute a linear hypothetical function\n",
    "\n",
    "    Parameters\n",
    "    ----------\n",
    "    X : of the following form. ndarray, shape (n_samples, n_features)\n",
    "      Training data\n",
    "\n",
    "    Returns\n",
    "    -------\n",
    "      of the following form. ndarray, shape (n_samples, 1)\n",
    "      Estimated result by linear hypothetical function\n",
    "\n",
    "    \"\"\"\n",
    "    return X @ self.theta"
   ]
  },
  {
   "cell_type": "code",
   "execution_count": 6,
   "id": "19eca308",
   "metadata": {},
   "outputs": [
    {
     "ename": "TypeError",
     "evalue": "'tuple' object is not callable",
     "output_type": "error",
     "traceback": [
      "\u001b[0;31m---------------------------------------------------------------------------\u001b[0m",
      "\u001b[0;31mTypeError\u001b[0m                                 Traceback (most recent call last)",
      "\u001b[0;32m/var/folders/_m/l886rtzn5qg4bpvjp2ln5wk80000gn/T/ipykernel_3262/3687958994.py\u001b[0m in \u001b[0;36m<module>\u001b[0;34m\u001b[0m\n\u001b[0;32m----> 1\u001b[0;31m \u001b[0mnp\u001b[0m\u001b[0;34m.\u001b[0m\u001b[0mrandom\u001b[0m\u001b[0;34m.\u001b[0m\u001b[0mrandn\u001b[0m\u001b[0;34m(\u001b[0m\u001b[0;36m1\u001b[0m\u001b[0;34m,\u001b[0m \u001b[0mX\u001b[0m\u001b[0;34m.\u001b[0m\u001b[0mshape\u001b[0m\u001b[0;34m(\u001b[0m\u001b[0;34m)\u001b[0m\u001b[0;34m[\u001b[0m\u001b[0;36m0\u001b[0m\u001b[0;34m]\u001b[0m\u001b[0;34m)\u001b[0m\u001b[0;34m\u001b[0m\u001b[0;34m\u001b[0m\u001b[0m\n\u001b[0m",
      "\u001b[0;31mTypeError\u001b[0m: 'tuple' object is not callable"
     ]
    }
   ],
   "source": [
    "np.random.randn(1, X.shape()[0])"
   ]
  },
  {
   "cell_type": "markdown",
   "id": "4a9bbb95",
   "metadata": {},
   "source": [
    "## Problem Two: Steepest descent"
   ]
  },
  {
   "cell_type": "code",
   "execution_count": 7,
   "id": "983f44b4",
   "metadata": {},
   "outputs": [],
   "source": [
    " def _gradient_descent(self, X, error):\n",
    "    \"\"\"\n",
    "    Write a description\n",
    "    \"\"\"\n",
    "    self.theta = self.theta - self.lr * np.dot(error, X)/len(X)"
   ]
  },
  {
   "cell_type": "code",
   "execution_count": 8,
   "id": "030d2159",
   "metadata": {},
   "outputs": [],
   "source": [
    "def fit(self, X, y, X_val=False, y_val=False):\n",
    "    x1 = self.linear_hypothesis(X)\n",
    "    \n",
    "    \n",
    "    self.theta = np.random.random(x1.shape()[1])\n",
    "    \n",
    "    \n",
    "    for i in range(self.iter):\n",
    "        \n",
    "        # compute pred using hyp func\n",
    "        y1 = np.dot(x1, self.theta)\n",
    "        \n",
    "        # Calc error\n",
    "        error = y1 - y \n",
    "        self.loss[i] += np.mean(error**2)/2"
   ]
  },
  {
   "cell_type": "markdown",
   "id": "ffaf0407",
   "metadata": {},
   "source": [
    "## Problem Three: Estimated"
   ]
  },
  {
   "cell_type": "code",
   "execution_count": 11,
   "id": "3efbf5f7",
   "metadata": {},
   "outputs": [
    {
     "data": {
      "text/plain": [
       "array([[-1.3474603 ],\n",
       "       [ 0.3523434 ],\n",
       "       [ 0.9546986 ],\n",
       "       [ 0.03592805],\n",
       "       [ 0.04800625],\n",
       "       [ 0.04860301],\n",
       "       [ 0.72334161],\n",
       "       [ 0.80208661],\n",
       "       [-1.14379857],\n",
       "       [ 0.17941071],\n",
       "       [-0.64770677],\n",
       "       [-1.11281215],\n",
       "       [-1.58457724],\n",
       "       [-0.08798693],\n",
       "       [ 2.47658416],\n",
       "       [-0.7322647 ],\n",
       "       [ 1.54697933],\n",
       "       [-0.13070464],\n",
       "       [ 0.30044554],\n",
       "       [-0.9443686 ],\n",
       "       [-0.30296397],\n",
       "       [-0.37444492],\n",
       "       [-1.15681626],\n",
       "       [ 0.59857517],\n",
       "       [-2.37977527],\n",
       "       [-0.60768369],\n",
       "       [ 0.54245131],\n",
       "       [ 2.02240507],\n",
       "       [ 0.04613557],\n",
       "       [ 0.52324766],\n",
       "       [ 0.29714121],\n",
       "       [-1.54292905],\n",
       "       [ 1.69235772],\n",
       "       [ 0.20931349],\n",
       "       [-0.41830152],\n",
       "       [ 0.87084178],\n",
       "       [-1.14747663],\n",
       "       [-0.17521053],\n",
       "       [-0.9617768 ],\n",
       "       [ 0.1886462 ],\n",
       "       [ 1.20200259],\n",
       "       [ 1.99008302],\n",
       "       [-1.36096559],\n",
       "       [-0.05455871],\n",
       "       [ 1.16418756],\n",
       "       [-1.45553433],\n",
       "       [ 0.01908996],\n",
       "       [-0.77873992],\n",
       "       [ 0.03754749],\n",
       "       [-0.34610187],\n",
       "       [-0.65122583],\n",
       "       [ 0.15846954],\n",
       "       [-1.20894816],\n",
       "       [-0.64764453],\n",
       "       [ 0.91484096],\n",
       "       [-1.84087587],\n",
       "       [ 0.49995133],\n",
       "       [ 1.27181862],\n",
       "       [ 0.69359851],\n",
       "       [ 0.55618522],\n",
       "       [ 0.4250724 ],\n",
       "       [-1.09712188],\n",
       "       [-0.5648753 ],\n",
       "       [ 0.35099715],\n",
       "       [ 0.83783635],\n",
       "       [ 0.05443274],\n",
       "       [-0.0093601 ],\n",
       "       [-2.35807363],\n",
       "       [-0.98299165],\n",
       "       [ 0.93465006],\n",
       "       [ 0.79523395],\n",
       "       [ 0.50991978],\n",
       "       [-0.17146461],\n",
       "       [ 0.15989294],\n",
       "       [ 2.22336022],\n",
       "       [ 0.33225315],\n",
       "       [ 0.05056171],\n",
       "       [-0.52819607],\n",
       "       [ 0.43027133],\n",
       "       [ 1.63574754],\n",
       "       [ 0.78660228],\n",
       "       [-0.60688728],\n",
       "       [ 0.39429521],\n",
       "       [ 0.7965119 ],\n",
       "       [-1.07529009],\n",
       "       [-0.19674528],\n",
       "       [ 0.8365287 ],\n",
       "       [-0.49581852],\n",
       "       [ 1.3799201 ],\n",
       "       [ 0.067471  ],\n",
       "       [-0.99590893],\n",
       "       [-0.90543814],\n",
       "       [-0.27620335],\n",
       "       [ 0.24266016],\n",
       "       [ 0.50977885],\n",
       "       [ 0.33225003],\n",
       "       [-1.10558404],\n",
       "       [ 2.08787087],\n",
       "       [ 0.28086468],\n",
       "       [ 0.61866969]])"
      ]
     },
     "execution_count": 11,
     "metadata": {},
     "output_type": "execute_result"
    }
   ],
   "source": [
    "from sklearn import datasets\n",
    "import numpy as np\n",
    "\n",
    "X, y = datasets.make_regression(n_samples=100, n_features=1, noise=20, random_state=4)\n",
    "\n",
    "theta = X.shape[1]\n",
    "X @ theta"
   ]
  },
  {
   "cell_type": "code",
   "execution_count": null,
   "id": "b8f19963",
   "metadata": {},
   "outputs": [],
   "source": []
  },
  {
   "cell_type": "markdown",
   "id": "04fc908f",
   "metadata": {},
   "source": [
    "## Problem Four: Mean squared error"
   ]
  },
  {
   "cell_type": "code",
   "execution_count": null,
   "id": "10cdf328",
   "metadata": {},
   "outputs": [],
   "source": []
  },
  {
   "cell_type": "code",
   "execution_count": null,
   "id": "aff78975",
   "metadata": {},
   "outputs": [],
   "source": []
  },
  {
   "cell_type": "markdown",
   "id": "fbdd2d13",
   "metadata": {},
   "source": [
    "## Problem Five: Objective function"
   ]
  },
  {
   "cell_type": "code",
   "execution_count": null,
   "id": "a260e9bf",
   "metadata": {},
   "outputs": [],
   "source": []
  },
  {
   "cell_type": "code",
   "execution_count": null,
   "id": "51cca7de",
   "metadata": {},
   "outputs": [],
   "source": []
  },
  {
   "cell_type": "markdown",
   "id": "c3228cff",
   "metadata": {},
   "source": [
    "## Problem Six: Learning and Estimation"
   ]
  },
  {
   "cell_type": "code",
   "execution_count": null,
   "id": "854b9931",
   "metadata": {},
   "outputs": [],
   "source": []
  },
  {
   "cell_type": "code",
   "execution_count": null,
   "id": "b78022f2",
   "metadata": {},
   "outputs": [],
   "source": []
  },
  {
   "cell_type": "markdown",
   "id": "fc8c2734",
   "metadata": {},
   "source": [
    "## Problem Seven: Plotting the learning curve"
   ]
  },
  {
   "cell_type": "code",
   "execution_count": null,
   "id": "6b3d7076",
   "metadata": {},
   "outputs": [],
   "source": []
  },
  {
   "cell_type": "code",
   "execution_count": null,
   "id": "a5512baa",
   "metadata": {},
   "outputs": [],
   "source": []
  },
  {
   "cell_type": "markdown",
   "id": "de281c55",
   "metadata": {},
   "source": [
    "## Problem Eight: (Advance task) Removal of bias term"
   ]
  },
  {
   "cell_type": "code",
   "execution_count": null,
   "id": "89149c77",
   "metadata": {},
   "outputs": [],
   "source": [
    "\n"
   ]
  },
  {
   "cell_type": "code",
   "execution_count": null,
   "id": "ada10444",
   "metadata": {},
   "outputs": [],
   "source": []
  },
  {
   "cell_type": "markdown",
   "id": "3e037a71",
   "metadata": {},
   "source": [
    "## Problem Nine: (Advance task) Multidimensional feature quantity"
   ]
  },
  {
   "cell_type": "code",
   "execution_count": null,
   "id": "c878fb96",
   "metadata": {},
   "outputs": [],
   "source": []
  },
  {
   "cell_type": "code",
   "execution_count": null,
   "id": "3650cee3",
   "metadata": {},
   "outputs": [],
   "source": []
  },
  {
   "cell_type": "markdown",
   "id": "48ca1671",
   "metadata": {},
   "source": [
    "## Problem Ten: (Advance task) Derivation of update formula"
   ]
  },
  {
   "cell_type": "code",
   "execution_count": null,
   "id": "ad461aac",
   "metadata": {},
   "outputs": [],
   "source": []
  },
  {
   "cell_type": "code",
   "execution_count": null,
   "id": "71c986de",
   "metadata": {},
   "outputs": [],
   "source": []
  },
  {
   "cell_type": "markdown",
   "id": "ace4fcde",
   "metadata": {},
   "source": [
    "## Problem Eleven: (Advance task) Problem of local optimum solution"
   ]
  },
  {
   "cell_type": "code",
   "execution_count": null,
   "id": "663b5125",
   "metadata": {},
   "outputs": [],
   "source": []
  },
  {
   "cell_type": "code",
   "execution_count": null,
   "id": "a2922d36",
   "metadata": {},
   "outputs": [],
   "source": []
  },
  {
   "cell_type": "code",
   "execution_count": null,
   "id": "3cede385",
   "metadata": {},
   "outputs": [],
   "source": []
  }
 ],
 "metadata": {
  "kernelspec": {
   "display_name": "Python 3 (ipykernel)",
   "language": "python",
   "name": "python3"
  },
  "language_info": {
   "codemirror_mode": {
    "name": "ipython",
    "version": 3
   },
   "file_extension": ".py",
   "mimetype": "text/x-python",
   "name": "python",
   "nbconvert_exporter": "python",
   "pygments_lexer": "ipython3",
   "version": "3.9.13"
  }
 },
 "nbformat": 4,
 "nbformat_minor": 5
}
