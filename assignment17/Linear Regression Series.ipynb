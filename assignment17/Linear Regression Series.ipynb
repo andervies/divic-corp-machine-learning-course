{
 "cells": [
  {
   "cell_type": "code",
   "execution_count": 19,
   "id": "4524f73d",
   "metadata": {},
   "outputs": [],
   "source": [
    "import numpy as np\n",
    "import pandas as pd"
   ]
  },
  {
   "cell_type": "code",
   "execution_count": 55,
   "id": "0b70a5bf",
   "metadata": {},
   "outputs": [
    {
     "data": {
      "text/plain": [
       "0.0"
      ]
     },
     "execution_count": 55,
     "metadata": {},
     "output_type": "execute_result"
    }
   ],
   "source": [
    "def mse(y, y1):\n",
    "    error = y - y1\n",
    "    return np.mean(error ** 2)"
   ]
  },
  {
   "cell_type": "code",
   "execution_count": 69,
   "id": "2bf21cd1",
   "metadata": {
    "scrolled": false
   },
   "outputs": [
    {
     "name": "stdout",
     "output_type": "stream",
     "text": [
      "n_iter:  0 loss:  1991.7524403196646 theta:  [0.40860792 0.95694338]\n",
      "n_iter:  1 loss:  2027.087984981273 theta:  [-0.1887022  0.9135596]\n",
      "n_iter:  2 loss:  2063.1333667985728 theta:  [-0.79198958  0.86984623]\n",
      "n_iter:  3 loss:  2099.902849692159 theta:  [-1.40131404  0.82580085]\n",
      "n_iter:  4 loss:  2137.4109842831062 theta:  [-2.01673601  0.78142098]\n",
      "n_iter:  5 loss:  2175.6726136567518 theta:  [-2.6383165   0.73670416]\n",
      "n_iter:  6 loss:  2214.702879242372 theta:  [-3.26611715  0.69164789]\n",
      "n_iter:  7 loss:  2254.517226811079 theta:  [-3.90020021  0.64624966]\n",
      "n_iter:  8 loss:  2295.1314125943295 theta:  [-4.54062854  0.60050694]\n",
      "n_iter:  9 loss:  2336.5615095254498 theta:  [-5.18746566  0.55441718]\n",
      "n_iter:  10 loss:  2378.8239136066677 theta:  [-5.8407757   0.50797782]\n",
      "n_iter:  11 loss:  2421.935350404173 theta:  [-6.50062343  0.46118628]\n",
      "n_iter:  12 loss:  2465.9128816737652 theta:  [-7.1670743   0.41403994]\n",
      "n_iter:  13 loss:  2510.7739121197455 theta:  [-7.84019437  0.36653621]\n",
      "n_iter:  14 loss:  2556.5361962896986 theta:  [-8.5200504   0.31867242]\n",
      "n_iter:  15 loss:  2603.217845607921 theta:  [-9.20670979  0.27044593]\n",
      "n_iter:  16 loss:  2650.8373355502754 theta:  [-9.90024063  0.22185407]\n",
      "n_iter:  17 loss:  2699.4135129633096 theta:  [-10.6007117    0.17289413]\n",
      "n_iter:  18 loss:  2748.9656035305616 theta:  [-11.30819244   0.1235634 ]\n",
      "n_iter:  19 loss:  2799.5132193889776 theta:  [-12.02275302   0.07385915]\n",
      "n_iter:  20 loss:  2851.0763668985005 theta:  [-12.74446427   0.02377862]\n",
      "n_iter:  21 loss:  2903.6754545678727 theta:  [-13.47339778  -0.02668095]\n",
      "n_iter:  22 loss:  2957.3313011398195 theta:  [-14.2096258   -0.07752236]\n",
      "n_iter:  23 loss:  3012.06514383882 theta:  [-14.95322136  -0.12874843]\n",
      "n_iter:  24 loss:  3067.898646784707 theta:  [-15.70425818  -0.18036197]\n",
      "n_iter:  25 loss:  3124.8539095754572 theta:  [-16.46281073  -0.23236586]\n",
      "n_iter:  26 loss:  3182.9534760425804 theta:  [-17.22895422  -0.28476294]\n",
      "n_iter:  27 loss:  3242.220343182542 theta:  [-18.00276464  -0.33755612]\n",
      "n_iter:  28 loss:  3302.6779702678004 theta:  [-18.78431871  -0.39074832]\n",
      "n_iter:  29 loss:  3364.35028814104 theta:  [-19.57369391  -0.44434245]\n",
      "n_iter:  30 loss:  3427.261708696315 theta:  [-20.37096854  -0.49834149]\n",
      "n_iter:  31 loss:  3491.4371345508257 theta:  [-21.17622165  -0.55274839]\n",
      "n_iter:  32 loss:  3556.9019689111906 theta:  [-21.98953307  -0.60756616]\n",
      "n_iter:  33 loss:  3623.6821256381186 theta:  [-22.81098347  -0.66279781]\n",
      "n_iter:  34 loss:  3691.804039513463 theta:  [-23.64065429  -0.71844638]\n",
      "n_iter:  35 loss:  3761.2946767137396 theta:  [-24.47862781  -0.77451492]\n",
      "n_iter:  36 loss:  3832.1815454942425 theta:  [-25.32498711  -0.83100653]\n",
      "n_iter:  37 loss:  3904.4927070880235 theta:  [-26.17981612  -0.88792429]\n",
      "n_iter:  38 loss:  3978.2567868240203 theta:  [-27.04319961  -0.94527134]\n",
      "n_iter:  39 loss:  4053.5029854687723 theta:  [-27.91522319  -1.00305082]\n",
      "n_iter:  40 loss:  4130.261090796199 theta:  [-28.79597332  -1.0612659 ]\n",
      "n_iter:  41 loss:  4208.56148939004 theta:  [-29.68553735  -1.11991976]\n",
      "n_iter:  42 loss:  4288.435178683628 theta:  [-30.58400348  -1.17901562]\n",
      "n_iter:  43 loss:  4369.913779241773 theta:  [-31.4914608   -1.23855671]\n",
      "n_iter:  44 loss:  4453.0295472896305 theta:  [-32.40799931  -1.2985463 ]\n",
      "n_iter:  45 loss:  4537.815387493505 theta:  [-33.33370987  -1.35898766]\n",
      "n_iter:  46 loss:  4624.304865998677 theta:  [-34.26868429  -1.41988409]\n",
      "n_iter:  47 loss:  4712.532223729404 theta:  [-35.21301528  -1.48123891]\n",
      "n_iter:  48 loss:  4802.532389956385 theta:  [-36.16679648  -1.54305549]\n",
      "n_iter:  49 loss:  4894.340996137051 theta:  [-37.13012247  -1.60533719]\n",
      "n_iter:  50 loss:  4987.994390034184 theta:  [-38.10308877  -1.66808741]\n",
      "n_iter:  51 loss:  5083.529650118445 theta:  [-39.08579186  -1.73130956]\n",
      "n_iter:  52 loss:  5180.9846002605445 theta:  [-40.07832919  -1.7950071 ]\n",
      "n_iter:  53 loss:  5280.3978247188525 theta:  [-41.08079918  -1.85918348]\n",
      "n_iter:  54 loss:  5381.808683428418 theta:  [-42.09330123  -1.9238422 ]\n",
      "n_iter:  55 loss:  5485.257327597434 theta:  [-43.11593576  -1.98898678]\n",
      "n_iter:  56 loss:  5590.784715617351 theta:  [-44.14880415  -2.05462076]\n",
      "n_iter:  57 loss:  5698.432629292947 theta:  [-45.19200884  -2.12074769]\n",
      "n_iter:  58 loss:  5808.243690398766 theta:  [-46.24565328  -2.18737118]\n",
      "n_iter:  59 loss:  5920.261377568508 theta:  [-47.30984193  -2.25449483]\n",
      "n_iter:  60 loss:  6034.53004352408 theta:  [-48.38468034  -2.32212229]\n",
      "n_iter:  61 loss:  6151.0949326511045 theta:  [-49.47027508  -2.39025722]\n",
      "n_iter:  62 loss:  6270.002198927885 theta:  [-50.5667338   -2.45890331]\n",
      "n_iter:  63 loss:  6391.298924214909 theta:  [-51.67416524  -2.52806427]\n",
      "n_iter:  64 loss:  6515.033136912177 theta:  [-52.7926792   -2.59774385]\n",
      "n_iter:  65 loss:  6641.253830991712 theta:  [-53.92238661  -2.66794582]\n",
      "n_iter:  66 loss:  6770.010985412839 theta:  [-55.06339948  -2.73867397]\n",
      "n_iter:  67 loss:  6901.355583927884 theta:  [-56.21583097  -2.80993211]\n",
      "n_iter:  68 loss:  7035.339635286201 theta:  [-57.37979535  -2.8817241 ]\n",
      "n_iter:  69 loss:  7172.0161938444835 theta:  [-58.55540805  -2.95405381]\n",
      "n_iter:  70 loss:  7311.439380591578 theta:  [-59.74278564  -3.02692513]\n",
      "n_iter:  71 loss:  7453.664404596102 theta:  [-60.94204587  -3.100342  ]\n",
      "n_iter:  72 loss:  7598.747584885388 theta:  [-62.15330766  -3.17430836]\n",
      "n_iter:  73 loss:  7746.746372764426 theta:  [-63.37669113  -3.24882819]\n",
      "n_iter:  74 loss:  7897.719374583661 theta:  [-64.61231758  -3.32390551]\n",
      "n_iter:  75 loss:  8051.726374964641 theta:  [-65.86030956  -3.39954435]\n",
      "n_iter:  76 loss:  8208.828360492767 theta:  [-67.12079081  -3.47574877]\n",
      "n_iter:  77 loss:  8369.087543886537 theta:  [-68.39388633  -3.55252287]\n",
      "n_iter:  78 loss:  8532.567388652795 theta:  [-69.67972237  -3.62987076]\n",
      "n_iter:  79 loss:  8699.332634237884 theta:  [-70.97842644  -3.70779658]\n",
      "n_iter:  80 loss:  8869.449321684573 theta:  [-72.29012732  -3.78630452]\n",
      "n_iter:  81 loss:  9042.984819804955 theta:  [-73.61495508  -3.86539878]\n",
      "n_iter:  82 loss:  9220.007851879742 theta:  [-74.95304111  -3.9450836 ]\n",
      "n_iter:  83 loss:  9400.588522894483 theta:  [-76.30451809  -4.02536323]\n",
      "n_iter:  84 loss:  9584.798347323536 theta:  [-77.66952005  -4.10624196]\n",
      "n_iter:  85 loss:  9772.710277472816 theta:  [-79.04818234  -4.18772412]\n",
      "n_iter:  86 loss:  9964.398732392501 theta:  [-80.44064168  -4.26981406]\n",
      "n_iter:  87 loss:  10159.93962737129 theta:  [-81.84703615  -4.35251615]\n",
      "n_iter:  88 loss:  10359.410404023736 theta:  [-83.26750523  -4.43583481]\n",
      "n_iter:  89 loss:  10562.89006098271 theta:  [-84.70218976  -4.51977447]\n",
      "n_iter:  90 loss:  10770.459185209156 theta:  [-86.15123203  -4.60433961]\n",
      "n_iter:  91 loss:  10982.199983931472 theta:  [-87.61477573  -4.68953473]\n",
      "n_iter:  92 loss:  11198.196317227266 theta:  [-89.09296599  -4.77536435]\n",
      "n_iter:  93 loss:  11418.533731260386 theta:  [-90.5859494   -4.86183304]\n",
      "n_iter:  94 loss:  11643.299492186332 theta:  [-92.09387401  -4.94894539]\n",
      "n_iter:  95 loss:  11872.58262073966 theta:  [-93.61688936  -5.03670603]\n",
      "n_iter:  96 loss:  12106.473927516881 theta:  [-95.15514648  -5.1251196 ]\n",
      "n_iter:  97 loss:  12345.06604896903 theta:  [-96.70879792  -5.2141908 ]\n",
      "n_iter:  98 loss:  12588.453484118067 theta:  [-98.27799774  -5.30392435]\n",
      "n_iter:  99 loss:  12836.732632011684 theta:  [-99.86290157  -5.39432499]\n"
     ]
    }
   ],
   "source": [
    "class ScratchLinearRegression():\n",
    "    \"\"\"\n",
    "    Scratch implementation of linear regression\n",
    "    \n",
    "    Parameters\n",
    "    ----------\n",
    "    num_iter : int\n",
    "      Number of iterations\n",
    "    lr : float\n",
    "      Learning rate\n",
    "    no_bias : bool\n",
    "      True if no bias term is included\n",
    "    verbose : bool\n",
    "      True to output the learning process\n",
    "    \n",
    "    Attributes\n",
    "    ----------\n",
    "    self.coef_ : of the following form. ndarray, shape (n_features,)\n",
    "      Parameters\n",
    "    self.loss : of the following form. ndarray, shape (self.iter,)\n",
    "      Record losses on training data\n",
    "    self.val_loss : of the following form. ndarray, shape (self.iter,)\n",
    "      Record loss on validation data\n",
    "    \"\"\"\n",
    "    \n",
    "    def __init__(self, num_iter, lr, no_bias, verbose):\n",
    "        # Record hyperparameters as attributes\n",
    "        self.iter = num_iter\n",
    "        self.lr = lr\n",
    "        self.no_bias = no_bias\n",
    "        self.verbose = verbose\n",
    "        # Prepare an array to record the loss\n",
    "        self.loss = np.zeros(self.iter)\n",
    "        self.val_loss = np.zeros(self.iter)\n",
    "        \n",
    "    def _linear_hypothesis(self, X):\n",
    "        \"\"\"\n",
    "        Compute a linear hypothetical function\n",
    "\n",
    "        Parameters\n",
    "        ----------\n",
    "        X : of the following form. ndarray, shape (n_samples, n_features)\n",
    "          Training data\n",
    "\n",
    "        Returns\n",
    "        -------\n",
    "          of the following form. ndarray, shape (n_samples, 1)\n",
    "          Estimated result by linear hypothetical function\n",
    "\n",
    "        \"\"\"\n",
    "        \n",
    "        if bias:\n",
    "            \n",
    "        return X @ self.theta\n",
    "    \n",
    "    \n",
    "    def _gradient_descent(self, X, error):\n",
    "        \"\"\"\n",
    "        Optimize the error using the gradient decent and update the theta values(weights)\n",
    "        \n",
    "        Parameters\n",
    "        ----------\n",
    "        X : of the following form. ndarray, shape (n_samples, n_features)\n",
    "          Training data\n",
    "          \n",
    "        error: of the following form. ndarray, shape (n_samples, 1)\n",
    "\n",
    "        \"\"\"\n",
    "        \n",
    "\n",
    "        self.theta = self.theta - self.lr * X.T.dot(error)/len(X)\n",
    "        \n",
    "\n",
    "    def fit(self, X, y, X_val=None, y_val=None):\n",
    "        \"\"\"\n",
    "        Learn linear regression. If validation data is entered, the loss and accuracy for it are also calculated for each iteration.\n",
    "        Parameters\n",
    "        ----------\n",
    "        X : of the following form. ndarray, shape (n_samples, n_features)\n",
    "            Features of training data\n",
    "        y : of the following form. ndarray, shape (n_samples, )\n",
    "            Correct answer value of training data\n",
    "        X_val : of the following form. ndarray, shape (n_samples, n_features)\n",
    "            Features of verification data\n",
    "        y_val : of the following form. ndarray, shape (n_samples, )\n",
    "            Correct value of verification data\n",
    "        \"\"\"\n",
    "        self.theta = np.ones(X.shape[1])\n",
    "        \n",
    "        for i in range(self.iter):\n",
    "            y1 = self._linear_hypothesis(X)\n",
    "\n",
    "            #compute the loss function\n",
    "            error = y - y1\n",
    "            self.loss[i] = mse(y, y1)/2\n",
    "\n",
    "            # if x_val is entered, fit to it\n",
    "            if isinstance(X_val, np.ndarray):\n",
    "                y2 = self._linear_hypothesis(X_val)\n",
    "                error_val = y_val - y2\n",
    "                self.val_loss[i] = mse(y2, y_val)/2\n",
    "\n",
    "\n",
    "            # optimize the objective function using gradient descent\n",
    "            self._gradient_descent(X, error)\n",
    "\n",
    "            if self.verbose:\n",
    "                #Output learning process when verbose is set to True\n",
    "                print(\"n_iter: \", i,\n",
    "                    \"loss: \", self.loss[i],\n",
    "                    \"theta: \", self.theta)\n",
    "\n",
    "        \n",
    "    def predict(self, X):\n",
    "        \"\"\"\n",
    "        Estimate using linear regression.\n",
    "        Parameters\n",
    "        ----------\n",
    "        X : of the following form. ndarray, shape (n_samples, n_features)\n",
    "            sample\n",
    "        Returns\n",
    "        -------\n",
    "            of the following form. ndarray, shape (n_samples, 1)\n",
    "            Estimated result by linear regression\n",
    "        \"\"\"\n",
    "        return self._linear_hypothesis(X)\n",
    "    \n",
    "reg = ScratchLinearRegression(100, 0.01, False, True)\n",
    "reg.fit(X, y)"
   ]
  },
  {
   "cell_type": "code",
   "execution_count": 44,
   "id": "e2cddd4d",
   "metadata": {},
   "outputs": [
    {
     "data": {
      "text/plain": [
       "array([0., 0., 0., 0., 0., 0., 0., 0., 0., 0., 0., 0., 0., 0., 0., 0., 0.,\n",
       "       0., 0., 0., 0., 0., 0., 0., 0., 0., 0., 0., 0., 0., 0., 0., 0., 0.,\n",
       "       0., 0., 0., 0., 0., 0., 0., 0., 0., 0., 0., 0., 0., 0., 0., 0., 0.,\n",
       "       0., 0., 0., 0., 0., 0., 0., 0., 0., 0., 0., 0., 0., 0., 0., 0., 0.,\n",
       "       0., 0., 0., 0., 0., 0., 0., 0., 0., 0., 0., 0., 0., 0., 0., 0., 0.,\n",
       "       0., 0., 0., 0., 0., 0., 0., 0., 0., 0., 0., 0., 0., 0., 0.])"
      ]
     },
     "execution_count": 44,
     "metadata": {},
     "output_type": "execute_result"
    }
   ],
   "source": [
    "(X @ np.zeros(X.shape[1]))\n",
    "self.theta - self.lr * np.dot(error, X)/len(X)"
   ]
  },
  {
   "cell_type": "markdown",
   "id": "fd924fc7",
   "metadata": {},
   "source": [
    "## Problem One: Hypothetical function"
   ]
  },
  {
   "cell_type": "code",
   "execution_count": 3,
   "id": "f1122d58",
   "metadata": {},
   "outputs": [],
   "source": [
    "def _linear_hypothesis(self, X):\n",
    "    \"\"\"\n",
    "    Compute a linear hypothetical function\n",
    "\n",
    "    Parameters\n",
    "    ----------\n",
    "    X : of the following form. ndarray, shape (n_samples, n_features)\n",
    "      Training data\n",
    "\n",
    "    Returns\n",
    "    -------\n",
    "      of the following form. ndarray, shape (n_samples, 1)\n",
    "      Estimated result by linear hypothetical function\n",
    "\n",
    "    \"\"\"\n",
    "    return X @ self.theta"
   ]
  },
  {
   "cell_type": "code",
   "execution_count": 6,
   "id": "19eca308",
   "metadata": {},
   "outputs": [
    {
     "ename": "NameError",
     "evalue": "name 'self' is not defined",
     "output_type": "error",
     "traceback": [
      "\u001b[0;31m---------------------------------------------------------------------------\u001b[0m",
      "\u001b[0;31mNameError\u001b[0m                                 Traceback (most recent call last)",
      "\u001b[0;32m/var/folders/_m/l886rtzn5qg4bpvjp2ln5wk80000gn/T/ipykernel_2761/1181723187.py\u001b[0m in \u001b[0;36m<module>\u001b[0;34m\u001b[0m\n\u001b[1;32m      9\u001b[0m     \u001b[0;32mreturn\u001b[0m \u001b[0mnp\u001b[0m\u001b[0;34m.\u001b[0m\u001b[0mconcatenate\u001b[0m\u001b[0;34m(\u001b[0m\u001b[0;34m[\u001b[0m\u001b[0mx0\u001b[0m\u001b[0;34m.\u001b[0m\u001b[0mreshape\u001b[0m\u001b[0;34m(\u001b[0m\u001b[0;34m-\u001b[0m\u001b[0;36m1\u001b[0m\u001b[0;34m,\u001b[0m\u001b[0;36m1\u001b[0m\u001b[0;34m)\u001b[0m\u001b[0;34m,\u001b[0m \u001b[0mx1\u001b[0m\u001b[0;34m]\u001b[0m\u001b[0;34m,\u001b[0m \u001b[0maxis\u001b[0m\u001b[0;34m=\u001b[0m\u001b[0;36m1\u001b[0m\u001b[0;34m)\u001b[0m\u001b[0;34m\u001b[0m\u001b[0;34m\u001b[0m\u001b[0m\n\u001b[1;32m     10\u001b[0m \u001b[0;34m\u001b[0m\u001b[0m\n\u001b[0;32m---> 11\u001b[0;31m \u001b[0m_linear_hypothesis\u001b[0m\u001b[0;34m(\u001b[0m\u001b[0mnp\u001b[0m\u001b[0;34m.\u001b[0m\u001b[0mrandom\u001b[0m\u001b[0;34m.\u001b[0m\u001b[0mrandn\u001b[0m\u001b[0;34m(\u001b[0m\u001b[0;36m1\u001b[0m\u001b[0;34m,\u001b[0m\u001b[0;36m10\u001b[0m\u001b[0;34m)\u001b[0m\u001b[0;34m)\u001b[0m\u001b[0;34m\u001b[0m\u001b[0;34m\u001b[0m\u001b[0m\n\u001b[0m",
      "\u001b[0;32m/var/folders/_m/l886rtzn5qg4bpvjp2ln5wk80000gn/T/ipykernel_2761/1181723187.py\u001b[0m in \u001b[0;36m_linear_hypothesis\u001b[0;34m(X)\u001b[0m\n\u001b[1;32m      2\u001b[0m     \u001b[0mx1\u001b[0m \u001b[0;34m=\u001b[0m \u001b[0mX\u001b[0m\u001b[0;34m\u001b[0m\u001b[0;34m\u001b[0m\u001b[0m\n\u001b[1;32m      3\u001b[0m \u001b[0;34m\u001b[0m\u001b[0m\n\u001b[0;32m----> 4\u001b[0;31m     \u001b[0;32mif\u001b[0m \u001b[0mself\u001b[0m\u001b[0;34m.\u001b[0m\u001b[0mno_bias\u001b[0m\u001b[0;34m:\u001b[0m\u001b[0;34m\u001b[0m\u001b[0;34m\u001b[0m\u001b[0m\n\u001b[0m\u001b[1;32m      5\u001b[0m         \u001b[0mx0\u001b[0m \u001b[0;34m=\u001b[0m \u001b[0mnp\u001b[0m\u001b[0;34m.\u001b[0m\u001b[0mzeros\u001b[0m\u001b[0;34m(\u001b[0m\u001b[0mx1\u001b[0m\u001b[0;34m.\u001b[0m\u001b[0mshape\u001b[0m\u001b[0;34m[\u001b[0m\u001b[0;36m0\u001b[0m\u001b[0;34m]\u001b[0m\u001b[0;34m)\u001b[0m\u001b[0;34m\u001b[0m\u001b[0;34m\u001b[0m\u001b[0m\n\u001b[1;32m      6\u001b[0m     \u001b[0;32melse\u001b[0m\u001b[0;34m:\u001b[0m\u001b[0;34m\u001b[0m\u001b[0;34m\u001b[0m\u001b[0m\n",
      "\u001b[0;31mNameError\u001b[0m: name 'self' is not defined"
     ]
    }
   ],
   "source": [
    "def _linear_hypothesis(self, X):\n",
    "    x1 = X\n",
    "    \n",
    "    if self.no_bias:\n",
    "        x0 = np.zeros(x1.shape[0])\n",
    "    else:\n",
    "        x0 = np.ones(x1.shape[0])\n",
    "    \n",
    "    return np.concatenate([x0.reshape(-1,1), x1], axis=1)\n",
    "\n",
    "_linear_hypothesis(np.random.randn(1,10))"
   ]
  },
  {
   "cell_type": "code",
   "execution_count": 35,
   "id": "c3aa5c7b",
   "metadata": {},
   "outputs": [
    {
     "ename": "ValueError",
     "evalue": "matmul: Input operand 1 has a mismatch in its core dimension 0, with gufunc signature (n?,k),(k,m?)->(n?,m?) (size 2 is different from 100)",
     "output_type": "error",
     "traceback": [
      "\u001b[0;31m---------------------------------------------------------------------------\u001b[0m",
      "\u001b[0;31mValueError\u001b[0m                                Traceback (most recent call last)",
      "\u001b[0;32m/var/folders/_m/l886rtzn5qg4bpvjp2ln5wk80000gn/T/ipykernel_4473/1706225739.py\u001b[0m in \u001b[0;36m<module>\u001b[0;34m\u001b[0m\n\u001b[1;32m      1\u001b[0m \u001b[0mreg\u001b[0m \u001b[0;34m=\u001b[0m \u001b[0mScratchLinearRegression\u001b[0m\u001b[0;34m(\u001b[0m\u001b[0;36m1000\u001b[0m\u001b[0;34m,\u001b[0m \u001b[0;36m0.01\u001b[0m\u001b[0;34m,\u001b[0m \u001b[0;32mFalse\u001b[0m\u001b[0;34m,\u001b[0m \u001b[0;32mTrue\u001b[0m\u001b[0;34m)\u001b[0m\u001b[0;34m\u001b[0m\u001b[0;34m\u001b[0m\u001b[0m\n\u001b[0;32m----> 2\u001b[0;31m \u001b[0mreg\u001b[0m\u001b[0;34m.\u001b[0m\u001b[0mfit\u001b[0m\u001b[0;34m(\u001b[0m\u001b[0mX\u001b[0m\u001b[0;34m,\u001b[0m \u001b[0my\u001b[0m\u001b[0;34m)\u001b[0m\u001b[0;34m\u001b[0m\u001b[0;34m\u001b[0m\u001b[0m\n\u001b[0m",
      "\u001b[0;32m/var/folders/_m/l886rtzn5qg4bpvjp2ln5wk80000gn/T/ipykernel_4473/2702989086.py\u001b[0m in \u001b[0;36mfit\u001b[0;34m(self, X, y, X_val, y_val)\u001b[0m\n\u001b[1;32m     84\u001b[0m \u001b[0;34m\u001b[0m\u001b[0m\n\u001b[1;32m     85\u001b[0m         \u001b[0;32mfor\u001b[0m \u001b[0mi\u001b[0m \u001b[0;32min\u001b[0m \u001b[0mrange\u001b[0m\u001b[0;34m(\u001b[0m\u001b[0mself\u001b[0m\u001b[0;34m.\u001b[0m\u001b[0miter\u001b[0m\u001b[0;34m)\u001b[0m\u001b[0;34m:\u001b[0m\u001b[0;34m\u001b[0m\u001b[0;34m\u001b[0m\u001b[0m\n\u001b[0;32m---> 86\u001b[0;31m             \u001b[0my1\u001b[0m \u001b[0;34m=\u001b[0m \u001b[0mself\u001b[0m\u001b[0;34m.\u001b[0m\u001b[0m_linear_hypothesis\u001b[0m\u001b[0;34m(\u001b[0m\u001b[0mX\u001b[0m\u001b[0;34m)\u001b[0m\u001b[0;34m\u001b[0m\u001b[0;34m\u001b[0m\u001b[0m\n\u001b[0m\u001b[1;32m     87\u001b[0m \u001b[0;34m\u001b[0m\u001b[0m\n\u001b[1;32m     88\u001b[0m             \u001b[0;31m#compute the loss function\u001b[0m\u001b[0;34m\u001b[0m\u001b[0;34m\u001b[0m\u001b[0m\n",
      "\u001b[0;32m/var/folders/_m/l886rtzn5qg4bpvjp2ln5wk80000gn/T/ipykernel_4473/2702989086.py\u001b[0m in \u001b[0;36m_linear_hypothesis\u001b[0;34m(self, X)\u001b[0m\n\u001b[1;32m     49\u001b[0m \u001b[0;34m\u001b[0m\u001b[0m\n\u001b[1;32m     50\u001b[0m         \"\"\"\n\u001b[0;32m---> 51\u001b[0;31m         \u001b[0;32mreturn\u001b[0m \u001b[0mX\u001b[0m\u001b[0;34m.\u001b[0m\u001b[0mT\u001b[0m \u001b[0;34m@\u001b[0m \u001b[0mself\u001b[0m\u001b[0;34m.\u001b[0m\u001b[0mtheta\u001b[0m\u001b[0;34m\u001b[0m\u001b[0;34m\u001b[0m\u001b[0m\n\u001b[0m\u001b[1;32m     52\u001b[0m \u001b[0;34m\u001b[0m\u001b[0m\n\u001b[1;32m     53\u001b[0m \u001b[0;34m\u001b[0m\u001b[0m\n",
      "\u001b[0;31mValueError\u001b[0m: matmul: Input operand 1 has a mismatch in its core dimension 0, with gufunc signature (n?,k),(k,m?)->(n?,m?) (size 2 is different from 100)"
     ]
    }
   ],
   "source": [
    "reg = ScratchLinearRegression(1000, 0.01, False, True)\n",
    "reg.fit(X, y)"
   ]
  },
  {
   "cell_type": "markdown",
   "id": "4a9bbb95",
   "metadata": {},
   "source": [
    "## Problem Two: Steepest descent"
   ]
  },
  {
   "cell_type": "code",
   "execution_count": 8,
   "id": "030d2159",
   "metadata": {},
   "outputs": [],
   "source": [
    "def fit(self, X, y, X_val=False, y_val=False):\n",
    "    x1 = self.linear_hypothesis(X)\n",
    "    \n",
    "    \n",
    "    self.theta = np.random.random(x1.shape()[1])\n",
    "    \n",
    "    \n",
    "    for i in range(self.iter):\n",
    "        \n",
    "        # compute pred using hyp func\n",
    "        y1 = np.dot(x1, self.theta)\n",
    "        \n",
    "        # Calc error\n",
    "        error = y1 - y \n",
    "        self.loss[i] += np.mean(error**2)/2"
   ]
  },
  {
   "cell_type": "markdown",
   "id": "ffaf0407",
   "metadata": {},
   "source": [
    "## Problem Three: Estimated"
   ]
  },
  {
   "cell_type": "code",
   "execution_count": 30,
   "id": "3efbf5f7",
   "metadata": {},
   "outputs": [
    {
     "ename": "ValueError",
     "evalue": "matmul: Input operand 1 does not have enough dimensions (has 0, gufunc core with signature (n?,k),(k,m?)->(n?,m?) requires 1)",
     "output_type": "error",
     "traceback": [
      "\u001b[0;31m---------------------------------------------------------------------------\u001b[0m",
      "\u001b[0;31mValueError\u001b[0m                                Traceback (most recent call last)",
      "\u001b[0;32m/var/folders/_m/l886rtzn5qg4bpvjp2ln5wk80000gn/T/ipykernel_4473/3395020267.py\u001b[0m in \u001b[0;36m<module>\u001b[0;34m\u001b[0m\n\u001b[1;32m      5\u001b[0m \u001b[0;34m\u001b[0m\u001b[0m\n\u001b[1;32m      6\u001b[0m \u001b[0mtheta\u001b[0m \u001b[0;34m=\u001b[0m \u001b[0mX\u001b[0m\u001b[0;34m.\u001b[0m\u001b[0mshape\u001b[0m\u001b[0;34m[\u001b[0m\u001b[0;36m1\u001b[0m\u001b[0;34m]\u001b[0m\u001b[0;34m\u001b[0m\u001b[0;34m\u001b[0m\u001b[0m\n\u001b[0;32m----> 7\u001b[0;31m \u001b[0mX\u001b[0m \u001b[0;34m@\u001b[0m \u001b[0mtheta\u001b[0m\u001b[0;34m\u001b[0m\u001b[0;34m\u001b[0m\u001b[0m\n\u001b[0m",
      "\u001b[0;31mValueError\u001b[0m: matmul: Input operand 1 does not have enough dimensions (has 0, gufunc core with signature (n?,k),(k,m?)->(n?,m?) requires 1)"
     ]
    }
   ],
   "source": [
    "from sklearn import datasets\n",
    "import numpy as np\n",
    "\n",
    "X, y = datasets.make_regression(n_samples=100, n_features=2, noise=20, random_state=4)\n",
    "\n",
    "theta = X.shape[1]\n",
    "X @ theta"
   ]
  },
  {
   "cell_type": "code",
   "execution_count": null,
   "id": "b8f19963",
   "metadata": {},
   "outputs": [],
   "source": []
  },
  {
   "cell_type": "markdown",
   "id": "04fc908f",
   "metadata": {},
   "source": [
    "## Problem Four: Mean squared error"
   ]
  },
  {
   "cell_type": "code",
   "execution_count": null,
   "id": "10cdf328",
   "metadata": {},
   "outputs": [],
   "source": []
  },
  {
   "cell_type": "code",
   "execution_count": null,
   "id": "aff78975",
   "metadata": {},
   "outputs": [],
   "source": []
  },
  {
   "cell_type": "markdown",
   "id": "fbdd2d13",
   "metadata": {},
   "source": [
    "## Problem Five: Objective function"
   ]
  },
  {
   "cell_type": "code",
   "execution_count": null,
   "id": "a260e9bf",
   "metadata": {},
   "outputs": [],
   "source": []
  },
  {
   "cell_type": "code",
   "execution_count": null,
   "id": "51cca7de",
   "metadata": {},
   "outputs": [],
   "source": []
  },
  {
   "cell_type": "markdown",
   "id": "c3228cff",
   "metadata": {},
   "source": [
    "## Problem Six: Learning and Estimation"
   ]
  },
  {
   "cell_type": "code",
   "execution_count": null,
   "id": "854b9931",
   "metadata": {},
   "outputs": [],
   "source": []
  },
  {
   "cell_type": "code",
   "execution_count": null,
   "id": "b78022f2",
   "metadata": {},
   "outputs": [],
   "source": []
  },
  {
   "cell_type": "markdown",
   "id": "fc8c2734",
   "metadata": {},
   "source": [
    "## Problem Seven: Plotting the learning curve"
   ]
  },
  {
   "cell_type": "code",
   "execution_count": null,
   "id": "6b3d7076",
   "metadata": {},
   "outputs": [],
   "source": []
  },
  {
   "cell_type": "code",
   "execution_count": null,
   "id": "a5512baa",
   "metadata": {},
   "outputs": [],
   "source": []
  },
  {
   "cell_type": "markdown",
   "id": "de281c55",
   "metadata": {},
   "source": [
    "## Problem Eight: (Advance task) Removal of bias term"
   ]
  },
  {
   "cell_type": "code",
   "execution_count": null,
   "id": "89149c77",
   "metadata": {},
   "outputs": [],
   "source": [
    "\n"
   ]
  },
  {
   "cell_type": "code",
   "execution_count": null,
   "id": "ada10444",
   "metadata": {},
   "outputs": [],
   "source": []
  },
  {
   "cell_type": "markdown",
   "id": "3e037a71",
   "metadata": {},
   "source": [
    "## Problem Nine: (Advance task) Multidimensional feature quantity"
   ]
  },
  {
   "cell_type": "code",
   "execution_count": null,
   "id": "c878fb96",
   "metadata": {},
   "outputs": [],
   "source": []
  },
  {
   "cell_type": "code",
   "execution_count": null,
   "id": "3650cee3",
   "metadata": {},
   "outputs": [],
   "source": []
  },
  {
   "cell_type": "markdown",
   "id": "48ca1671",
   "metadata": {},
   "source": [
    "## Problem Ten: (Advance task) Derivation of update formula"
   ]
  },
  {
   "cell_type": "code",
   "execution_count": null,
   "id": "ad461aac",
   "metadata": {},
   "outputs": [],
   "source": []
  },
  {
   "cell_type": "code",
   "execution_count": null,
   "id": "71c986de",
   "metadata": {},
   "outputs": [],
   "source": []
  },
  {
   "cell_type": "markdown",
   "id": "ace4fcde",
   "metadata": {},
   "source": [
    "## Problem Eleven: (Advance task) Problem of local optimum solution"
   ]
  },
  {
   "cell_type": "code",
   "execution_count": null,
   "id": "663b5125",
   "metadata": {},
   "outputs": [],
   "source": []
  },
  {
   "cell_type": "code",
   "execution_count": null,
   "id": "a2922d36",
   "metadata": {},
   "outputs": [],
   "source": []
  },
  {
   "cell_type": "code",
   "execution_count": null,
   "id": "3cede385",
   "metadata": {},
   "outputs": [],
   "source": []
  }
 ],
 "metadata": {
  "kernelspec": {
   "display_name": "Python 3 (ipykernel)",
   "language": "python",
   "name": "python3"
  },
  "language_info": {
   "codemirror_mode": {
    "name": "ipython",
    "version": 3
   },
   "file_extension": ".py",
   "mimetype": "text/x-python",
   "name": "python",
   "nbconvert_exporter": "python",
   "pygments_lexer": "ipython3",
   "version": "3.9.13"
  }
 },
 "nbformat": 4,
 "nbformat_minor": 5
}
