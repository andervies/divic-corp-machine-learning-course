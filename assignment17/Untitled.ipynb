{
 "cells": [
  {
   "cell_type": "code",
   "execution_count": 2,
   "id": "4524f73d",
   "metadata": {},
   "outputs": [],
   "source": [
    "import numpy as np\n",
    "import pandas as pd"
   ]
  },
  {
   "cell_type": "code",
   "execution_count": 3,
   "id": "2bf21cd1",
   "metadata": {},
   "outputs": [],
   "source": [
    "class ScratchLinearRegression():\n",
    "    \"\"\"\n",
    "    Scratch implementation of linear regression\n",
    "    \n",
    "    Parameters\n",
    "    ----------\n",
    "    num_iter : int\n",
    "      Number of iterations\n",
    "    lr : float\n",
    "      Learning rate\n",
    "    no_bias : bool\n",
    "      True if no bias term is included\n",
    "    verbose : bool\n",
    "      True to output the learning process\n",
    "    \n",
    "    Attributes\n",
    "    ----------\n",
    "    self.coef_ : of the following form. ndarray, shape (n_features,)\n",
    "      Parameters\n",
    "    self.loss : of the following form. ndarray, shape (self.iter,)\n",
    "      Record losses on training data\n",
    "    self.val_loss : of the following form. ndarray, shape (self.iter,)\n",
    "      Record loss on validation data\n",
    "    \"\"\"\n",
    "    \n",
    "    def __init__(self, num_iter, lr, no_bias, verbose):\n",
    "        # Record hyperparameters as attributes\n",
    "        self.iter = num_iter\n",
    "        self.lr = lr\n",
    "        self.no_bias = no_bias\n",
    "        self.verbose = verbose\n",
    "        # Prepare an array to record the loss\n",
    "        self.loss = np.zeros(self.iter)\n",
    "        self.val_loss = np.zeros(self.iter)\n",
    "        \n",
    "    def _linear_hypothesis(self, X):\n",
    "        \"\"\"\n",
    "        Compute a linear hypothetical function\n",
    "\n",
    "        Parameters\n",
    "        ----------\n",
    "        X : of the following form. ndarray, shape (n_samples, n_features)\n",
    "          Training data\n",
    "\n",
    "        Returns\n",
    "        -------\n",
    "          of the following form. ndarray, shape (n_samples, 1)\n",
    "          Estimated result by linear hypothetical function\n",
    "\n",
    "        \"\"\"\n",
    "        return X @ self.theta\n",
    "        \n",
    "    def fit(self, X, y, X_val=None, y_val=None):\n",
    "        \"\"\"\n",
    "        Learn linear regression. If validation data is entered, the loss and accuracy for it are also calculated for each iteration.\n",
    "        Parameters\n",
    "        ----------\n",
    "        X : of the following form. ndarray, shape (n_samples, n_features)\n",
    "            Features of training data\n",
    "        y : of the following form. ndarray, shape (n_samples, )\n",
    "            Correct answer value of training data\n",
    "        X_val : of the following form. ndarray, shape (n_samples, n_features)\n",
    "            Features of verification data\n",
    "        y_val : of the following form. ndarray, shape (n_samples, )\n",
    "            Correct value of verification data\n",
    "        \"\"\"\n",
    "        if self.verbose:\n",
    "            #Output learning process when verbose is set to True\n",
    "            print()\n",
    "        pass\n",
    "        \n",
    "    def predict(self, X):\n",
    "        \"\"\"\n",
    "        Estimate using linear regression.\n",
    "        Parameters\n",
    "        ----------\n",
    "        X : of the following form. ndarray, shape (n_samples, n_features)\n",
    "            sample\n",
    "        Returns\n",
    "        -------\n",
    "            of the following form. ndarray, shape (n_samples, 1)\n",
    "            Estimated result by linear regression\n",
    "        \"\"\"\n",
    "        pass\n",
    "        return"
   ]
  },
  {
   "cell_type": "markdown",
   "id": "fd924fc7",
   "metadata": {},
   "source": [
    "## Problem One: Hypothetical function"
   ]
  },
  {
   "cell_type": "code",
   "execution_count": 4,
   "id": "f1122d58",
   "metadata": {},
   "outputs": [
    {
     "ename": "SyntaxError",
     "evalue": "invalid syntax (552287937.py, line 17)",
     "output_type": "error",
     "traceback": [
      "\u001b[0;36m  File \u001b[0;32m\"/var/folders/_m/l886rtzn5qg4bpvjp2ln5wk80000gn/T/ipykernel_957/552287937.py\"\u001b[0;36m, line \u001b[0;32m17\u001b[0m\n\u001b[0;31m    pred = X np.random.randn(1, X.shape()[0]@ self.theta\u001b[0m\n\u001b[0m             ^\u001b[0m\n\u001b[0;31mSyntaxError\u001b[0m\u001b[0;31m:\u001b[0m invalid syntax\n"
     ]
    }
   ],
   "source": [
    "def _linear_hypothesis(self, X):\n",
    "    \"\"\"\n",
    "    Compute a linear hypothetical function\n",
    "\n",
    "    Parameters\n",
    "    ----------\n",
    "    X : of the following form. ndarray, shape (n_samples, n_features)\n",
    "      Training data\n",
    "\n",
    "    Returns\n",
    "    -------\n",
    "      of the following form. ndarray, shape (n_samples, 1)\n",
    "      Estimated result by linear hypothetical function\n",
    "\n",
    "    \"\"\"\n",
    "    return X @ self.theta"
   ]
  },
  {
   "cell_type": "code",
   "execution_count": 6,
   "id": "19eca308",
   "metadata": {},
   "outputs": [
    {
     "ename": "NameError",
     "evalue": "name 'X' is not defined",
     "output_type": "error",
     "traceback": [
      "\u001b[0;31m---------------------------------------------------------------------------\u001b[0m",
      "\u001b[0;31mNameError\u001b[0m                                 Traceback (most recent call last)",
      "\u001b[0;32m/var/folders/_m/l886rtzn5qg4bpvjp2ln5wk80000gn/T/ipykernel_957/3687958994.py\u001b[0m in \u001b[0;36m<module>\u001b[0;34m\u001b[0m\n\u001b[0;32m----> 1\u001b[0;31m \u001b[0mnp\u001b[0m\u001b[0;34m.\u001b[0m\u001b[0mrandom\u001b[0m\u001b[0;34m.\u001b[0m\u001b[0mrandn\u001b[0m\u001b[0;34m(\u001b[0m\u001b[0;36m1\u001b[0m\u001b[0;34m,\u001b[0m \u001b[0mX\u001b[0m\u001b[0;34m.\u001b[0m\u001b[0mshape\u001b[0m\u001b[0;34m(\u001b[0m\u001b[0;34m)\u001b[0m\u001b[0;34m[\u001b[0m\u001b[0;36m0\u001b[0m\u001b[0;34m]\u001b[0m\u001b[0;34m)\u001b[0m\u001b[0;34m\u001b[0m\u001b[0;34m\u001b[0m\u001b[0m\n\u001b[0m",
      "\u001b[0;31mNameError\u001b[0m: name 'X' is not defined"
     ]
    }
   ],
   "source": [
    "np.random.randn(1, X.shape()[0])"
   ]
  },
  {
   "cell_type": "markdown",
   "id": "4a9bbb95",
   "metadata": {},
   "source": [
    "## Problem Two: Steepest descent"
   ]
  },
  {
   "cell_type": "code",
   "execution_count": null,
   "id": "983f44b4",
   "metadata": {},
   "outputs": [],
   "source": [
    " def _gradient_descent(self, X, error):\n",
    "    \"\"\"\n",
    "    Write a description\n",
    "    \"\"\"\n",
    "    self.theta = self.theta - self.lr * np.dot(error, X)/len(X)"
   ]
  },
  {
   "cell_type": "code",
   "execution_count": null,
   "id": "030d2159",
   "metadata": {},
   "outputs": [],
   "source": [
    "def fit(self, X, y, X_val=False, y_val=False):\n",
    "    x1 = self.linear_hypothesis(X)\n",
    "    \n",
    "    \n",
    "    self.theta = np.random.random(x1.shape()[1])\n",
    "    \n",
    "    \n",
    "    for i in range(self.iter):\n",
    "        \n",
    "        # compute pred using hyp func\n",
    "        y1 = np.dot(x1, self.theta)\n",
    "        \n",
    "        # Calc error\n",
    "        error = y1 - y \n",
    "        self.loss[i] += np.mean(error**2)/2"
   ]
  },
  {
   "cell_type": "markdown",
   "id": "ffaf0407",
   "metadata": {},
   "source": [
    "## Problem Three: Estimated"
   ]
  },
  {
   "cell_type": "code",
   "execution_count": 10,
   "id": "3efbf5f7",
   "metadata": {},
   "outputs": [
    {
     "ename": "ValueError",
     "evalue": "matmul: Input operand 1 does not have enough dimensions (has 0, gufunc core with signature (n?,k),(k,m?)->(n?,m?) requires 1)",
     "output_type": "error",
     "traceback": [
      "\u001b[0;31m---------------------------------------------------------------------------\u001b[0m",
      "\u001b[0;31mValueError\u001b[0m                                Traceback (most recent call last)",
      "\u001b[0;32m/var/folders/_m/l886rtzn5qg4bpvjp2ln5wk80000gn/T/ipykernel_1138/3695474407.py\u001b[0m in \u001b[0;36m<module>\u001b[0;34m\u001b[0m\n\u001b[1;32m      5\u001b[0m \u001b[0;34m\u001b[0m\u001b[0m\n\u001b[1;32m      6\u001b[0m \u001b[0mtheta\u001b[0m \u001b[0;34m=\u001b[0m \u001b[0mX\u001b[0m\u001b[0;34m.\u001b[0m\u001b[0mshape\u001b[0m\u001b[0;34m[\u001b[0m\u001b[0;36m1\u001b[0m\u001b[0;34m]\u001b[0m\u001b[0;34m\u001b[0m\u001b[0;34m\u001b[0m\u001b[0m\n\u001b[0;32m----> 7\u001b[0;31m \u001b[0mX\u001b[0m \u001b[0;34m@\u001b[0m \u001b[0mtheta\u001b[0m\u001b[0;34m\u001b[0m\u001b[0;34m\u001b[0m\u001b[0m\n\u001b[0m",
      "\u001b[0;31mValueError\u001b[0m: matmul: Input operand 1 does not have enough dimensions (has 0, gufunc core with signature (n?,k),(k,m?)->(n?,m?) requires 1)"
     ]
    }
   ],
   "source": [
    "from sklearn import datasets\n",
    "import numpy as np\n",
    "\n",
    "X, y = datasets.make_regression(n_samples=100, n_features=1, noise=20, random_state=4)\n",
    "\n",
    "theta = X.shape[1]\n",
    "X @ theta"
   ]
  },
  {
   "cell_type": "code",
   "execution_count": null,
   "id": "b8f19963",
   "metadata": {},
   "outputs": [],
   "source": []
  },
  {
   "cell_type": "markdown",
   "id": "04fc908f",
   "metadata": {},
   "source": [
    "## Problem Four: Mean squared error"
   ]
  },
  {
   "cell_type": "code",
   "execution_count": null,
   "id": "10cdf328",
   "metadata": {},
   "outputs": [],
   "source": []
  },
  {
   "cell_type": "code",
   "execution_count": null,
   "id": "aff78975",
   "metadata": {},
   "outputs": [],
   "source": []
  },
  {
   "cell_type": "markdown",
   "id": "fbdd2d13",
   "metadata": {},
   "source": [
    "## Problem Five: Objective function"
   ]
  },
  {
   "cell_type": "code",
   "execution_count": null,
   "id": "a260e9bf",
   "metadata": {},
   "outputs": [],
   "source": []
  },
  {
   "cell_type": "code",
   "execution_count": null,
   "id": "51cca7de",
   "metadata": {},
   "outputs": [],
   "source": []
  },
  {
   "cell_type": "markdown",
   "id": "c3228cff",
   "metadata": {},
   "source": [
    "## Problem Six: Learning and Estimation"
   ]
  },
  {
   "cell_type": "code",
   "execution_count": null,
   "id": "854b9931",
   "metadata": {},
   "outputs": [],
   "source": []
  },
  {
   "cell_type": "code",
   "execution_count": null,
   "id": "b78022f2",
   "metadata": {},
   "outputs": [],
   "source": []
  },
  {
   "cell_type": "markdown",
   "id": "fc8c2734",
   "metadata": {},
   "source": [
    "## Problem Seven: Plotting the learning curve"
   ]
  },
  {
   "cell_type": "code",
   "execution_count": null,
   "id": "6b3d7076",
   "metadata": {},
   "outputs": [],
   "source": []
  },
  {
   "cell_type": "code",
   "execution_count": null,
   "id": "a5512baa",
   "metadata": {},
   "outputs": [],
   "source": []
  },
  {
   "cell_type": "markdown",
   "id": "de281c55",
   "metadata": {},
   "source": [
    "## Problem Eight: (Advance task) Removal of bias term"
   ]
  },
  {
   "cell_type": "code",
   "execution_count": null,
   "id": "89149c77",
   "metadata": {},
   "outputs": [],
   "source": [
    "\n"
   ]
  },
  {
   "cell_type": "code",
   "execution_count": null,
   "id": "ada10444",
   "metadata": {},
   "outputs": [],
   "source": []
  },
  {
   "cell_type": "markdown",
   "id": "3e037a71",
   "metadata": {},
   "source": [
    "## Problem Nine: (Advance task) Multidimensional feature quantity"
   ]
  },
  {
   "cell_type": "code",
   "execution_count": null,
   "id": "c878fb96",
   "metadata": {},
   "outputs": [],
   "source": []
  },
  {
   "cell_type": "code",
   "execution_count": null,
   "id": "3650cee3",
   "metadata": {},
   "outputs": [],
   "source": []
  },
  {
   "cell_type": "markdown",
   "id": "48ca1671",
   "metadata": {},
   "source": [
    "## Problem Ten: (Advance task) Derivation of update formula"
   ]
  },
  {
   "cell_type": "code",
   "execution_count": null,
   "id": "ad461aac",
   "metadata": {},
   "outputs": [],
   "source": []
  },
  {
   "cell_type": "code",
   "execution_count": null,
   "id": "71c986de",
   "metadata": {},
   "outputs": [],
   "source": []
  },
  {
   "cell_type": "markdown",
   "id": "ace4fcde",
   "metadata": {},
   "source": [
    "## Problem Eleven: (Advance task) Problem of local optimum solution"
   ]
  },
  {
   "cell_type": "code",
   "execution_count": null,
   "id": "663b5125",
   "metadata": {},
   "outputs": [],
   "source": []
  },
  {
   "cell_type": "code",
   "execution_count": null,
   "id": "a2922d36",
   "metadata": {},
   "outputs": [],
   "source": []
  },
  {
   "cell_type": "code",
   "execution_count": null,
   "id": "3cede385",
   "metadata": {},
   "outputs": [],
   "source": []
  }
 ],
 "metadata": {
  "kernelspec": {
   "display_name": "Python 3 (ipykernel)",
   "language": "python",
   "name": "python3"
  },
  "language_info": {
   "codemirror_mode": {
    "name": "ipython",
    "version": 3
   },
   "file_extension": ".py",
   "mimetype": "text/x-python",
   "name": "python",
   "nbconvert_exporter": "python",
   "pygments_lexer": "ipython3",
   "version": "3.9.13"
  }
 },
 "nbformat": 4,
 "nbformat_minor": 5
}
