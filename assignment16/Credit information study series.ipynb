{
 "cells": [
  {
   "cell_type": "markdown",
   "id": "78cd6cff",
   "metadata": {},
   "source": [
    "## Problem One: Confirmation of competition contents"
   ]
  },
  {
   "cell_type": "markdown",
   "id": "4e5e3bc8",
   "metadata": {},
   "source": [
    "* What to learn and what to predict?\n",
    "\n",
    "* What kind of file to create and submit to Kaggle?\n",
    "\n",
    "* What kind of index value will be used to evaluate the submissions?\n",
    "\n",
    "\n",
    "\n",
    "\n",
    "\n",
    "What to learn and what to predict\n",
    "• To predict how capable each applicant is of repaying a loan\n",
    "What kind of file to create and submit to Kaggle?\n",
    "• A file predicting the probability for the TARGET variable. And should contain a header of both SK_ID_CURR and TARGET\n",
    "What kind of index value will be used to evaluate the submissions?\n",
    "• Submissions are evaluated on area under the ROC curve between the predicted probability and the observed target. The ROC curve is created by plotting the true positive rate (TPR) against the false positive rate (FPR) at various threshold settings. The true-positive rate is also known as sensitivity, recall or probability of detection[8] in machine learning."
   ]
  },
  {
   "cell_type": "markdown",
   "id": "6d8857b8",
   "metadata": {},
   "source": [
    "## Problem Two: Learning and verification"
   ]
  },
  {
   "cell_type": "code",
   "execution_count": 144,
   "id": "0850e161",
   "metadata": {},
   "outputs": [],
   "source": [
    "import pandas as pd\n",
    "import numpy as np\n",
    "from sklearn.model_selection import train_test_split\n",
    "from sklearn.preprocessing import StandardScaler\n",
    "import matplotlib.pyplot as plt\n",
    "import seaborn as sns\n",
    "from scipy.stats import chi2_contingency"
   ]
  },
  {
   "cell_type": "code",
   "execution_count": 145,
   "id": "cd948d64",
   "metadata": {
    "scrolled": false
   },
   "outputs": [
    {
     "data": {
      "text/html": [
       "<div>\n",
       "<style scoped>\n",
       "    .dataframe tbody tr th:only-of-type {\n",
       "        vertical-align: middle;\n",
       "    }\n",
       "\n",
       "    .dataframe tbody tr th {\n",
       "        vertical-align: top;\n",
       "    }\n",
       "\n",
       "    .dataframe thead th {\n",
       "        text-align: right;\n",
       "    }\n",
       "</style>\n",
       "<table border=\"1\" class=\"dataframe\">\n",
       "  <thead>\n",
       "    <tr style=\"text-align: right;\">\n",
       "      <th></th>\n",
       "      <th>SK_ID_CURR</th>\n",
       "      <th>TARGET</th>\n",
       "      <th>NAME_CONTRACT_TYPE</th>\n",
       "      <th>CODE_GENDER</th>\n",
       "      <th>FLAG_OWN_CAR</th>\n",
       "      <th>FLAG_OWN_REALTY</th>\n",
       "      <th>CNT_CHILDREN</th>\n",
       "      <th>AMT_INCOME_TOTAL</th>\n",
       "      <th>AMT_CREDIT</th>\n",
       "      <th>AMT_ANNUITY</th>\n",
       "      <th>...</th>\n",
       "      <th>FLAG_DOCUMENT_18</th>\n",
       "      <th>FLAG_DOCUMENT_19</th>\n",
       "      <th>FLAG_DOCUMENT_20</th>\n",
       "      <th>FLAG_DOCUMENT_21</th>\n",
       "      <th>AMT_REQ_CREDIT_BUREAU_HOUR</th>\n",
       "      <th>AMT_REQ_CREDIT_BUREAU_DAY</th>\n",
       "      <th>AMT_REQ_CREDIT_BUREAU_WEEK</th>\n",
       "      <th>AMT_REQ_CREDIT_BUREAU_MON</th>\n",
       "      <th>AMT_REQ_CREDIT_BUREAU_QRT</th>\n",
       "      <th>AMT_REQ_CREDIT_BUREAU_YEAR</th>\n",
       "    </tr>\n",
       "  </thead>\n",
       "  <tbody>\n",
       "    <tr>\n",
       "      <th>0</th>\n",
       "      <td>100002</td>\n",
       "      <td>1</td>\n",
       "      <td>Cash loans</td>\n",
       "      <td>M</td>\n",
       "      <td>N</td>\n",
       "      <td>Y</td>\n",
       "      <td>0</td>\n",
       "      <td>202500.0</td>\n",
       "      <td>406597.5</td>\n",
       "      <td>24700.5</td>\n",
       "      <td>...</td>\n",
       "      <td>0</td>\n",
       "      <td>0</td>\n",
       "      <td>0</td>\n",
       "      <td>0</td>\n",
       "      <td>0.0</td>\n",
       "      <td>0.0</td>\n",
       "      <td>0.0</td>\n",
       "      <td>0.0</td>\n",
       "      <td>0.0</td>\n",
       "      <td>1.0</td>\n",
       "    </tr>\n",
       "    <tr>\n",
       "      <th>1</th>\n",
       "      <td>100003</td>\n",
       "      <td>0</td>\n",
       "      <td>Cash loans</td>\n",
       "      <td>F</td>\n",
       "      <td>N</td>\n",
       "      <td>N</td>\n",
       "      <td>0</td>\n",
       "      <td>270000.0</td>\n",
       "      <td>1293502.5</td>\n",
       "      <td>35698.5</td>\n",
       "      <td>...</td>\n",
       "      <td>0</td>\n",
       "      <td>0</td>\n",
       "      <td>0</td>\n",
       "      <td>0</td>\n",
       "      <td>0.0</td>\n",
       "      <td>0.0</td>\n",
       "      <td>0.0</td>\n",
       "      <td>0.0</td>\n",
       "      <td>0.0</td>\n",
       "      <td>0.0</td>\n",
       "    </tr>\n",
       "    <tr>\n",
       "      <th>2</th>\n",
       "      <td>100004</td>\n",
       "      <td>0</td>\n",
       "      <td>Revolving loans</td>\n",
       "      <td>M</td>\n",
       "      <td>Y</td>\n",
       "      <td>Y</td>\n",
       "      <td>0</td>\n",
       "      <td>67500.0</td>\n",
       "      <td>135000.0</td>\n",
       "      <td>6750.0</td>\n",
       "      <td>...</td>\n",
       "      <td>0</td>\n",
       "      <td>0</td>\n",
       "      <td>0</td>\n",
       "      <td>0</td>\n",
       "      <td>0.0</td>\n",
       "      <td>0.0</td>\n",
       "      <td>0.0</td>\n",
       "      <td>0.0</td>\n",
       "      <td>0.0</td>\n",
       "      <td>0.0</td>\n",
       "    </tr>\n",
       "    <tr>\n",
       "      <th>3</th>\n",
       "      <td>100006</td>\n",
       "      <td>0</td>\n",
       "      <td>Cash loans</td>\n",
       "      <td>F</td>\n",
       "      <td>N</td>\n",
       "      <td>Y</td>\n",
       "      <td>0</td>\n",
       "      <td>135000.0</td>\n",
       "      <td>312682.5</td>\n",
       "      <td>29686.5</td>\n",
       "      <td>...</td>\n",
       "      <td>0</td>\n",
       "      <td>0</td>\n",
       "      <td>0</td>\n",
       "      <td>0</td>\n",
       "      <td>NaN</td>\n",
       "      <td>NaN</td>\n",
       "      <td>NaN</td>\n",
       "      <td>NaN</td>\n",
       "      <td>NaN</td>\n",
       "      <td>NaN</td>\n",
       "    </tr>\n",
       "    <tr>\n",
       "      <th>4</th>\n",
       "      <td>100007</td>\n",
       "      <td>0</td>\n",
       "      <td>Cash loans</td>\n",
       "      <td>M</td>\n",
       "      <td>N</td>\n",
       "      <td>Y</td>\n",
       "      <td>0</td>\n",
       "      <td>121500.0</td>\n",
       "      <td>513000.0</td>\n",
       "      <td>21865.5</td>\n",
       "      <td>...</td>\n",
       "      <td>0</td>\n",
       "      <td>0</td>\n",
       "      <td>0</td>\n",
       "      <td>0</td>\n",
       "      <td>0.0</td>\n",
       "      <td>0.0</td>\n",
       "      <td>0.0</td>\n",
       "      <td>0.0</td>\n",
       "      <td>0.0</td>\n",
       "      <td>0.0</td>\n",
       "    </tr>\n",
       "  </tbody>\n",
       "</table>\n",
       "<p>5 rows × 122 columns</p>\n",
       "</div>"
      ],
      "text/plain": [
       "   SK_ID_CURR  TARGET NAME_CONTRACT_TYPE CODE_GENDER FLAG_OWN_CAR  \\\n",
       "0      100002       1         Cash loans           M            N   \n",
       "1      100003       0         Cash loans           F            N   \n",
       "2      100004       0    Revolving loans           M            Y   \n",
       "3      100006       0         Cash loans           F            N   \n",
       "4      100007       0         Cash loans           M            N   \n",
       "\n",
       "  FLAG_OWN_REALTY  CNT_CHILDREN  AMT_INCOME_TOTAL  AMT_CREDIT  AMT_ANNUITY  \\\n",
       "0               Y             0          202500.0    406597.5      24700.5   \n",
       "1               N             0          270000.0   1293502.5      35698.5   \n",
       "2               Y             0           67500.0    135000.0       6750.0   \n",
       "3               Y             0          135000.0    312682.5      29686.5   \n",
       "4               Y             0          121500.0    513000.0      21865.5   \n",
       "\n",
       "   ...  FLAG_DOCUMENT_18 FLAG_DOCUMENT_19 FLAG_DOCUMENT_20 FLAG_DOCUMENT_21  \\\n",
       "0  ...                 0                0                0                0   \n",
       "1  ...                 0                0                0                0   \n",
       "2  ...                 0                0                0                0   \n",
       "3  ...                 0                0                0                0   \n",
       "4  ...                 0                0                0                0   \n",
       "\n",
       "  AMT_REQ_CREDIT_BUREAU_HOUR AMT_REQ_CREDIT_BUREAU_DAY  \\\n",
       "0                        0.0                       0.0   \n",
       "1                        0.0                       0.0   \n",
       "2                        0.0                       0.0   \n",
       "3                        NaN                       NaN   \n",
       "4                        0.0                       0.0   \n",
       "\n",
       "   AMT_REQ_CREDIT_BUREAU_WEEK  AMT_REQ_CREDIT_BUREAU_MON  \\\n",
       "0                         0.0                        0.0   \n",
       "1                         0.0                        0.0   \n",
       "2                         0.0                        0.0   \n",
       "3                         NaN                        NaN   \n",
       "4                         0.0                        0.0   \n",
       "\n",
       "   AMT_REQ_CREDIT_BUREAU_QRT  AMT_REQ_CREDIT_BUREAU_YEAR  \n",
       "0                        0.0                         1.0  \n",
       "1                        0.0                         0.0  \n",
       "2                        0.0                         0.0  \n",
       "3                        NaN                         NaN  \n",
       "4                        0.0                         0.0  \n",
       "\n",
       "[5 rows x 122 columns]"
      ]
     },
     "execution_count": 145,
     "metadata": {},
     "output_type": "execute_result"
    }
   ],
   "source": [
    "# Loading the dataset\n",
    "df_train = pd.read_csv(\"application_train.csv\")\n",
    "df_test = pd.read_csv(\"application_test.csv\")\n",
    "\n",
    "df_train.head()"
   ]
  },
  {
   "cell_type": "code",
   "execution_count": 146,
   "id": "664979f6",
   "metadata": {
    "scrolled": true
   },
   "outputs": [
    {
     "name": "stdout",
     "output_type": "stream",
     "text": [
      "<class 'pandas.core.frame.DataFrame'>\n",
      "RangeIndex: 307511 entries, 0 to 307510\n",
      "Columns: 122 entries, SK_ID_CURR to AMT_REQ_CREDIT_BUREAU_YEAR\n",
      "dtypes: float64(65), int64(41), object(16)\n",
      "memory usage: 286.2+ MB\n"
     ]
    },
    {
     "data": {
      "text/plain": [
       "None"
      ]
     },
     "metadata": {},
     "output_type": "display_data"
    },
    {
     "name": "stdout",
     "output_type": "stream",
     "text": [
      "<class 'pandas.core.frame.DataFrame'>\n",
      "RangeIndex: 48744 entries, 0 to 48743\n",
      "Columns: 121 entries, SK_ID_CURR to AMT_REQ_CREDIT_BUREAU_YEAR\n",
      "dtypes: float64(65), int64(40), object(16)\n",
      "memory usage: 45.0+ MB\n"
     ]
    },
    {
     "data": {
      "text/plain": [
       "None"
      ]
     },
     "metadata": {},
     "output_type": "display_data"
    }
   ],
   "source": [
    "display(df_train.info())\n",
    "display(df_test.info())"
   ]
  },
  {
   "cell_type": "code",
   "execution_count": 147,
   "id": "761d2da9",
   "metadata": {
    "scrolled": true
   },
   "outputs": [
    {
     "data": {
      "text/plain": [
       "(307511, 122)"
      ]
     },
     "metadata": {},
     "output_type": "display_data"
    },
    {
     "data": {
      "text/plain": [
       "(48744, 121)"
      ]
     },
     "metadata": {},
     "output_type": "display_data"
    }
   ],
   "source": [
    "display(df_train.shape)\n",
    "display(df_test.shape)"
   ]
  },
  {
   "cell_type": "markdown",
   "id": "c4f76c08",
   "metadata": {},
   "source": [
    "* The test dataset is missing the target column because target is the variable we're trying to predict.\n",
    "* We have 16 columns of data type object"
   ]
  },
  {
   "cell_type": "code",
   "execution_count": 148,
   "id": "192f0047",
   "metadata": {},
   "outputs": [
    {
     "data": {
      "text/plain": [
       "Index(['NAME_CONTRACT_TYPE', 'CODE_GENDER', 'FLAG_OWN_CAR', 'FLAG_OWN_REALTY',\n",
       "       'NAME_TYPE_SUITE', 'NAME_INCOME_TYPE', 'NAME_EDUCATION_TYPE',\n",
       "       'NAME_FAMILY_STATUS', 'NAME_HOUSING_TYPE', 'OCCUPATION_TYPE',\n",
       "       'WEEKDAY_APPR_PROCESS_START', 'ORGANIZATION_TYPE', 'FONDKAPREMONT_MODE',\n",
       "       'HOUSETYPE_MODE', 'WALLSMATERIAL_MODE', 'EMERGENCYSTATE_MODE'],\n",
       "      dtype='object')"
      ]
     },
     "execution_count": 148,
     "metadata": {},
     "output_type": "execute_result"
    }
   ],
   "source": [
    "obj_cols = df_train.columns[df_train.dtypes == \"object\"]\n",
    "obj_cols"
   ]
  },
  {
   "cell_type": "code",
   "execution_count": 149,
   "id": "473bd7be",
   "metadata": {},
   "outputs": [
    {
     "data": {
      "text/plain": [
       "16"
      ]
     },
     "execution_count": 149,
     "metadata": {},
     "output_type": "execute_result"
    }
   ],
   "source": [
    "len(df_test.columns[df_test.dtypes == \"object\"])"
   ]
  },
  {
   "cell_type": "code",
   "execution_count": 150,
   "id": "9bd55f62",
   "metadata": {},
   "outputs": [
    {
     "data": {
      "text/plain": [
       "True     67\n",
       "False    55\n",
       "dtype: int64"
      ]
     },
     "execution_count": 150,
     "metadata": {},
     "output_type": "execute_result"
    }
   ],
   "source": [
    "(df_train.isna().sum() > 0).value_counts()"
   ]
  },
  {
   "cell_type": "code",
   "execution_count": 151,
   "id": "92197457",
   "metadata": {},
   "outputs": [
    {
     "data": {
      "text/plain": [
       "True     184207\n",
       "False    123304\n",
       "dtype: int64"
      ]
     },
     "execution_count": 151,
     "metadata": {},
     "output_type": "execute_result"
    }
   ],
   "source": [
    "(df_train.isnull().sum(axis=1) > 20).value_counts()"
   ]
  },
  {
   "cell_type": "code",
   "execution_count": 152,
   "id": "80ba9eae",
   "metadata": {},
   "outputs": [
    {
     "data": {
      "text/plain": [
       "55"
      ]
     },
     "execution_count": 152,
     "metadata": {},
     "output_type": "execute_result"
    }
   ],
   "source": [
    "# Get train set without missing values\n",
    "no_missing_train = df_train.columns[df_train.isna().sum() == 0]\n",
    "no_missing_test = df_test.columns[df_test.isna().sum() == 0]\n",
    "\n",
    "len(no_missing_train)"
   ]
  },
  {
   "cell_type": "code",
   "execution_count": 153,
   "id": "dace4bbe",
   "metadata": {},
   "outputs": [],
   "source": [
    "# Function to check the correlation between a quantitative variable and the target\n",
    "def compare_corr(features):\n",
    "    features.append(\"TARGET\")\n",
    "    return df_train[features].corr()\n",
    "\n",
    "\n",
    "def compute_chi(cat_variable):\n",
    "    # Create a contingency table\n",
    "    contingency_table = pd.crosstab(df_train[cat_variable], df_train[\"TARGET\"])\n",
    "\n",
    "    # Calculate the chi-square statistic and p-value\n",
    "    chi2, p, dof, expected = chi2_contingency(contingency_table)\n",
    "\n",
    "    # Print the results\n",
    "    print(\"Chi-square statistic:\", chi2)\n",
    "    print(\"p-value:\", p)"
   ]
  },
  {
   "cell_type": "code",
   "execution_count": 154,
   "id": "8a70de88",
   "metadata": {
    "scrolled": false
   },
   "outputs": [
    {
     "data": {
      "text/plain": [
       "COMMONAREA_AVG                  69.9\n",
       "COMMONAREA_MODE                 69.9\n",
       "COMMONAREA_MEDI                 69.9\n",
       "NONLIVINGAPARTMENTS_MODE        69.4\n",
       "NONLIVINGAPARTMENTS_AVG         69.4\n",
       "NONLIVINGAPARTMENTS_MEDI        69.4\n",
       "LIVINGAPARTMENTS_MODE           68.4\n",
       "LIVINGAPARTMENTS_MEDI           68.4\n",
       "LIVINGAPARTMENTS_AVG            68.4\n",
       "FONDKAPREMONT_MODE              68.4\n",
       "FLOORSMIN_MEDI                  67.8\n",
       "FLOORSMIN_AVG                   67.8\n",
       "FLOORSMIN_MODE                  67.8\n",
       "YEARS_BUILD_MODE                66.5\n",
       "YEARS_BUILD_MEDI                66.5\n",
       "YEARS_BUILD_AVG                 66.5\n",
       "OWN_CAR_AGE                     66.0\n",
       "LANDAREA_MEDI                   59.4\n",
       "LANDAREA_AVG                    59.4\n",
       "LANDAREA_MODE                   59.4\n",
       "BASEMENTAREA_AVG                58.5\n",
       "BASEMENTAREA_MODE               58.5\n",
       "BASEMENTAREA_MEDI               58.5\n",
       "EXT_SOURCE_1                    56.4\n",
       "NONLIVINGAREA_MEDI              55.2\n",
       "NONLIVINGAREA_AVG               55.2\n",
       "NONLIVINGAREA_MODE              55.2\n",
       "ELEVATORS_MODE                  53.3\n",
       "ELEVATORS_MEDI                  53.3\n",
       "ELEVATORS_AVG                   53.3\n",
       "WALLSMATERIAL_MODE              50.8\n",
       "APARTMENTS_MEDI                 50.7\n",
       "APARTMENTS_AVG                  50.7\n",
       "APARTMENTS_MODE                 50.7\n",
       "ENTRANCES_MEDI                  50.3\n",
       "ENTRANCES_MODE                  50.3\n",
       "ENTRANCES_AVG                   50.3\n",
       "LIVINGAREA_MEDI                 50.2\n",
       "LIVINGAREA_AVG                  50.2\n",
       "HOUSETYPE_MODE                  50.2\n",
       "LIVINGAREA_MODE                 50.2\n",
       "FLOORSMAX_MEDI                  49.8\n",
       "FLOORSMAX_MODE                  49.8\n",
       "FLOORSMAX_AVG                   49.8\n",
       "YEARS_BEGINEXPLUATATION_MEDI    48.8\n",
       "YEARS_BEGINEXPLUATATION_MODE    48.8\n",
       "YEARS_BEGINEXPLUATATION_AVG     48.8\n",
       "TOTALAREA_MODE                  48.3\n",
       "EMERGENCYSTATE_MODE             47.4\n",
       "OCCUPATION_TYPE                 31.3\n",
       "EXT_SOURCE_3                    19.8\n",
       "AMT_REQ_CREDIT_BUREAU_MON       13.5\n",
       "AMT_REQ_CREDIT_BUREAU_HOUR      13.5\n",
       "AMT_REQ_CREDIT_BUREAU_QRT       13.5\n",
       "AMT_REQ_CREDIT_BUREAU_WEEK      13.5\n",
       "AMT_REQ_CREDIT_BUREAU_DAY       13.5\n",
       "AMT_REQ_CREDIT_BUREAU_YEAR      13.5\n",
       "NAME_TYPE_SUITE                  0.4\n",
       "DEF_60_CNT_SOCIAL_CIRCLE         0.3\n",
       "OBS_60_CNT_SOCIAL_CIRCLE         0.3\n",
       "dtype: float64"
      ]
     },
     "execution_count": 154,
     "metadata": {},
     "output_type": "execute_result"
    }
   ],
   "source": [
    "# Getting the percentage of missing values in the train dataset\n",
    "\n",
    "percent_missing_train = (df_train.isna().sum() / len(df_train) * 100).round(1)\n",
    "\n",
    "col_missing_train = df_train.columns[(percent_missing_train != 0)]\n",
    "\n",
    "percent_missing_train[percent_missing_train > 0].sort_values(ascending=False).head(60)"
   ]
  },
  {
   "cell_type": "markdown",
   "id": "794d385b",
   "metadata": {},
   "source": [
    "Most of the features with missing values are related with the building or home of the client, we will investigate their individual correlation with the target later on. For now, my hypothesis is that there should be some relationship between the OCCUPATION_TYPE feature and the rate of default, so we shall test this theory in order to decide if to bother with imputation of missing variables for OCCUPATION_TYPE."
   ]
  },
  {
   "cell_type": "code",
   "execution_count": 155,
   "id": "80bd8830",
   "metadata": {
    "scrolled": true
   },
   "outputs": [
    {
     "data": {
      "text/plain": [
       "OCCUPATION_TYPE\n",
       "Accountants              0.95\n",
       "Core staff               0.94\n",
       "HR staff                 0.94\n",
       "High skill tech staff    0.94\n",
       "IT staff                 0.94\n",
       "Managers                 0.94\n",
       "Secretaries              0.93\n",
       "Medicine staff           0.93\n",
       "Private service staff    0.93\n",
       "Realty agents            0.92\n",
       "Sales staff              0.90\n",
       "Cooking staff            0.90\n",
       "Cleaning staff           0.90\n",
       "Security staff           0.89\n",
       "Waiters/barmen staff     0.89\n",
       "Laborers                 0.89\n",
       "Drivers                  0.89\n",
       "Low-skill Laborers       0.83\n",
       "Name: TARGET, dtype: float64"
      ]
     },
     "execution_count": 155,
     "metadata": {},
     "output_type": "execute_result"
    }
   ],
   "source": [
    "# Checking if there's any relationship between OCCUPATION_TYPE and rate of repayment\n",
    "(1 - df_train.groupby(\"OCCUPATION_TYPE\").mean().round(2)[\"TARGET\"]).sort_values(ascending=False)"
   ]
  },
  {
   "cell_type": "markdown",
   "id": "abbde6ca",
   "metadata": {},
   "source": [
    "We can see that there is some change in the data as we move from corporate jobs to manual jobs, this information might be useful for our model, so we shall try to fill in the missing values OCCUPATION_TYPE and further investigate if it has any impact on our model."
   ]
  },
  {
   "cell_type": "code",
   "execution_count": 156,
   "id": "d359d5b1",
   "metadata": {
    "scrolled": true
   },
   "outputs": [
    {
     "data": {
      "text/plain": [
       "TARGET    0.934869\n",
       "dtype: float64"
      ]
     },
     "execution_count": 156,
     "metadata": {},
     "output_type": "execute_result"
    }
   ],
   "source": [
    "# Checking the rate of repayment for clients with missing occupation types\n",
    "1 - df_train[df_train.OCCUPATION_TYPE.isna()][[\"TARGET\"]].mean()"
   ]
  },
  {
   "cell_type": "code",
   "execution_count": 157,
   "id": "9b251110",
   "metadata": {},
   "outputs": [
    {
     "name": "stdout",
     "output_type": "stream",
     "text": [
      "Chi-square statistic: 1402.8467961927515\n",
      "p-value: 3.7844998567642684e-288\n"
     ]
    }
   ],
   "source": [
    "compute_chi(\"OCCUPATION_TYPE\")"
   ]
  },
  {
   "cell_type": "code",
   "execution_count": 158,
   "id": "00dfdc87",
   "metadata": {},
   "outputs": [],
   "source": [
    "# replacing the missing values in OCCUPATION_TYPE with the most frequent observation\n",
    "most_frequent_occupation = df_train[\"OCCUPATION_TYPE\"].mode().iloc[0]\n",
    "\n",
    "# Replace missing values with the most frequent occupation\n",
    "df_train[\"OCCUPATION_TYPE\"].fillna(most_frequent_occupation, inplace=True)"
   ]
  },
  {
   "cell_type": "code",
   "execution_count": 159,
   "id": "8dca208b",
   "metadata": {
    "scrolled": false
   },
   "outputs": [
    {
     "name": "stdout",
     "output_type": "stream",
     "text": [
      "Chi-square statistic: 1193.3947394399675\n",
      "p-value: 3.4203518801583733e-243\n"
     ]
    }
   ],
   "source": [
    "# Checking if the imputation drastically affects the correlation between OCCUPATION_TYPE and the target \n",
    "compute_chi(\"OCCUPATION_TYPE\")"
   ]
  },
  {
   "cell_type": "markdown",
   "id": "ae2e45e0",
   "metadata": {},
   "source": [
    "There is only a slight decrease in correlation between the two variables after mode imputation so we shall accept this imputation technique and also keep OCCUPATION_TYPE."
   ]
  },
  {
   "cell_type": "code",
   "execution_count": 160,
   "id": "aeea6536",
   "metadata": {
    "scrolled": false
   },
   "outputs": [
    {
     "data": {
      "text/plain": [
       "TARGET                          1.000000\n",
       "EXT_SOURCE_3                    0.178919\n",
       "EXT_SOURCE_2                    0.160472\n",
       "EXT_SOURCE_1                    0.155317\n",
       "FLOORSMAX_AVG                   0.044003\n",
       "FLOORSMAX_MEDI                  0.043768\n",
       "FLOORSMAX_MODE                  0.043226\n",
       "AMT_GOODS_PRICE                 0.039645\n",
       "OWN_CAR_AGE                     0.037612\n",
       "ELEVATORS_AVG                   0.034199\n",
       "ELEVATORS_MEDI                  0.033863\n",
       "FLOORSMIN_AVG                   0.033614\n",
       "FLOORSMIN_MEDI                  0.033394\n",
       "LIVINGAREA_AVG                  0.032997\n",
       "LIVINGAREA_MEDI                 0.032739\n",
       "FLOORSMIN_MODE                  0.032698\n",
       "TOTALAREA_MODE                  0.032596\n",
       "DEF_30_CNT_SOCIAL_CIRCLE        0.032248\n",
       "ELEVATORS_MODE                  0.032131\n",
       "DEF_60_CNT_SOCIAL_CIRCLE        0.031276\n",
       "LIVINGAREA_MODE                 0.030685\n",
       "APARTMENTS_AVG                  0.029498\n",
       "APARTMENTS_MEDI                 0.029184\n",
       "APARTMENTS_MODE                 0.027284\n",
       "LIVINGAPARTMENTS_AVG            0.025031\n",
       "LIVINGAPARTMENTS_MEDI           0.024621\n",
       "LIVINGAPARTMENTS_MODE           0.023393\n",
       "BASEMENTAREA_AVG                0.022746\n",
       "YEARS_BUILD_MEDI                0.022326\n",
       "YEARS_BUILD_AVG                 0.022149\n",
       "BASEMENTAREA_MEDI               0.022081\n",
       "YEARS_BUILD_MODE                0.022068\n",
       "BASEMENTAREA_MODE               0.019952\n",
       "AMT_REQ_CREDIT_BUREAU_YEAR      0.019930\n",
       "ENTRANCES_AVG                   0.019172\n",
       "ENTRANCES_MEDI                  0.019025\n",
       "COMMONAREA_MEDI                 0.018573\n",
       "COMMONAREA_AVG                  0.018550\n",
       "ENTRANCES_MODE                  0.017387\n",
       "COMMONAREA_MODE                 0.016340\n",
       "NONLIVINGAREA_AVG               0.013578\n",
       "NONLIVINGAREA_MEDI              0.013337\n",
       "NONLIVINGAREA_MODE              0.012711\n",
       "AMT_REQ_CREDIT_BUREAU_MON       0.012462\n",
       "LANDAREA_MEDI                   0.011256\n",
       "LANDAREA_AVG                    0.010885\n",
       "LANDAREA_MODE                   0.010174\n",
       "YEARS_BEGINEXPLUATATION_MEDI    0.009993\n",
       "YEARS_BEGINEXPLUATATION_AVG     0.009728\n",
       "OBS_30_CNT_SOCIAL_CIRCLE        0.009131\n",
       "YEARS_BEGINEXPLUATATION_MODE    0.009036\n",
       "OBS_60_CNT_SOCIAL_CIRCLE        0.009022\n",
       "NONLIVINGAPARTMENTS_AVG         0.003176\n",
       "NONLIVINGAPARTMENTS_MEDI        0.002757\n",
       "AMT_REQ_CREDIT_BUREAU_DAY       0.002704\n",
       "AMT_REQ_CREDIT_BUREAU_QRT       0.002022\n",
       "NONLIVINGAPARTMENTS_MODE        0.001557\n",
       "AMT_REQ_CREDIT_BUREAU_HOUR      0.000930\n",
       "AMT_REQ_CREDIT_BUREAU_WEEK      0.000788\n",
       "Name: TARGET, dtype: float64"
      ]
     },
     "execution_count": 160,
     "metadata": {},
     "output_type": "execute_result"
    }
   ],
   "source": [
    "# Getting and displaying the correlation of all missing variables and the target\n",
    "missing_val_corr = compare_corr(percent_missing_train[percent_missing_train != 0].index.to_list())\n",
    "\n",
    "# We take the absolute values of the correlation coefficients to account for negative correlation\n",
    "missing_val_corr.TARGET.apply(lambda x: abs(x)).sort_values(ascending=False)"
   ]
  },
  {
   "cell_type": "markdown",
   "id": "7ef0f021",
   "metadata": {},
   "source": [
    "Most of the features have very poor correlation power. We shall only consider EXT_SOURCE_3, EXT_SOURCE_2, and EXT_SOURCE_1 because although they have poor correlation with the target, their correlation coefficients surpass all other features, and domain knowledge suggests that external sources play a huge role in credit allocation.\n",
    "\n",
    "**Feature Engineering Approach:** We shall take the mean the values of all three variables and see how that affects the predictive power of our model."
   ]
  },
  {
   "cell_type": "code",
   "execution_count": 161,
   "id": "f4db1a74",
   "metadata": {},
   "outputs": [
    {
     "data": {
      "text/html": [
       "<div>\n",
       "<style scoped>\n",
       "    .dataframe tbody tr th:only-of-type {\n",
       "        vertical-align: middle;\n",
       "    }\n",
       "\n",
       "    .dataframe tbody tr th {\n",
       "        vertical-align: top;\n",
       "    }\n",
       "\n",
       "    .dataframe thead th {\n",
       "        text-align: right;\n",
       "    }\n",
       "</style>\n",
       "<table border=\"1\" class=\"dataframe\">\n",
       "  <thead>\n",
       "    <tr style=\"text-align: right;\">\n",
       "      <th></th>\n",
       "      <th>EXT_SOURCE_MEAN</th>\n",
       "      <th>TARGET</th>\n",
       "    </tr>\n",
       "  </thead>\n",
       "  <tbody>\n",
       "    <tr>\n",
       "      <th>EXT_SOURCE_MEAN</th>\n",
       "      <td>1.000000</td>\n",
       "      <td>-0.222052</td>\n",
       "    </tr>\n",
       "    <tr>\n",
       "      <th>TARGET</th>\n",
       "      <td>-0.222052</td>\n",
       "      <td>1.000000</td>\n",
       "    </tr>\n",
       "  </tbody>\n",
       "</table>\n",
       "</div>"
      ],
      "text/plain": [
       "                 EXT_SOURCE_MEAN    TARGET\n",
       "EXT_SOURCE_MEAN         1.000000 -0.222052\n",
       "TARGET                 -0.222052  1.000000"
      ]
     },
     "execution_count": 161,
     "metadata": {},
     "output_type": "execute_result"
    }
   ],
   "source": [
    "new = df_train[['EXT_SOURCE_1', 'EXT_SOURCE_2', 'EXT_SOURCE_3']].mean(axis=1)\n",
    "new = pd.concat([new, df_train[\"TARGET\"]], axis=1, join=\"inner\")\n",
    "new.corr()\n",
    "\n",
    "\n",
    "# Handling missing data in EXT_SOURCE_3, EXT_SOURCE_2, and EXT_SOURCE_1\n",
    "\n",
    "df_train[\"EXT_SOURCE_MEAN\"] = df_train[[\"EXT_SOURCE_1\", \"EXT_SOURCE_2\", \"EXT_SOURCE_3\"]].mean(axis=1)\n",
    "df_train[[\"EXT_SOURCE_MEAN\", \"TARGET\"]].corr()"
   ]
  },
  {
   "cell_type": "markdown",
   "id": "e9009eb8",
   "metadata": {},
   "source": [
    "The result of the correlation between EXT_SOURCE_MEAN, which is the mean of EXT_SOURCE_1, EXT_SOURCE_2, and EXT_SOURCE_3, and TARGET show an inverse increament when compared to the correlation between TARGET and each individual feature."
   ]
  },
  {
   "cell_type": "code",
   "execution_count": 169,
   "id": "33ad2515",
   "metadata": {
    "scrolled": false
   },
   "outputs": [
    {
     "data": {
      "text/plain": [
       "63"
      ]
     },
     "execution_count": 169,
     "metadata": {},
     "output_type": "execute_result"
    }
   ],
   "source": [
    "features_to_drop = [col for col in col_missing_train if col != \"OCCUPATION_TYPE\"]\n",
    "len(features_to_drop)"
   ]
  },
  {
   "cell_type": "code",
   "execution_count": 19,
   "id": "87f333e6",
   "metadata": {
    "scrolled": false
   },
   "outputs": [
    {
     "data": {
      "text/plain": [
       "EXT_SOURCE_1                  56.4\n",
       "AMT_REQ_CREDIT_BUREAU_WEEK    13.5\n",
       "AMT_REQ_CREDIT_BUREAU_MON     13.5\n",
       "AMT_REQ_CREDIT_BUREAU_QRT     13.5\n",
       "AMT_REQ_CREDIT_BUREAU_YEAR    13.5\n",
       "NAME_TYPE_SUITE                0.4\n",
       "OBS_30_CNT_SOCIAL_CIRCLE       0.3\n",
       "DEF_30_CNT_SOCIAL_CIRCLE       0.3\n",
       "OBS_60_CNT_SOCIAL_CIRCLE       0.3\n",
       "DEF_60_CNT_SOCIAL_CIRCLE       0.3\n",
       "EXT_SOURCE_2                   0.2\n",
       "AMT_GOODS_PRICE                0.1\n",
       "dtype: float64"
      ]
     },
     "execution_count": 19,
     "metadata": {},
     "output_type": "execute_result"
    }
   ],
   "source": [
    "# dropping features with extremely high missingness and weak correlation with the target\n",
    "df_train.drop(features_to_drop, axis=1, inplace=True)\n",
    "df_test.drop(features_to_drop, axis=1, inplace=True)\n",
    "percent_missing_train.drop(features_to_drop, inplace=True)\n",
    "percent_missing_train[percent_missing_train != 0]"
   ]
  },
  {
   "cell_type": "code",
   "execution_count": 215,
   "id": "5d59f065",
   "metadata": {},
   "outputs": [
    {
     "name": "stdout",
     "output_type": "stream",
     "text": [
      "missing values:  0\n",
      "missing values:  0\n",
      "56\n"
     ]
    }
   ],
   "source": [
    "for col in (percent_missing_train[percent_missing_train > 0] < 5)[(percent_missing_train[percent_missing_train > 0] < 5)].index[1:3]:\n",
    "    df_clean = df_train.copy()\n",
    "    df_clean[col] = df_train[col].replace(np.nan, df_train[col].mean())\n",
    "    print(\"missing values: \", df_clean[col].isna().sum())\n",
    "\n",
    "    \n",
    "    \n",
    "# Get train set without missing values\n",
    "no_missing_train = df_clean.columns[df_clean.isna().sum() == 0]\n",
    "no_missing_test = df_test.columns[df_test.isna().sum() == 0]\n",
    "\n",
    "print(len(no_missing_train))"
   ]
  },
  {
   "cell_type": "code",
   "execution_count": 195,
   "id": "cacd63af",
   "metadata": {},
   "outputs": [
    {
     "name": "stdout",
     "output_type": "stream",
     "text": [
      "0.5192856655500524\n",
      "Accuracy: 0.8470693826582377\n"
     ]
    }
   ],
   "source": [
    "# Splitting and Training for Feature Selection\n",
    "from sklearn.tree import DecisionTreeClassifier\n",
    "from sklearn.metrics import roc_auc_score, accuracy_score\n",
    "from sklearn.preprocessing import LabelEncoder\n",
    "\n",
    "\n",
    "le = LabelEncoder()\n",
    "\n",
    "for i in obj_cols:\n",
    "    df_train[i] = le.fit_transform(df_train[i])\n",
    "    df_test[i] = le.fit_transform(df_test[i])\n",
    "    \n",
    "\n",
    "def feat_train(feat, target):\n",
    "\n",
    "    feat, test, train_pred, test_pred = train_test_split(feat, target, random_state=42)\n",
    "    fea_scaler = StandardScaler()\n",
    "    feat = fea_scaler.fit_transform(feat)\n",
    "    test = fea_scaler.fit_transform(test)\n",
    "    dt = DecisionTreeClassifier()\n",
    "    dt.fit(feat, train_pred)\n",
    "    pred = dt.predict(test)\n",
    "    print(roc_auc_score(test_pred, pred))\n",
    "    print(f\"Accuracy: {accuracy_score(test_pred, pred)}\")\n",
    "    \n",
    "\n",
    "\n",
    "feat_train(df_train[no_missing_train.drop(\"TARGET\").to_numpy()], df_train[\"TARGET\"])"
   ]
  },
  {
   "cell_type": "code",
   "execution_count": 6,
   "id": "4e1474f2",
   "metadata": {},
   "outputs": [
    {
     "data": {
      "text/html": [
       "<div>\n",
       "<style scoped>\n",
       "    .dataframe tbody tr th:only-of-type {\n",
       "        vertical-align: middle;\n",
       "    }\n",
       "\n",
       "    .dataframe tbody tr th {\n",
       "        vertical-align: top;\n",
       "    }\n",
       "\n",
       "    .dataframe thead th {\n",
       "        text-align: right;\n",
       "    }\n",
       "</style>\n",
       "<table border=\"1\" class=\"dataframe\">\n",
       "  <thead>\n",
       "    <tr style=\"text-align: right;\">\n",
       "      <th></th>\n",
       "      <th>SK_ID_CURR</th>\n",
       "      <th>TARGET</th>\n",
       "      <th>NAME_CONTRACT_TYPE</th>\n",
       "      <th>CODE_GENDER</th>\n",
       "      <th>FLAG_OWN_CAR</th>\n",
       "      <th>FLAG_OWN_REALTY</th>\n",
       "      <th>CNT_CHILDREN</th>\n",
       "      <th>AMT_INCOME_TOTAL</th>\n",
       "      <th>AMT_CREDIT</th>\n",
       "      <th>AMT_ANNUITY</th>\n",
       "      <th>...</th>\n",
       "      <th>FLAG_DOCUMENT_18</th>\n",
       "      <th>FLAG_DOCUMENT_19</th>\n",
       "      <th>FLAG_DOCUMENT_20</th>\n",
       "      <th>FLAG_DOCUMENT_21</th>\n",
       "      <th>AMT_REQ_CREDIT_BUREAU_HOUR</th>\n",
       "      <th>AMT_REQ_CREDIT_BUREAU_DAY</th>\n",
       "      <th>AMT_REQ_CREDIT_BUREAU_WEEK</th>\n",
       "      <th>AMT_REQ_CREDIT_BUREAU_MON</th>\n",
       "      <th>AMT_REQ_CREDIT_BUREAU_QRT</th>\n",
       "      <th>AMT_REQ_CREDIT_BUREAU_YEAR</th>\n",
       "    </tr>\n",
       "  </thead>\n",
       "  <tbody>\n",
       "    <tr>\n",
       "      <th>SK_ID_CURR</th>\n",
       "      <td>NaN</td>\n",
       "      <td>NaN</td>\n",
       "      <td>NaN</td>\n",
       "      <td>NaN</td>\n",
       "      <td>NaN</td>\n",
       "      <td>NaN</td>\n",
       "      <td>NaN</td>\n",
       "      <td>NaN</td>\n",
       "      <td>NaN</td>\n",
       "      <td>NaN</td>\n",
       "      <td>...</td>\n",
       "      <td>NaN</td>\n",
       "      <td>NaN</td>\n",
       "      <td>NaN</td>\n",
       "      <td>NaN</td>\n",
       "      <td>NaN</td>\n",
       "      <td>NaN</td>\n",
       "      <td>NaN</td>\n",
       "      <td>NaN</td>\n",
       "      <td>NaN</td>\n",
       "      <td>NaN</td>\n",
       "    </tr>\n",
       "    <tr>\n",
       "      <th>TARGET</th>\n",
       "      <td>NaN</td>\n",
       "      <td>NaN</td>\n",
       "      <td>NaN</td>\n",
       "      <td>NaN</td>\n",
       "      <td>NaN</td>\n",
       "      <td>NaN</td>\n",
       "      <td>NaN</td>\n",
       "      <td>NaN</td>\n",
       "      <td>NaN</td>\n",
       "      <td>NaN</td>\n",
       "      <td>...</td>\n",
       "      <td>NaN</td>\n",
       "      <td>NaN</td>\n",
       "      <td>NaN</td>\n",
       "      <td>NaN</td>\n",
       "      <td>NaN</td>\n",
       "      <td>NaN</td>\n",
       "      <td>NaN</td>\n",
       "      <td>NaN</td>\n",
       "      <td>NaN</td>\n",
       "      <td>NaN</td>\n",
       "    </tr>\n",
       "    <tr>\n",
       "      <th>NAME_CONTRACT_TYPE</th>\n",
       "      <td>NaN</td>\n",
       "      <td>NaN</td>\n",
       "      <td>NaN</td>\n",
       "      <td>NaN</td>\n",
       "      <td>NaN</td>\n",
       "      <td>NaN</td>\n",
       "      <td>NaN</td>\n",
       "      <td>NaN</td>\n",
       "      <td>NaN</td>\n",
       "      <td>NaN</td>\n",
       "      <td>...</td>\n",
       "      <td>NaN</td>\n",
       "      <td>NaN</td>\n",
       "      <td>NaN</td>\n",
       "      <td>NaN</td>\n",
       "      <td>NaN</td>\n",
       "      <td>NaN</td>\n",
       "      <td>NaN</td>\n",
       "      <td>NaN</td>\n",
       "      <td>NaN</td>\n",
       "      <td>NaN</td>\n",
       "    </tr>\n",
       "    <tr>\n",
       "      <th>CODE_GENDER</th>\n",
       "      <td>NaN</td>\n",
       "      <td>NaN</td>\n",
       "      <td>NaN</td>\n",
       "      <td>NaN</td>\n",
       "      <td>NaN</td>\n",
       "      <td>NaN</td>\n",
       "      <td>NaN</td>\n",
       "      <td>NaN</td>\n",
       "      <td>NaN</td>\n",
       "      <td>NaN</td>\n",
       "      <td>...</td>\n",
       "      <td>NaN</td>\n",
       "      <td>NaN</td>\n",
       "      <td>NaN</td>\n",
       "      <td>NaN</td>\n",
       "      <td>NaN</td>\n",
       "      <td>NaN</td>\n",
       "      <td>NaN</td>\n",
       "      <td>NaN</td>\n",
       "      <td>NaN</td>\n",
       "      <td>NaN</td>\n",
       "    </tr>\n",
       "    <tr>\n",
       "      <th>FLAG_OWN_CAR</th>\n",
       "      <td>NaN</td>\n",
       "      <td>NaN</td>\n",
       "      <td>NaN</td>\n",
       "      <td>NaN</td>\n",
       "      <td>NaN</td>\n",
       "      <td>NaN</td>\n",
       "      <td>NaN</td>\n",
       "      <td>NaN</td>\n",
       "      <td>NaN</td>\n",
       "      <td>NaN</td>\n",
       "      <td>...</td>\n",
       "      <td>NaN</td>\n",
       "      <td>NaN</td>\n",
       "      <td>NaN</td>\n",
       "      <td>NaN</td>\n",
       "      <td>NaN</td>\n",
       "      <td>NaN</td>\n",
       "      <td>NaN</td>\n",
       "      <td>NaN</td>\n",
       "      <td>NaN</td>\n",
       "      <td>NaN</td>\n",
       "    </tr>\n",
       "    <tr>\n",
       "      <th>...</th>\n",
       "      <td>...</td>\n",
       "      <td>...</td>\n",
       "      <td>...</td>\n",
       "      <td>...</td>\n",
       "      <td>...</td>\n",
       "      <td>...</td>\n",
       "      <td>...</td>\n",
       "      <td>...</td>\n",
       "      <td>...</td>\n",
       "      <td>...</td>\n",
       "      <td>...</td>\n",
       "      <td>...</td>\n",
       "      <td>...</td>\n",
       "      <td>...</td>\n",
       "      <td>...</td>\n",
       "      <td>...</td>\n",
       "      <td>...</td>\n",
       "      <td>...</td>\n",
       "      <td>...</td>\n",
       "      <td>...</td>\n",
       "      <td>...</td>\n",
       "    </tr>\n",
       "    <tr>\n",
       "      <th>AMT_REQ_CREDIT_BUREAU_DAY</th>\n",
       "      <td>NaN</td>\n",
       "      <td>NaN</td>\n",
       "      <td>NaN</td>\n",
       "      <td>NaN</td>\n",
       "      <td>NaN</td>\n",
       "      <td>NaN</td>\n",
       "      <td>NaN</td>\n",
       "      <td>NaN</td>\n",
       "      <td>NaN</td>\n",
       "      <td>-0.000945</td>\n",
       "      <td>...</td>\n",
       "      <td>NaN</td>\n",
       "      <td>NaN</td>\n",
       "      <td>NaN</td>\n",
       "      <td>NaN</td>\n",
       "      <td>1.0</td>\n",
       "      <td>1.0</td>\n",
       "      <td>1.0</td>\n",
       "      <td>1.0</td>\n",
       "      <td>1.0</td>\n",
       "      <td>1.0</td>\n",
       "    </tr>\n",
       "    <tr>\n",
       "      <th>AMT_REQ_CREDIT_BUREAU_WEEK</th>\n",
       "      <td>NaN</td>\n",
       "      <td>NaN</td>\n",
       "      <td>NaN</td>\n",
       "      <td>NaN</td>\n",
       "      <td>NaN</td>\n",
       "      <td>NaN</td>\n",
       "      <td>NaN</td>\n",
       "      <td>NaN</td>\n",
       "      <td>NaN</td>\n",
       "      <td>-0.000945</td>\n",
       "      <td>...</td>\n",
       "      <td>NaN</td>\n",
       "      <td>NaN</td>\n",
       "      <td>NaN</td>\n",
       "      <td>NaN</td>\n",
       "      <td>1.0</td>\n",
       "      <td>1.0</td>\n",
       "      <td>1.0</td>\n",
       "      <td>1.0</td>\n",
       "      <td>1.0</td>\n",
       "      <td>1.0</td>\n",
       "    </tr>\n",
       "    <tr>\n",
       "      <th>AMT_REQ_CREDIT_BUREAU_MON</th>\n",
       "      <td>NaN</td>\n",
       "      <td>NaN</td>\n",
       "      <td>NaN</td>\n",
       "      <td>NaN</td>\n",
       "      <td>NaN</td>\n",
       "      <td>NaN</td>\n",
       "      <td>NaN</td>\n",
       "      <td>NaN</td>\n",
       "      <td>NaN</td>\n",
       "      <td>-0.000945</td>\n",
       "      <td>...</td>\n",
       "      <td>NaN</td>\n",
       "      <td>NaN</td>\n",
       "      <td>NaN</td>\n",
       "      <td>NaN</td>\n",
       "      <td>1.0</td>\n",
       "      <td>1.0</td>\n",
       "      <td>1.0</td>\n",
       "      <td>1.0</td>\n",
       "      <td>1.0</td>\n",
       "      <td>1.0</td>\n",
       "    </tr>\n",
       "    <tr>\n",
       "      <th>AMT_REQ_CREDIT_BUREAU_QRT</th>\n",
       "      <td>NaN</td>\n",
       "      <td>NaN</td>\n",
       "      <td>NaN</td>\n",
       "      <td>NaN</td>\n",
       "      <td>NaN</td>\n",
       "      <td>NaN</td>\n",
       "      <td>NaN</td>\n",
       "      <td>NaN</td>\n",
       "      <td>NaN</td>\n",
       "      <td>-0.000945</td>\n",
       "      <td>...</td>\n",
       "      <td>NaN</td>\n",
       "      <td>NaN</td>\n",
       "      <td>NaN</td>\n",
       "      <td>NaN</td>\n",
       "      <td>1.0</td>\n",
       "      <td>1.0</td>\n",
       "      <td>1.0</td>\n",
       "      <td>1.0</td>\n",
       "      <td>1.0</td>\n",
       "      <td>1.0</td>\n",
       "    </tr>\n",
       "    <tr>\n",
       "      <th>AMT_REQ_CREDIT_BUREAU_YEAR</th>\n",
       "      <td>NaN</td>\n",
       "      <td>NaN</td>\n",
       "      <td>NaN</td>\n",
       "      <td>NaN</td>\n",
       "      <td>NaN</td>\n",
       "      <td>NaN</td>\n",
       "      <td>NaN</td>\n",
       "      <td>NaN</td>\n",
       "      <td>NaN</td>\n",
       "      <td>-0.000945</td>\n",
       "      <td>...</td>\n",
       "      <td>NaN</td>\n",
       "      <td>NaN</td>\n",
       "      <td>NaN</td>\n",
       "      <td>NaN</td>\n",
       "      <td>1.0</td>\n",
       "      <td>1.0</td>\n",
       "      <td>1.0</td>\n",
       "      <td>1.0</td>\n",
       "      <td>1.0</td>\n",
       "      <td>1.0</td>\n",
       "    </tr>\n",
       "  </tbody>\n",
       "</table>\n",
       "<p>122 rows × 122 columns</p>\n",
       "</div>"
      ],
      "text/plain": [
       "                            SK_ID_CURR  TARGET  NAME_CONTRACT_TYPE  \\\n",
       "SK_ID_CURR                         NaN     NaN                 NaN   \n",
       "TARGET                             NaN     NaN                 NaN   \n",
       "NAME_CONTRACT_TYPE                 NaN     NaN                 NaN   \n",
       "CODE_GENDER                        NaN     NaN                 NaN   \n",
       "FLAG_OWN_CAR                       NaN     NaN                 NaN   \n",
       "...                                ...     ...                 ...   \n",
       "AMT_REQ_CREDIT_BUREAU_DAY          NaN     NaN                 NaN   \n",
       "AMT_REQ_CREDIT_BUREAU_WEEK         NaN     NaN                 NaN   \n",
       "AMT_REQ_CREDIT_BUREAU_MON          NaN     NaN                 NaN   \n",
       "AMT_REQ_CREDIT_BUREAU_QRT          NaN     NaN                 NaN   \n",
       "AMT_REQ_CREDIT_BUREAU_YEAR         NaN     NaN                 NaN   \n",
       "\n",
       "                            CODE_GENDER  FLAG_OWN_CAR  FLAG_OWN_REALTY  \\\n",
       "SK_ID_CURR                          NaN           NaN              NaN   \n",
       "TARGET                              NaN           NaN              NaN   \n",
       "NAME_CONTRACT_TYPE                  NaN           NaN              NaN   \n",
       "CODE_GENDER                         NaN           NaN              NaN   \n",
       "FLAG_OWN_CAR                        NaN           NaN              NaN   \n",
       "...                                 ...           ...              ...   \n",
       "AMT_REQ_CREDIT_BUREAU_DAY           NaN           NaN              NaN   \n",
       "AMT_REQ_CREDIT_BUREAU_WEEK          NaN           NaN              NaN   \n",
       "AMT_REQ_CREDIT_BUREAU_MON           NaN           NaN              NaN   \n",
       "AMT_REQ_CREDIT_BUREAU_QRT           NaN           NaN              NaN   \n",
       "AMT_REQ_CREDIT_BUREAU_YEAR          NaN           NaN              NaN   \n",
       "\n",
       "                            CNT_CHILDREN  AMT_INCOME_TOTAL  AMT_CREDIT  \\\n",
       "SK_ID_CURR                           NaN               NaN         NaN   \n",
       "TARGET                               NaN               NaN         NaN   \n",
       "NAME_CONTRACT_TYPE                   NaN               NaN         NaN   \n",
       "CODE_GENDER                          NaN               NaN         NaN   \n",
       "FLAG_OWN_CAR                         NaN               NaN         NaN   \n",
       "...                                  ...               ...         ...   \n",
       "AMT_REQ_CREDIT_BUREAU_DAY            NaN               NaN         NaN   \n",
       "AMT_REQ_CREDIT_BUREAU_WEEK           NaN               NaN         NaN   \n",
       "AMT_REQ_CREDIT_BUREAU_MON            NaN               NaN         NaN   \n",
       "AMT_REQ_CREDIT_BUREAU_QRT            NaN               NaN         NaN   \n",
       "AMT_REQ_CREDIT_BUREAU_YEAR           NaN               NaN         NaN   \n",
       "\n",
       "                            AMT_ANNUITY  ...  FLAG_DOCUMENT_18  \\\n",
       "SK_ID_CURR                          NaN  ...               NaN   \n",
       "TARGET                              NaN  ...               NaN   \n",
       "NAME_CONTRACT_TYPE                  NaN  ...               NaN   \n",
       "CODE_GENDER                         NaN  ...               NaN   \n",
       "FLAG_OWN_CAR                        NaN  ...               NaN   \n",
       "...                                 ...  ...               ...   \n",
       "AMT_REQ_CREDIT_BUREAU_DAY     -0.000945  ...               NaN   \n",
       "AMT_REQ_CREDIT_BUREAU_WEEK    -0.000945  ...               NaN   \n",
       "AMT_REQ_CREDIT_BUREAU_MON     -0.000945  ...               NaN   \n",
       "AMT_REQ_CREDIT_BUREAU_QRT     -0.000945  ...               NaN   \n",
       "AMT_REQ_CREDIT_BUREAU_YEAR    -0.000945  ...               NaN   \n",
       "\n",
       "                            FLAG_DOCUMENT_19  FLAG_DOCUMENT_20  \\\n",
       "SK_ID_CURR                               NaN               NaN   \n",
       "TARGET                                   NaN               NaN   \n",
       "NAME_CONTRACT_TYPE                       NaN               NaN   \n",
       "CODE_GENDER                              NaN               NaN   \n",
       "FLAG_OWN_CAR                             NaN               NaN   \n",
       "...                                      ...               ...   \n",
       "AMT_REQ_CREDIT_BUREAU_DAY                NaN               NaN   \n",
       "AMT_REQ_CREDIT_BUREAU_WEEK               NaN               NaN   \n",
       "AMT_REQ_CREDIT_BUREAU_MON                NaN               NaN   \n",
       "AMT_REQ_CREDIT_BUREAU_QRT                NaN               NaN   \n",
       "AMT_REQ_CREDIT_BUREAU_YEAR               NaN               NaN   \n",
       "\n",
       "                            FLAG_DOCUMENT_21  AMT_REQ_CREDIT_BUREAU_HOUR  \\\n",
       "SK_ID_CURR                               NaN                         NaN   \n",
       "TARGET                                   NaN                         NaN   \n",
       "NAME_CONTRACT_TYPE                       NaN                         NaN   \n",
       "CODE_GENDER                              NaN                         NaN   \n",
       "FLAG_OWN_CAR                             NaN                         NaN   \n",
       "...                                      ...                         ...   \n",
       "AMT_REQ_CREDIT_BUREAU_DAY                NaN                         1.0   \n",
       "AMT_REQ_CREDIT_BUREAU_WEEK               NaN                         1.0   \n",
       "AMT_REQ_CREDIT_BUREAU_MON                NaN                         1.0   \n",
       "AMT_REQ_CREDIT_BUREAU_QRT                NaN                         1.0   \n",
       "AMT_REQ_CREDIT_BUREAU_YEAR               NaN                         1.0   \n",
       "\n",
       "                            AMT_REQ_CREDIT_BUREAU_DAY  \\\n",
       "SK_ID_CURR                                        NaN   \n",
       "TARGET                                            NaN   \n",
       "NAME_CONTRACT_TYPE                                NaN   \n",
       "CODE_GENDER                                       NaN   \n",
       "FLAG_OWN_CAR                                      NaN   \n",
       "...                                               ...   \n",
       "AMT_REQ_CREDIT_BUREAU_DAY                         1.0   \n",
       "AMT_REQ_CREDIT_BUREAU_WEEK                        1.0   \n",
       "AMT_REQ_CREDIT_BUREAU_MON                         1.0   \n",
       "AMT_REQ_CREDIT_BUREAU_QRT                         1.0   \n",
       "AMT_REQ_CREDIT_BUREAU_YEAR                        1.0   \n",
       "\n",
       "                            AMT_REQ_CREDIT_BUREAU_WEEK  \\\n",
       "SK_ID_CURR                                         NaN   \n",
       "TARGET                                             NaN   \n",
       "NAME_CONTRACT_TYPE                                 NaN   \n",
       "CODE_GENDER                                        NaN   \n",
       "FLAG_OWN_CAR                                       NaN   \n",
       "...                                                ...   \n",
       "AMT_REQ_CREDIT_BUREAU_DAY                          1.0   \n",
       "AMT_REQ_CREDIT_BUREAU_WEEK                         1.0   \n",
       "AMT_REQ_CREDIT_BUREAU_MON                          1.0   \n",
       "AMT_REQ_CREDIT_BUREAU_QRT                          1.0   \n",
       "AMT_REQ_CREDIT_BUREAU_YEAR                         1.0   \n",
       "\n",
       "                            AMT_REQ_CREDIT_BUREAU_MON  \\\n",
       "SK_ID_CURR                                        NaN   \n",
       "TARGET                                            NaN   \n",
       "NAME_CONTRACT_TYPE                                NaN   \n",
       "CODE_GENDER                                       NaN   \n",
       "FLAG_OWN_CAR                                      NaN   \n",
       "...                                               ...   \n",
       "AMT_REQ_CREDIT_BUREAU_DAY                         1.0   \n",
       "AMT_REQ_CREDIT_BUREAU_WEEK                        1.0   \n",
       "AMT_REQ_CREDIT_BUREAU_MON                         1.0   \n",
       "AMT_REQ_CREDIT_BUREAU_QRT                         1.0   \n",
       "AMT_REQ_CREDIT_BUREAU_YEAR                        1.0   \n",
       "\n",
       "                            AMT_REQ_CREDIT_BUREAU_QRT  \\\n",
       "SK_ID_CURR                                        NaN   \n",
       "TARGET                                            NaN   \n",
       "NAME_CONTRACT_TYPE                                NaN   \n",
       "CODE_GENDER                                       NaN   \n",
       "FLAG_OWN_CAR                                      NaN   \n",
       "...                                               ...   \n",
       "AMT_REQ_CREDIT_BUREAU_DAY                         1.0   \n",
       "AMT_REQ_CREDIT_BUREAU_WEEK                        1.0   \n",
       "AMT_REQ_CREDIT_BUREAU_MON                         1.0   \n",
       "AMT_REQ_CREDIT_BUREAU_QRT                         1.0   \n",
       "AMT_REQ_CREDIT_BUREAU_YEAR                        1.0   \n",
       "\n",
       "                            AMT_REQ_CREDIT_BUREAU_YEAR  \n",
       "SK_ID_CURR                                         NaN  \n",
       "TARGET                                             NaN  \n",
       "NAME_CONTRACT_TYPE                                 NaN  \n",
       "CODE_GENDER                                        NaN  \n",
       "FLAG_OWN_CAR                                       NaN  \n",
       "...                                                ...  \n",
       "AMT_REQ_CREDIT_BUREAU_DAY                          1.0  \n",
       "AMT_REQ_CREDIT_BUREAU_WEEK                         1.0  \n",
       "AMT_REQ_CREDIT_BUREAU_MON                          1.0  \n",
       "AMT_REQ_CREDIT_BUREAU_QRT                          1.0  \n",
       "AMT_REQ_CREDIT_BUREAU_YEAR                         1.0  \n",
       "\n",
       "[122 rows x 122 columns]"
      ]
     },
     "execution_count": 6,
     "metadata": {},
     "output_type": "execute_result"
    }
   ],
   "source": [
    "missing_corr = df_train.isnull().corr()\n",
    "missing_corr"
   ]
  },
  {
   "cell_type": "markdown",
   "id": "ae565995",
   "metadata": {},
   "source": [
    "## Problem Three: Estimation on test data"
   ]
  },
  {
   "cell_type": "code",
   "execution_count": null,
   "id": "86e9da65",
   "metadata": {},
   "outputs": [],
   "source": []
  },
  {
   "cell_type": "markdown",
   "id": "191ae323",
   "metadata": {},
   "source": [
    "## Problem Four: Feature engineering"
   ]
  },
  {
   "cell_type": "code",
   "execution_count": null,
   "id": "3c4c3c20",
   "metadata": {},
   "outputs": [],
   "source": []
  },
  {
   "cell_type": "code",
   "execution_count": null,
   "id": "ecd7362d",
   "metadata": {},
   "outputs": [],
   "source": []
  },
  {
   "cell_type": "code",
   "execution_count": null,
   "id": "43c47421",
   "metadata": {},
   "outputs": [],
   "source": []
  }
 ],
 "metadata": {
  "kernelspec": {
   "display_name": "Python 3 (ipykernel)",
   "language": "python",
   "name": "python3"
  },
  "language_info": {
   "codemirror_mode": {
    "name": "ipython",
    "version": 3
   },
   "file_extension": ".py",
   "mimetype": "text/x-python",
   "name": "python",
   "nbconvert_exporter": "python",
   "pygments_lexer": "ipython3",
   "version": "3.9.13"
  }
 },
 "nbformat": 4,
 "nbformat_minor": 5
}
