{
 "cells": [
  {
   "cell_type": "markdown",
   "id": "34ad787f",
   "metadata": {},
   "source": [
    "## Problem One: Matrix product is calculated manually"
   ]
  },
  {
   "cell_type": "markdown",
   "id": "61145c20",
   "metadata": {},
   "source": [
    "Given matrices:  \n",
    "\n",
    "$ A = \\left [\\begin {matrix} -1 & 2 & 3 \\\\ 4 & -5 & 6 \\\\ 7 & 8 & -9 \\end{matrix} \\right]$, $B = \\left [\\begin {matrix} 0 & 2 & 1 \\\\ 0 & 2 & -8 \\\\ 2 & 9 & -1 \\end {matrix} \\right]$  \n",
    "\n",
    "To solve the above matrix problem by hand, I followed the following steps:  \n",
    "i. I ensured that the number of columns of the first matrix is equal to the number of rows in the second matrix. In this case, 3 = 3.  \n",
    "\n",
    "ii. Associating the subscripts i and j with the index of the rows and columns respectively, to calculate the $i^{th}$ row and $i^{th}$ column of the resulting matrix \\(AB\\), I used the formula:\n",
    "\n",
    "$(AB)_{ij} = A_{i1}B_{1j} + A_{i2}B_{2j} + A_{i3}B_{3j}$\n",
    "\n",
    "iii. I computed each element:\n",
    "\n",
    "1. $ (AB)_{11} = (-1)(0) + (2)(0) + (3)(2) = 6 $\n",
    "2. $ (AB)_{12} = (-1)(2) + (2)(2) + (3)(9) = 29 $\n",
    "3. $ (AB)_{13} = (-1)(1) + (2)(-8) + (3)(-1) = -20 $\n",
    "\n",
    "The first row of \\(AB\\) is \\([6, 29, -20]\\).\n",
    "\n",
    "Continuing this process for the remaining rows and columns:\n",
    "\n",
    "4. $ (AB)_{21} = (4)(0) + (-5)(0) + (6)(2) = 12 $\n",
    "5. $ (AB)_{22} = (4)(2) + (-5)(2) + (6)(9) = 52 $\n",
    "6. $ (AB)_{23} = (4)(1) + (-5)(-8) + (6)(-1) = 38 $\n",
    "\n",
    "The second row of \\(AB\\) is \\([12, 52, 38]\\).\n",
    "\n",
    "7. $(AB)_{31} = (7)(0) + (8)(0) + (-9)(2) = -18 $\n",
    "8. $(AB)_{32} = (7)(2) + (8)(2) + (-9)(9) = -51 $\n",
    "9. $(AB)_{33} = (7)(1) + (8)(-8) + (-9)(-1) = -48 $\n",
    "\n",
    "The third row of \\(AB\\) is \\([-18, -51, -48]\\).\n",
    "\n",
    "iv. I created a new matrix with the resultant rows from the calculations above.\n",
    "\n",
    "So, the matrix product \\(AB\\) is:\n",
    "\n",
    "$$AB = \\left[\\begin{array}{ccc} 6 & 29 & -20 \\\\ 12 & 52 & 38 \\\\ -18 & -51 & -48 \\end{array}\\right]$$"
   ]
  },
  {
   "cell_type": "markdown",
   "id": "34868293",
   "metadata": {},
   "source": [
    "## Problem Two: Calculation by NumPy function"
   ]
  },
  {
   "cell_type": "code",
   "execution_count": 1,
   "id": "aadbce55",
   "metadata": {},
   "outputs": [],
   "source": [
    "import numpy as np\n",
    "a_ndarray = np.array([[-1, 2, 3], [4, -5, 6], [7, 8, -9]])\n",
    "b_ndarray = np.array([[0, 2, 1], [0, 2, -8], [2, 9, -1]])"
   ]
  },
  {
   "cell_type": "code",
   "execution_count": 2,
   "id": "dfacf018",
   "metadata": {},
   "outputs": [
    {
     "data": {
      "text/plain": [
       "array([[  6,  29, -20],\n",
       "       [ 12,  52,  38],\n",
       "       [-18, -51, -48]])"
      ]
     },
     "execution_count": 2,
     "metadata": {},
     "output_type": "execute_result"
    }
   ],
   "source": [
    "# calculating the matrix product using np.dot()\n",
    "np.dot(a_ndarray, b_ndarray)"
   ]
  },
  {
   "cell_type": "code",
   "execution_count": 3,
   "id": "c5a466dd",
   "metadata": {},
   "outputs": [
    {
     "data": {
      "text/plain": [
       "array([[  6,  29, -20],\n",
       "       [ 12,  52,  38],\n",
       "       [-18, -51, -48]])"
      ]
     },
     "execution_count": 3,
     "metadata": {},
     "output_type": "execute_result"
    }
   ],
   "source": [
    "# calculating the matrix product using np.matmul()\n",
    "np.matmul(a_ndarray, b_ndarray)"
   ]
  },
  {
   "cell_type": "code",
   "execution_count": 4,
   "id": "345685f9",
   "metadata": {},
   "outputs": [
    {
     "data": {
      "text/plain": [
       "array([[  6,  29, -20],\n",
       "       [ 12,  52,  38],\n",
       "       [-18, -51, -48]])"
      ]
     },
     "execution_count": 4,
     "metadata": {},
     "output_type": "execute_result"
    }
   ],
   "source": [
    "# calculating the matrix product using @\n",
    "a_ndarray @ b_ndarray"
   ]
  },
  {
   "cell_type": "markdown",
   "id": "f8c7314e",
   "metadata": {},
   "source": [
    "## Problem Three: Implementation of calculation of a certain element"
   ]
  },
  {
   "cell_type": "code",
   "execution_count": 5,
   "id": "72f82716",
   "metadata": {
    "scrolled": true
   },
   "outputs": [
    {
     "name": "stdout",
     "output_type": "stream",
     "text": [
      "6\n"
     ]
    }
   ],
   "source": [
    "# Performing matrix multiplication on a certain element without using np.matmul(), np.dot() or @ operators.\n",
    "\n",
    "\n",
    "certain_element = 0\n",
    "for k in range(3):\n",
    "    certain_element += a_ndarray[0,k] * b_ndarray[k,0]\n",
    "    \n",
    "print(certain_element)"
   ]
  },
  {
   "cell_type": "markdown",
   "id": "98720f1e",
   "metadata": {},
   "source": [
    "## Problem Four: Creating a function that performs matrix multiplication"
   ]
  },
  {
   "cell_type": "code",
   "execution_count": 6,
   "id": "325c5c5b",
   "metadata": {},
   "outputs": [
    {
     "name": "stdout",
     "output_type": "stream",
     "text": [
      "[[  6  29 -20]\n",
      " [ 12  52  38]\n",
      " [-18 -51 -48]]\n"
     ]
    }
   ],
   "source": [
    "# Function that performs matrix multiplications\n",
    "\n",
    "\n",
    "def compute_matmul(A, B):\n",
    "    if len(A[0]) != len(B):\n",
    "        raise ValueError(\"Number of columns in A must be equal to the number of rows in B\")\n",
    "        \n",
    "    c_ndarray = np.zeros((len(A),len(B[0])), dtype=np.int64)\n",
    "    \n",
    "    \n",
    "    for i in range(len(A)):\n",
    "        for j in range(len(B[0])):\n",
    "            for k in range(len(A[0])):\n",
    "                c_ndarray[i,j] += A[i,k] * B[k,j]\n",
    "    return c_ndarray\n",
    "\n",
    "print(compute_matmul(a_ndarray, b_ndarray))"
   ]
  },
  {
   "cell_type": "markdown",
   "id": "e6821fb8",
   "metadata": {},
   "source": [
    "## Problem Five: Judge the input whose calculation is not defined"
   ]
  },
  {
   "cell_type": "code",
   "execution_count": 7,
   "id": "9ad5904c",
   "metadata": {},
   "outputs": [
    {
     "ename": "ValueError",
     "evalue": "Number of columns in A must be equal to the number of rows in B",
     "output_type": "error",
     "traceback": [
      "\u001b[0;31m---------------------------------------------------------------------------\u001b[0m",
      "\u001b[0;31mValueError\u001b[0m                                Traceback (most recent call last)",
      "\u001b[0;32m/var/folders/_m/l886rtzn5qg4bpvjp2ln5wk80000gn/T/ipykernel_43260/673192510.py\u001b[0m in \u001b[0;36m<module>\u001b[0;34m\u001b[0m\n\u001b[1;32m     28\u001b[0m \u001b[0;34m\u001b[0m\u001b[0m\n\u001b[1;32m     29\u001b[0m \u001b[0;31m# Checking that the function catches some edge cases\u001b[0m\u001b[0;34m\u001b[0m\u001b[0;34m\u001b[0m\u001b[0m\n\u001b[0;32m---> 30\u001b[0;31m \u001b[0mprint\u001b[0m\u001b[0;34m(\u001b[0m\u001b[0mcompute_matmul\u001b[0m\u001b[0;34m(\u001b[0m\u001b[0md_ndarray\u001b[0m\u001b[0;34m,\u001b[0m \u001b[0me_ndarray\u001b[0m\u001b[0;34m)\u001b[0m\u001b[0;34m)\u001b[0m\u001b[0;34m\u001b[0m\u001b[0;34m\u001b[0m\u001b[0m\n\u001b[0m",
      "\u001b[0;32m/var/folders/_m/l886rtzn5qg4bpvjp2ln5wk80000gn/T/ipykernel_43260/673192510.py\u001b[0m in \u001b[0;36mcompute_matmul\u001b[0;34m(A, B)\u001b[0m\n\u001b[1;32m     15\u001b[0m \u001b[0;34m\u001b[0m\u001b[0m\n\u001b[1;32m     16\u001b[0m     \u001b[0;32mif\u001b[0m \u001b[0mlen\u001b[0m\u001b[0;34m(\u001b[0m\u001b[0mA\u001b[0m\u001b[0;34m[\u001b[0m\u001b[0;36m0\u001b[0m\u001b[0;34m]\u001b[0m\u001b[0;34m)\u001b[0m \u001b[0;34m!=\u001b[0m \u001b[0mlen\u001b[0m\u001b[0;34m(\u001b[0m\u001b[0mB\u001b[0m\u001b[0;34m)\u001b[0m\u001b[0;34m:\u001b[0m\u001b[0;34m\u001b[0m\u001b[0;34m\u001b[0m\u001b[0m\n\u001b[0;32m---> 17\u001b[0;31m         \u001b[0;32mraise\u001b[0m \u001b[0mValueError\u001b[0m\u001b[0;34m(\u001b[0m\u001b[0;34m\"Number of columns in A must be equal to the number of rows in B\"\u001b[0m\u001b[0;34m)\u001b[0m\u001b[0;34m\u001b[0m\u001b[0;34m\u001b[0m\u001b[0m\n\u001b[0m\u001b[1;32m     18\u001b[0m \u001b[0;34m\u001b[0m\u001b[0m\n\u001b[1;32m     19\u001b[0m     \u001b[0mc_ndarray\u001b[0m \u001b[0;34m=\u001b[0m \u001b[0mnp\u001b[0m\u001b[0;34m.\u001b[0m\u001b[0mzeros\u001b[0m\u001b[0;34m(\u001b[0m\u001b[0;34m(\u001b[0m\u001b[0mlen\u001b[0m\u001b[0;34m(\u001b[0m\u001b[0mA\u001b[0m\u001b[0;34m)\u001b[0m\u001b[0;34m,\u001b[0m\u001b[0mlen\u001b[0m\u001b[0;34m(\u001b[0m\u001b[0mB\u001b[0m\u001b[0;34m[\u001b[0m\u001b[0;36m0\u001b[0m\u001b[0;34m]\u001b[0m\u001b[0;34m)\u001b[0m\u001b[0;34m)\u001b[0m\u001b[0;34m,\u001b[0m \u001b[0mdtype\u001b[0m\u001b[0;34m=\u001b[0m\u001b[0mnp\u001b[0m\u001b[0;34m.\u001b[0m\u001b[0mint64\u001b[0m\u001b[0;34m)\u001b[0m\u001b[0;34m\u001b[0m\u001b[0;34m\u001b[0m\u001b[0m\n",
      "\u001b[0;31mValueError\u001b[0m: Number of columns in A must be equal to the number of rows in B"
     ]
    }
   ],
   "source": [
    "d_ndarray = np.array([[-1, 2, 3], [4, -5, 6]])\n",
    "e_ndarray = np.array([[-9, 8, 7], [6, -5, 4]])\n",
    "\n",
    "\n",
    "# using an if statement to display the problem in the input form using print()\n",
    "\n",
    "\n",
    "def compute_matmul(A, B):\n",
    "    if not(isinstance(A, list) or isinstance(A, np.ndarray)):\n",
    "        print(f\"expected a list or numpy.ndarray from arg1 but recieved {type(A)}\")\n",
    "        return \"\"\n",
    "    if not(isinstance(B, list) or isinstance(B, np.ndarray)):\n",
    "        print(f\"expected a list or numpy.ndarray from arg1 but recieved {type(B)}\")\n",
    "        return \"\"\n",
    "        \n",
    "    if len(A[0]) != len(B):\n",
    "        raise ValueError(\"Number of columns in A must be equal to the number of rows in B\")\n",
    "        \n",
    "    c_ndarray = np.zeros((len(A),len(B[0])), dtype=np.int64)\n",
    "    \n",
    "    \n",
    "    for i in range(len(A)):\n",
    "        for j in range(len(B[0])):\n",
    "            for k in range(len(A[0])):\n",
    "                c_ndarray[i,j] += A[i,k] * B[k,j]\n",
    "    return c_ndarray\n",
    "\n",
    "\n",
    "# Checking that the function catches some edge cases \n",
    "print(compute_matmul(d_ndarray, e_ndarray))"
   ]
  },
  {
   "cell_type": "markdown",
   "id": "c76a1ff0",
   "metadata": {},
   "source": [
    "## Problem Six: Transposition"
   ]
  },
  {
   "cell_type": "code",
   "execution_count": null,
   "id": "e36bdf2f",
   "metadata": {},
   "outputs": [],
   "source": [
    "# transposing e_ndarray matrix to make the matrices compatible for matrix multiplication\n",
    "\n",
    "compute_matmul(d_ndarray, e_ndarray.transpose())"
   ]
  }
 ],
 "metadata": {
  "kernelspec": {
   "display_name": "Python 3 (ipykernel)",
   "language": "python",
   "name": "python3"
  },
  "language_info": {
   "codemirror_mode": {
    "name": "ipython",
    "version": 3
   },
   "file_extension": ".py",
   "mimetype": "text/x-python",
   "name": "python",
   "nbconvert_exporter": "python",
   "pygments_lexer": "ipython3",
   "version": "3.9.13"
  }
 },
 "nbformat": 4,
 "nbformat_minor": 5
}
