{
 "cells": [
  {
   "cell_type": "code",
   "execution_count": 1,
   "id": "3478d704-54cc-4ff8-9e44-26435b4b1a8c",
   "metadata": {
    "id": "3478d704-54cc-4ff8-9e44-26435b4b1a8c"
   },
   "outputs": [
    {
     "name": "stderr",
     "output_type": "stream",
     "text": [
      "2024-07-13 19:36:03.353364: I tensorflow/core/platform/cpu_feature_guard.cc:210] This TensorFlow binary is optimized to use available CPU instructions in performance-critical operations.\n",
      "To enable the following instructions: AVX2 FMA, in other operations, rebuild TensorFlow with the appropriate compiler flags.\n"
     ]
    }
   ],
   "source": [
    "import numpy as np\n",
    "import pandas as pd\n",
    "from keras.datasets import mnist\n",
    "import matplotlib.pyplot as plt\n",
    "from sklearn.model_selection import train_test_split\n",
    "from sklearn.metrics import accuracy_score\n",
    "from sklearn.preprocessing import OneHotEncoder"
   ]
  },
  {
   "cell_type": "markdown",
   "id": "71650a7f-6675-4256-9dc3-01dd21dda43c",
   "metadata": {},
   "source": [
    "## Problem One: Classifying fully connected layers"
   ]
  },
  {
   "cell_type": "code",
   "execution_count": 2,
   "id": "15fb5f37-ddc3-457e-8d7f-7f5905002903",
   "metadata": {},
   "outputs": [],
   "source": [
    "class FC:\n",
    "    def __init__(self, n_nodes1, n_nodes2, initializer, optimizer):\n",
    "        self.n_nodes1 = n_nodes1\n",
    "        self.n_nodes2 = n_nodes2\n",
    "        self.W = initializer.W(self.n_nodes1, self.n_nodes2)\n",
    "        self.B = initializer.B(self.n_nodes2)\n",
    "        self.optimizer = optimizer\n",
    "        self.HW = 0\n",
    "        self.HB = 0\n",
    "\n",
    "    def forward(self, X):\n",
    "        self.Z = X\n",
    "        self.A = X @ self.W + self.B\n",
    "        return self.A\n",
    "\n",
    "    def backward(self, dA):\n",
    "        self.dB = np.sum(dA, axis=0)\n",
    "        self.dW = self.Z.T @ dA\n",
    "        self.dZ = dA @ self.W.T\n",
    "        self = self.optimizer.update(self)\n",
    "        return self.dZ"
   ]
  },
  {
   "cell_type": "markdown",
   "id": "3c13775c-0626-4c29-86cd-9f64f516a9f9",
   "metadata": {},
   "source": [
    "## Problem Two: Classifying the initialization method"
   ]
  },
  {
   "cell_type": "code",
   "execution_count": 3,
   "id": "d02ed38a-d9d0-49df-94a8-57f76f3ea22d",
   "metadata": {},
   "outputs": [],
   "source": [
    "class SimpleInitializer:\n",
    "    def __init__(self, sigma):\n",
    "        self.sigma = sigma\n",
    "\n",
    "    def W(self, n_nodes1, n_nodes2):\n",
    "        return self.sigma * np.random.randn(n_nodes1, n_nodes2)\n",
    "\n",
    "    def B(self, n_nodes2):\n",
    "        return self.sigma * np.random.randn(1, n_nodes2)"
   ]
  },
  {
   "cell_type": "markdown",
   "id": "69a23c33-3330-4271-b8cf-562cc60a17e4",
   "metadata": {},
   "source": [
    "## Problem Three: Classifying optimization methods"
   ]
  },
  {
   "cell_type": "code",
   "execution_count": 4,
   "id": "5c137c2b-f7f3-4a92-ae92-a497d5031a06",
   "metadata": {},
   "outputs": [],
   "source": [
    "class SGD:\n",
    "    def __init__(self, lr):\n",
    "        self.lr = lr\n",
    "\n",
    "    def update(self, layer):\n",
    "        layer.W -= self.lr * layer.dW / len(layer.Z)\n",
    "        layer.B -= self.lr * layer.dB / len(layer.Z)\n",
    "        return layer"
   ]
  },
  {
   "cell_type": "markdown",
   "id": "76f600db-893f-4597-aff7-5f95e2a1a388",
   "metadata": {},
   "source": [
    "## Problem Four: Classifying activation functions"
   ]
  },
  {
   "cell_type": "code",
   "execution_count": 5,
   "id": "tmMSE-Nw__uR",
   "metadata": {
    "id": "tmMSE-Nw__uR"
   },
   "outputs": [],
   "source": [
    "class Sigmoid:\n",
    "\n",
    "    def forward(self, A):\n",
    "        self.A = A\n",
    "        Z = 1 / (1 + np.exp(-self.A))\n",
    "        return Z\n",
    "\n",
    "    def backward(self, dZ):\n",
    "        dA = dZ * ((1 / (1 + np.exp(-self.A))) - (1 / (1 + np.exp(-self.A)))**2)\n",
    "        return dA"
   ]
  },
  {
   "cell_type": "code",
   "execution_count": 6,
   "id": "e17c4a20-b817-4c4d-971b-49327382e07a",
   "metadata": {},
   "outputs": [],
   "source": [
    "class Tanh:\n",
    "    def forward(self, A):\n",
    "        self.A = A\n",
    "        return np.tanh(self.A)\n",
    "\n",
    "    def backward(self, dZ):\n",
    "        return dZ * (1 - np.tanh(self.A)**2)"
   ]
  },
  {
   "cell_type": "code",
   "execution_count": 7,
   "id": "d5f178b9-76da-4503-b2e7-6adde35e0d0f",
   "metadata": {},
   "outputs": [],
   "source": [
    "class softmax:\n",
    "    def forward(self, A):\n",
    "        exp_A = np.exp(A - np.max(A, axis=1, keepdims=True))\n",
    "        return exp_A / np.sum(exp_A, axis=1, keepdims=True)\n",
    "\n",
    "    def backward(self, Z, y):\n",
    "        dA = Z - y\n",
    "        loss = -np.sum(y * np.log(Z + 1e-7)) / len(y)\n",
    "        return dA, loss"
   ]
  },
  {
   "cell_type": "markdown",
   "id": "476a3571-714e-4b2a-ae88-e1407b4b00e0",
   "metadata": {},
   "source": [
    "## Problem Five: ReLU class creation"
   ]
  },
  {
   "cell_type": "code",
   "execution_count": 8,
   "id": "81b89b91-ffc2-413b-b32a-ebfb5f7d3589",
   "metadata": {},
   "outputs": [],
   "source": [
    "class ReLU:\n",
    "    def forward(self, A):\n",
    "        self.A = A\n",
    "        return np.maximum(0, A)\n",
    "\n",
    "    def backward(self, dZ):\n",
    "        return dZ * (self.A > 0)"
   ]
  },
  {
   "cell_type": "markdown",
   "id": "b9044346-21ef-4d4c-b9c9-93b3512fbec8",
   "metadata": {},
   "source": [
    "## Problem: Six Initial value of weight"
   ]
  },
  {
   "cell_type": "code",
   "execution_count": 9,
   "id": "c5bd6667-7a7b-4fd4-8ef7-8b365a9b5b0f",
   "metadata": {},
   "outputs": [],
   "source": [
    "class XavierInitializer:\n",
    "    def __init__(self, sigma=None):\n",
    "        self.sigma = sigma\n",
    "\n",
    "    def W(self, n_nodes1, n_nodes2):\n",
    "        self.sigma = 1 / np.sqrt(n_nodes1)\n",
    "        return self.sigma * np.random.randn(n_nodes1, n_nodes2)\n",
    "\n",
    "    def B(self, n_nodes2):\n",
    "        return np.zeros((1, n_nodes2))"
   ]
  },
  {
   "cell_type": "code",
   "execution_count": 10,
   "id": "cab67033-0ba8-4f4e-baeb-690550762e42",
   "metadata": {},
   "outputs": [],
   "source": [
    "class HeInitializer:\n",
    "    def __init__(self, sigma=None):\n",
    "        self.sigma = sigma\n",
    "\n",
    "    def W(self, n_nodes1, n_nodes2):\n",
    "        self.sigma = np.sqrt(2 / n_nodes1)\n",
    "        return self.sigma * np.random.randn(n_nodes1, n_nodes2)\n",
    "\n",
    "    def B(self, n_nodes2):\n",
    "        return np.zeros((1, n_nodes2))"
   ]
  },
  {
   "cell_type": "markdown",
   "id": "cf4f66e0-c35b-4412-8f62-e029d67e3af1",
   "metadata": {},
   "source": [
    "## Problem Seven: Optimization method"
   ]
  },
  {
   "cell_type": "code",
   "execution_count": 11,
   "id": "98148ab4-ca07-415f-8563-bbdaa92f2ddf",
   "metadata": {},
   "outputs": [],
   "source": [
    "class AdaGrad:\n",
    "    def __init__(self, lr):\n",
    "        self.lr = lr\n",
    "\n",
    "    def update(self, layer):\n",
    "        layer.HW += layer.dW * layer.dW\n",
    "        layer.HB += layer.dB * layer.dB\n",
    "        delta = 1e-7\n",
    "        layer.W -= self.lr * layer.dW / (np.sqrt(layer.HW) + delta) / len(layer.Z)\n",
    "        layer.B -= self.lr * layer.dB / (np.sqrt(layer.HB) + delta) / len(layer.Z)\n",
    "        return layer"
   ]
  },
  {
   "cell_type": "markdown",
   "id": "0d34af30-c348-4882-b592-1711d22b0eb2",
   "metadata": {},
   "source": [
    "## Problem Eight: Class completion"
   ]
  },
  {
   "cell_type": "code",
   "execution_count": 12,
   "id": "bc360080-8313-498f-bec0-c7e4b535bd3d",
   "metadata": {},
   "outputs": [],
   "source": [
    "class GetMiniBatch:\n",
    "    def __init__(self, X, y, batch_size=20, seed=0):\n",
    "        self.batch_size = batch_size\n",
    "        np.random.seed(seed)\n",
    "        shuffle_index = np.random.permutation(np.arange(X.shape[0]))\n",
    "        self._X = X[shuffle_index]\n",
    "        self._y = y[shuffle_index]\n",
    "        self._stop = np.ceil(X.shape[0] / self.batch_size).astype(int)\n",
    "\n",
    "    def __len__(self):\n",
    "        return self._stop\n",
    "\n",
    "    def __getitem__(self, item):\n",
    "        p0 = item * self.batch_size\n",
    "        p1 = (item + 1) * self.batch_size\n",
    "        return self._X[p0:p1], self._y[p0:p1]\n",
    "\n",
    "    def __iter__(self):\n",
    "        self._counter = 0\n",
    "        return self\n",
    "\n",
    "    def __next__(self):\n",
    "        if self._counter >= self._stop:\n",
    "            raise StopIteration()\n",
    "        result = self.__getitem__(self._counter)\n",
    "        self._counter += 1\n",
    "        return result"
   ]
  },
  {
   "cell_type": "code",
   "execution_count": 13,
   "id": "0472c5c0-0295-4466-91b3-f70f34bf546f",
   "metadata": {},
   "outputs": [],
   "source": [
    "class ScratchDeepNeuralNetworkClassifier:\n",
    "    def __init__(self, verbose=False, epoch=1, optimizer=SGD, initializer=HeInitializer, activater=ReLU):\n",
    "        self.verbose = verbose\n",
    "        self.batch_size = 20\n",
    "        self.n_features = 784\n",
    "        self.n_nodes1 = 400\n",
    "        self.n_nodes2 = 200\n",
    "        self.n_output = 10\n",
    "        self.sigma = 0.02\n",
    "        self.lr = 0.5\n",
    "        self.epoch = epoch\n",
    "        self.optimizer = optimizer\n",
    "        self.initializer = initializer\n",
    "        self.activater = activater\n",
    "\n",
    "    def fit(self, X, y, X_val=None, y_val=None):\n",
    "        self.loss_train = []\n",
    "        self.loss_val = []\n",
    "        optimizer = self.optimizer(self.lr)\n",
    "        self.FC1 = FC(self.n_features, self.n_nodes1, self.initializer(self.sigma), optimizer)\n",
    "        self.activation1 = self.activater()\n",
    "        self.FC2 = FC(self.n_nodes1, self.n_nodes2, self.initializer(self.sigma), optimizer)\n",
    "        self.activation2 = self.activater()\n",
    "        self.FC3 = FC(self.n_nodes2, self.n_output, self.initializer(self.sigma), optimizer)\n",
    "        self.activation3 = softmax()\n",
    "\n",
    "        for i in range(self.epoch):\n",
    "            get_mini_batch = GetMiniBatch(X, y, batch_size=self.batch_size, seed=i)\n",
    "            for mini_X, mini_y in get_mini_batch:\n",
    "                A1 = self.FC1.forward(mini_X)\n",
    "                Z1 = self.activation1.forward(A1)\n",
    "                A2 = self.FC2.forward(Z1)\n",
    "                Z2 = self.activation2.forward(A2)\n",
    "                A3 = self.FC3.forward(Z2)\n",
    "                Z3 = self.activation3.forward(A3)\n",
    "                dA3, loss = self.activation3.backward(Z3, mini_y)\n",
    "                dZ2 = self.FC3.backward(dA3)\n",
    "                dA2 = self.activation2.backward(dZ2)\n",
    "                dZ1 = self.FC2.backward(dA2)\n",
    "                dA1 = self.activation1.backward(dZ1)\n",
    "                dZ0 = self.FC1.backward(dA1)\n",
    "\n",
    "            if self.verbose:\n",
    "                A1 = self.FC1.forward(X)\n",
    "                Z1 = self.activation1.forward(A1)\n",
    "                A2 = self.FC2.forward(Z1)\n",
    "                Z2 = self.activation2.forward(A2)\n",
    "                A3 = self.FC3.forward(Z2)\n",
    "                Z3 = self.activation3.forward(A3)\n",
    "                self.loss_train.append(self.activation3.backward(Z3, y)[1])\n",
    "\n",
    "                if X_val is not None:\n",
    "                    A1 = self.FC1.forward(X_val)\n",
    "                    Z1 = self.activation1.forward(A1)\n",
    "                    A2 = self.FC2.forward(Z1)\n",
    "                    Z2 = self.activation2.forward(A2)\n",
    "                    A3 = self.FC3.forward(Z2)\n",
    "                    Z3 = self.activation3.forward(A3)\n",
    "                    self.loss_val.append(self.activation3.backward(Z3, y_val)[1])\n",
    "\n",
    "    def predict(self, X):\n",
    "        A1 = self.FC1.forward(X)\n",
    "        Z1 = self.activation1.forward(A1)\n",
    "        A2 = self.FC2.forward(Z1)\n",
    "        Z2 = self.activation2.forward(A2)\n",
    "        A3 = self.FC3.forward(Z2)\n",
    "        Z3 = self.activation3.forward(A3)\n",
    "        return np.argmax(Z3, axis=1)\n"
   ]
  },
  {
   "cell_type": "markdown",
   "id": "4b965af0-ed20-4503-abbe-c2c134bf88f9",
   "metadata": {},
   "source": [
    "## Problem Nine: Learning and estimation"
   ]
  },
  {
   "cell_type": "code",
   "execution_count": 14,
   "id": "Hb1IIGVzAfNT",
   "metadata": {
    "id": "Hb1IIGVzAfNT"
   },
   "outputs": [],
   "source": [
    "# Load MNIST data\n",
    "(X_train, y_train), (X_test, y_test) = mnist.load_data()\n",
    "\n",
    "# Reshape and normalize the data\n",
    "X_train = X_train.reshape(-1, 784).astype(np.float64) / 255\n",
    "X_test = X_test.reshape(-1, 784).astype(np.float64) / 255\n",
    "\n",
    "# Split the training data into training and validation sets\n",
    "X_train, X_val, y_train, y_val = train_test_split(X_train, y_train, test_size=0.2, random_state=42)\n",
    "\n",
    "# One-hot encoding of the labels after splitting\n",
    "enc = OneHotEncoder(handle_unknown='ignore', sparse_output=False)\n",
    "y_train_one_hot = enc.fit_transform(y_train[:, np.newaxis])\n",
    "y_val_one_hot = enc.transform(y_val[:, np.newaxis])"
   ]
  },
  {
   "cell_type": "code",
   "execution_count": 15,
   "id": "V0usSPqBAtJ-",
   "metadata": {
    "id": "V0usSPqBAtJ-"
   },
   "outputs": [],
   "source": [
    "SDNN = ScratchDeepNeuralNetworkClassifier(verbose=True, epoch=10, optimizer=AdaGrad, initializer=HeInitializer, activater=ReLU)\n",
    "\n",
    "SDNN.fit(X_train, y_train_one_hot, X_val, y_val_one_hot)"
   ]
  },
  {
   "cell_type": "code",
   "execution_count": 16,
   "id": "Wr4HkB24_n5o",
   "metadata": {
    "colab": {
     "base_uri": "https://localhost:8080/"
    },
    "id": "Wr4HkB24_n5o",
    "outputId": "618217d5-891a-42c7-b254-63dc19049a0d"
   },
   "outputs": [
    {
     "data": {
      "text/plain": [
       "0.9811666666666666"
      ]
     },
     "execution_count": 16,
     "metadata": {},
     "output_type": "execute_result"
    }
   ],
   "source": [
    "pred = SDNN.predict(X_val)\n",
    "accuracy_score(y_val, pred)"
   ]
  },
  {
   "cell_type": "code",
   "execution_count": 17,
   "id": "215fe793-dd82-4582-96ff-4ea7031cb69a",
   "metadata": {},
   "outputs": [
    {
     "data": {
      "image/png": "[encoded data removed]",
      "text/plain": [
       "<Figure size 640x480 with 1 Axes>"
      ]
     },
     "metadata": {},
     "output_type": "display_data"
    },
    {
     "data": {
      "image/png": "[encoded data removed]",
      "text/plain": [
       "<Figure size 1000x200 with 5 Axes>"
      ]
     },
     "metadata": {},
     "output_type": "display_data"
    }
   ],
   "source": [
    "# Plot Learning Curve\n",
    "plt.plot(SDNN.loss_train, label='Train Loss')\n",
    "plt.plot(SDNN.loss_val, label='Validation Loss')\n",
    "plt.xlabel('Epochs')\n",
    "plt.ylabel('Loss')\n",
    "plt.title('Learning Curve')\n",
    "plt.legend()\n",
    "plt.show()\n",
    "\n",
    "# Display MNIST Images\n",
    "def display_mnist_images(images, labels, num_images=5):\n",
    "    fig, axes = plt.subplots(1, num_images, figsize=(10, 2))\n",
    "    for i in range(num_images):\n",
    "        axes[i].imshow(images[i], cmap='gray')\n",
    "        axes[i].set_title(f\"Label: {labels[i]}\")\n",
    "        axes[i].axis('off')\n",
    "    plt.show()\n",
    "\n",
    "display_mnist_images(X_train.reshape(-1, 28, 28), y_train, num_images=5)"
   ]
  }
 ],
 "metadata": {
  "colab": {
   "provenance": []
  },
  "kernelspec": {
   "display_name": "Python 3 (ipykernel)",
   "language": "python",
   "name": "python3"
  },
  "language_info": {
   "codemirror_mode": {
    "name": "ipython",
    "version": 3
   },
   "file_extension": ".py",
   "mimetype": "text/x-python",
   "name": "python",
   "nbconvert_exporter": "python",
   "pygments_lexer": "ipython3",
   "version": "3.11.7"
  }
 },
 "nbformat": 4,
 "nbformat_minor": 5
}
